{
 "cells": [
  {
   "cell_type": "code",
   "execution_count": 1,
   "id": "d8d83a8f-26a4-443a-b120-aa7247c8a09f",
   "metadata": {},
   "outputs": [
    {
     "name": "stdout",
     "output_type": "stream",
     "text": [
      "Collecting polara\n",
      "  Cloning https://github.com/evfro/polara.git (to revision develop) to /tmp/pip-install-gvttmx1n/polara_882dc616f41f41fd96f834d36ec7c514\n",
      "  Running command git clone --filter=blob:none -q https://github.com/evfro/polara.git /tmp/pip-install-gvttmx1n/polara_882dc616f41f41fd96f834d36ec7c514\n",
      "  Running command git checkout -b develop --track origin/develop\n",
      "  Switched to a new branch 'develop'\n",
      "  Branch 'develop' set up to track remote branch 'develop' from 'origin'.\n",
      "  Resolved https://github.com/evfro/polara.git to commit ef7a5360e3f9793f4f0fdd4f31e32399d2e52069\n",
      "  Preparing metadata (setup.py) ... \u001b[?25ldone\n",
      "\u001b[?25hBuilding wheels for collected packages: polara\n",
      "  Building wheel for polara (setup.py) ... \u001b[?25ldone\n",
      "\u001b[?25h  Created wheel for polara: filename=polara-0.7.2.dev0-py3-none-any.whl size=89444 sha256=841aa40983b1d68bf2bfba6bab6d582e071529b6229a4d24e49d21e19234724a\n",
      "  Stored in directory: /tmp/pip-ephem-wheel-cache-ek2qng66/wheels/19/88/81/920c4189a6b0b92f19b02f18fcb44ded22ae852f7b09ab2e28\n",
      "Successfully built polara\n",
      "Installing collected packages: polara\n",
      "Successfully installed polara-0.7.2.dev0\n"
     ]
    }
   ],
   "source": [
    "!pip install --no-cache-dir --upgrade git+https://github.com/evfro/polara.git@develop#egg=polara"
   ]
  },
  {
   "cell_type": "code",
   "execution_count": 8,
   "id": "b4708090-952e-46e8-8cb2-4ebb19ed6b10",
   "metadata": {},
   "outputs": [
    {
     "name": "stdout",
     "output_type": "stream",
     "text": [
      "Defaulting to user installation because normal site-packages is not writeable\n",
      "Requirement already satisfied: numba in /home/jovyan/.local/lib/python3.11/site-packages (0.60.0)\n",
      "Requirement already satisfied: llvmlite<0.44,>=0.43.0dev0 in /home/jovyan/.local/lib/python3.11/site-packages (from numba) (0.43.0)\n",
      "Requirement already satisfied: numpy<2.1,>=1.22 in /usr/local/lib/python3.11/dist-packages (from numba) (1.26.4)\n",
      "\n",
      "\u001b[1m[\u001b[0m\u001b[34;49mnotice\u001b[0m\u001b[1;39;49m]\u001b[0m\u001b[39;49m A new release of pip is available: \u001b[0m\u001b[31;49m24.2\u001b[0m\u001b[39;49m -> \u001b[0m\u001b[32;49m24.3.1\u001b[0m\n",
      "\u001b[1m[\u001b[0m\u001b[34;49mnotice\u001b[0m\u001b[1;39;49m]\u001b[0m\u001b[39;49m To update, run: \u001b[0m\u001b[32;49mpython3.11 -m pip install --upgrade pip\u001b[0m\n"
     ]
    }
   ],
   "source": [
    "!pip3 install numba"
   ]
  },
  {
   "cell_type": "code",
   "execution_count": 3,
   "id": "f6ed37e2-ff04-4df5-b455-195642c99909",
   "metadata": {},
   "outputs": [
    {
     "name": "stdout",
     "output_type": "stream",
     "text": [
      "Collecting clearml\n",
      "  Using cached clearml-1.16.5-py2.py3-none-any.whl (1.2 MB)\n",
      "Requirement already satisfied: psutil>=3.4.2 in /home/user/conda/lib/python3.7/site-packages (from clearml) (5.9.0)\n",
      "Requirement already satisfied: Pillow>=4.1.1 in /home/user/conda/lib/python3.7/site-packages (from clearml) (9.0.0)\n",
      "Requirement already satisfied: PyYAML>=3.12 in /home/user/conda/lib/python3.7/site-packages (from clearml) (6.0)\n",
      "Requirement already satisfied: pyparsing>=2.0.3 in /home/user/conda/lib/python3.7/site-packages (from clearml) (3.0.7)\n",
      "Requirement already satisfied: python-dateutil>=2.6.1 in /home/user/conda/lib/python3.7/site-packages (from clearml) (2.8.2)\n",
      "Collecting furl>=2.0.0\n",
      "  Using cached furl-2.1.3-py2.py3-none-any.whl (20 kB)\n",
      "Collecting pathlib2>=2.3.0\n",
      "  Using cached pathlib2-2.3.7.post1-py2.py3-none-any.whl (18 kB)\n",
      "Requirement already satisfied: urllib3>=1.21.1 in /home/user/conda/lib/python3.7/site-packages (from clearml) (1.26.8)\n",
      "Requirement already satisfied: numpy>=1.10 in /home/user/conda/lib/python3.7/site-packages (from clearml) (1.21.5)\n",
      "Requirement already satisfied: attrs>=18.0 in /home/user/conda/lib/python3.7/site-packages (from clearml) (21.4.0)\n",
      "Requirement already satisfied: requests>=2.20.0 in /home/user/conda/lib/python3.7/site-packages (from clearml) (2.27.1)\n",
      "Requirement already satisfied: six>=1.16.0 in /home/user/conda/lib/python3.7/site-packages (from clearml) (1.16.0)\n",
      "Requirement already satisfied: jsonschema>=2.6.0 in /home/user/conda/lib/python3.7/site-packages (from clearml) (4.4.0)\n",
      "Collecting pyjwt<2.9.0,>=2.4.0\n",
      "  Using cached PyJWT-2.8.0-py3-none-any.whl (22 kB)\n",
      "Collecting orderedmultidict>=1.0.1\n",
      "  Using cached orderedmultidict-1.0.1-py2.py3-none-any.whl (11 kB)\n",
      "Requirement already satisfied: pyrsistent!=0.17.0,!=0.17.1,!=0.17.2,>=0.14.0 in /home/user/conda/lib/python3.7/site-packages (from jsonschema>=2.6.0->clearml) (0.18.1)\n",
      "Requirement already satisfied: importlib-metadata in /home/user/conda/lib/python3.7/site-packages (from jsonschema>=2.6.0->clearml) (4.10.1)\n",
      "Requirement already satisfied: importlib-resources>=1.4.0 in /home/user/conda/lib/python3.7/site-packages (from jsonschema>=2.6.0->clearml) (5.4.0)\n",
      "Requirement already satisfied: typing-extensions in /home/user/conda/lib/python3.7/site-packages (from jsonschema>=2.6.0->clearml) (4.0.1)\n",
      "Requirement already satisfied: idna<4,>=2.5 in /home/user/conda/lib/python3.7/site-packages (from requests>=2.20.0->clearml) (3.3)\n",
      "Requirement already satisfied: certifi>=2017.4.17 in /home/user/conda/lib/python3.7/site-packages (from requests>=2.20.0->clearml) (2021.10.8)\n",
      "Requirement already satisfied: charset-normalizer~=2.0.0 in /home/user/conda/lib/python3.7/site-packages (from requests>=2.20.0->clearml) (2.0.10)\n",
      "Requirement already satisfied: zipp>=3.1.0 in /home/user/conda/lib/python3.7/site-packages (from importlib-resources>=1.4.0->jsonschema>=2.6.0->clearml) (3.7.0)\n",
      "Installing collected packages: orderedmultidict, pyjwt, pathlib2, furl, clearml\n",
      "  Attempting uninstall: pyjwt\n",
      "    Found existing installation: PyJWT 2.3.0\n",
      "    Uninstalling PyJWT-2.3.0:\n",
      "      Successfully uninstalled PyJWT-2.3.0\n",
      "Successfully installed clearml-1.16.5 furl-2.1.3 orderedmultidict-1.0.1 pathlib2-2.3.7.post1 pyjwt-2.8.0\n"
     ]
    }
   ],
   "source": [
    "!pip install clearml"
   ]
  },
  {
   "cell_type": "code",
   "execution_count": 4,
   "id": "c9590c34-9fc3-4ab5-9c1e-78e6385a44c2",
   "metadata": {},
   "outputs": [
    {
     "name": "stdout",
     "output_type": "stream",
     "text": [
      "Collecting hydra-core\n",
      "  Using cached hydra_core-1.3.2-py3-none-any.whl (154 kB)\n",
      "Requirement already satisfied: packaging in /home/user/conda/lib/python3.7/site-packages (from hydra-core) (21.3)\n",
      "Collecting omegaconf<2.4,>=2.2\n",
      "  Using cached omegaconf-2.3.0-py3-none-any.whl (79 kB)\n",
      "Collecting antlr4-python3-runtime==4.9.*\n",
      "  Using cached antlr4_python3_runtime-4.9.3-py3-none-any.whl\n",
      "Requirement already satisfied: importlib-resources in /home/user/conda/lib/python3.7/site-packages (from hydra-core) (5.4.0)\n",
      "Requirement already satisfied: PyYAML>=5.1.0 in /home/user/conda/lib/python3.7/site-packages (from omegaconf<2.4,>=2.2->hydra-core) (6.0)\n",
      "Requirement already satisfied: zipp>=3.1.0 in /home/user/conda/lib/python3.7/site-packages (from importlib-resources->hydra-core) (3.7.0)\n",
      "Requirement already satisfied: pyparsing!=3.0.5,>=2.0.2 in /home/user/conda/lib/python3.7/site-packages (from packaging->hydra-core) (3.0.7)\n",
      "Installing collected packages: antlr4-python3-runtime, omegaconf, hydra-core\n",
      "Successfully installed antlr4-python3-runtime-4.9.3 hydra-core-1.3.2 omegaconf-2.3.0\n"
     ]
    }
   ],
   "source": [
    " !pip install hydra-core "
   ]
  },
  {
   "cell_type": "code",
   "execution_count": 5,
   "id": "7b38d57f-fce2-4f13-a52e-063932aca9fa",
   "metadata": {},
   "outputs": [
    {
     "name": "stdout",
     "output_type": "stream",
     "text": [
      "Requirement already satisfied: omegaconf in /home/jovyan/.imgenv-zvuk-hse-0/lib/python3.7/site-packages (2.3.0)\n",
      "Requirement already satisfied: PyYAML>=5.1.0 in /home/user/conda/lib/python3.7/site-packages (from omegaconf) (6.0)\n",
      "Requirement already satisfied: antlr4-python3-runtime==4.9.* in /home/jovyan/.imgenv-zvuk-hse-0/lib/python3.7/site-packages (from omegaconf) (4.9.3)\n"
     ]
    }
   ],
   "source": [
    "!pip install omegaconf"
   ]
  },
  {
   "cell_type": "code",
   "execution_count": 9,
   "id": "8b2436d7-7c88-4bf4-9525-d365461c336d",
   "metadata": {
    "collapsed": true,
    "jupyter": {
     "outputs_hidden": true
    },
    "tags": []
   },
   "outputs": [
    {
     "name": "stdout",
     "output_type": "stream",
     "text": [
      "does-it-split/\n",
      "does-it-split/data/\n",
      "does-it-split/data/Movielens.csv\n",
      "does-it-split/data/.ipynb_checkpoints/\n",
      "does-it-split/runs/\n",
      "does-it-split/runs/conf/\n",
      "does-it-split/runs/conf/rules.yaml\n",
      "does-it-split/runs/conf/prepr/\n",
      "does-it-split/runs/conf/prepr/prepr.yaml\n",
      "does-it-split/runs/conf/prepr/.ipynb_checkpoints/\n",
      "does-it-split/runs/conf/prepr/.ipynb_checkpoints/prepr-checkpoint.yaml\n",
      "does-it-split/runs/conf/statistic_test.yaml\n",
      "does-it-split/runs/conf/datasets_info/\n",
      "does-it-split/runs/conf/datasets_info/Movielens-20.yaml\n",
      "does-it-split/runs/conf/datasets_info/Yelp.yaml\n",
      "does-it-split/runs/conf/datasets_info/Games.yaml\n",
      "does-it-split/runs/conf/datasets_info/Steam.yaml\n",
      "does-it-split/runs/conf/datasets_info/Diginetica.yaml\n",
      "does-it-split/runs/conf/datasets_info/Gowalla.yaml\n",
      "does-it-split/runs/conf/datasets_info/Zvuk.yaml\n",
      "does-it-split/runs/conf/datasets_info/Otto.yaml\n",
      "does-it-split/runs/conf/datasets_info/Movielens.yaml\n",
      "does-it-split/runs/conf/datasets_info/30Music.yaml\n",
      "does-it-split/runs/conf/datasets_info/.ipynb_checkpoints/\n",
      "does-it-split/runs/conf/datasets_info/.ipynb_checkpoints/Movielens-checkpoint.yaml\n",
      "does-it-split/runs/conf/datasets_info/.ipynb_checkpoints/Zvuk-checkpoint.yaml\n",
      "does-it-split/runs/conf/datasets_info/.ipynb_checkpoints/Movielens-20-checkpoint.yaml\n",
      "does-it-split/runs/conf/datasets_info/Retailrocket.yaml\n",
      "does-it-split/runs/conf/datasets_info/Yoochoose.yaml\n",
      "does-it-split/runs/conf/datasets_info/Smm.yaml\n",
      "does-it-split/runs/conf/datasets_info/Foursquare.yaml\n",
      "does-it-split/runs/conf/datasets_info/Sports.yaml\n",
      "does-it-split/runs/conf/datasets_info/Beauty.yaml\n",
      "does-it-split/runs/conf/statistics.yaml\n",
      "does-it-split/runs/conf/splitter/\n",
      "does-it-split/runs/conf/splitter/splitter.yaml\n",
      "does-it-split/runs/conf/splitter/.ipynb_checkpoints/\n",
      "does-it-split/runs/conf/splitter/.ipynb_checkpoints/splitter-checkpoint.yaml\n",
      "does-it-split/runs/conf/.ipynb_checkpoints/\n",
      "does-it-split/runs/conf/.ipynb_checkpoints/training-checkpoint.yaml\n",
      "does-it-split/runs/conf/.ipynb_checkpoints/statistics-checkpoint.yaml\n",
      "does-it-split/runs/conf/model/\n",
      "does-it-split/runs/conf/model/SASRec.yaml\n",
      "does-it-split/runs/conf/model/GRU4Rec.yaml\n",
      "does-it-split/runs/conf/model/.ipynb_checkpoints/\n",
      "does-it-split/runs/conf/model/.ipynb_checkpoints/SASRecBCE-checkpoint.yaml\n",
      "does-it-split/runs/conf/model/.ipynb_checkpoints/SASRec-checkpoint.yaml\n",
      "does-it-split/runs/conf/model/SASRecBCE.yaml\n",
      "does-it-split/runs/conf/training.yaml\n",
      "does-it-split/runs/rule.py\n",
      "does-it-split/runs/rule.sh\n",
      "does-it-split/runs/statistic_test.sh\n",
      "does-it-split/runs/GRU4Rec.sh\n",
      "does-it-split/runs/SASRec.sh\n",
      "does-it-split/runs/statistics.py\n",
      "does-it-split/runs/.ipynb_checkpoints/\n",
      "does-it-split/runs/.ipynb_checkpoints/dl-checkpoint.py\n",
      "does-it-split/runs/.ipynb_checkpoints/SASRec-checkpoint.sh\n",
      "does-it-split/runs/.ipynb_checkpoints/get_splitting-checkpoint.py\n",
      "does-it-split/runs/outputs/\n",
      "does-it-split/runs/outputs/.ipynb_checkpoints/\n",
      "does-it-split/runs/statistic_test.py\n",
      "does-it-split/runs/dl.py\n",
      "does-it-split/runs/statistics.sh\n",
      "does-it-split/runs/get_splitting.py\n",
      "does-it-split/nn/\n",
      "does-it-split/nn/datasets.py\n",
      "does-it-split/nn/modules.py\n",
      "does-it-split/nn/__pycache__/\n",
      "does-it-split/nn/__pycache__/postprocess.cpython-310.pyc\n",
      "does-it-split/nn/__pycache__/datasets.cpython-310.pyc\n",
      "does-it-split/nn/__pycache__/models.cpython-310.pyc\n",
      "does-it-split/nn/__pycache__/metrics.cpython-310.pyc\n",
      "does-it-split/nn/__pycache__/modules.cpython-310.pyc\n",
      "does-it-split/nn/metrics.py\n",
      "does-it-split/nn/.ipynb_checkpoints/\n",
      "does-it-split/nn/.ipynb_checkpoints/modules-checkpoint.py\n",
      "does-it-split/nn/models.py\n",
      "does-it-split/nn/postprocess.py\n",
      "does-it-split/visualizations/\n",
      "does-it-split/visualizations/heatmap.png\n",
      "does-it-split/visualizations/Scatter_plot_GRU.png\n",
      "does-it-split/visualizations/Scatter_plot_SasRec.png\n",
      "does-it-split/stats/\n",
      "does-it-split/stats/data_statistics.py\n",
      "does-it-split/stats/__pycache__/\n",
      "does-it-split/stats/__pycache__/jaccard.cpython-310.pyc\n",
      "does-it-split/stats/jaccard.py\n",
      "does-it-split/stats/rules.py\n",
      "does-it-split/stats/stat_test.py\n",
      "does-it-split/requirements.txt\n",
      "does-it-split/notebooks/\n",
      "does-it-split/notebooks/count_metrics.ipynb\n",
      "does-it-split/README.md\n",
      "does-it-split/.ipynb_checkpoints/\n",
      "does-it-split/.ipynb_checkpoints/requirements-checkpoint.txt\n",
      "does-it-split/.ipynb_checkpoints/Untitled-checkpoint.ipynb\n",
      "does-it-split/Untitled.ipynb\n",
      "does-it-split/preprocessing/\n",
      "does-it-split/preprocessing/preprocessing.py\n",
      "does-it-split/preprocessing/__pycache__/\n",
      "does-it-split/preprocessing/__pycache__/splitter.cpython-310.pyc\n",
      "does-it-split/preprocessing/__pycache__/preprocessing.cpython-310.pyc\n",
      "does-it-split/preprocessing/__pycache__/preparation.cpython-310.pyc\n",
      "does-it-split/preprocessing/.ipynb_checkpoints/\n",
      "does-it-split/preprocessing/.ipynb_checkpoints/preparation-checkpoint.py\n",
      "does-it-split/preprocessing/.ipynb_checkpoints/preprocessing-checkpoint.py\n",
      "does-it-split/preprocessing/splitter.py\n",
      "does-it-split/preprocessing/preparation.py\n",
      "does-it-split/datasets/\n",
      "does-it-split/datasets/Seq_datasets.xlsx\n",
      "does-it-split/datasets/README.md\n",
      "does-it-split/datasets/Dataset_info.xlsx\n",
      "does-it-split/datasets/datasets_rank.xlsx\n"
     ]
    }
   ],
   "source": [
    "!tar -xvzf ../does-it-split.tar.gz"
   ]
  },
  {
   "cell_type": "code",
   "execution_count": 5,
   "id": "1ce0130c-9ee8-4497-b999-97788bd983f7",
   "metadata": {},
   "outputs": [
    {
     "name": "stdout",
     "output_type": "stream",
     "text": [
      "The autoreload extension is already loaded. To reload it, use:\n",
      "  %reload_ext autoreload\n"
     ]
    }
   ],
   "source": [
    "%load_ext autoreload\n",
    "%autoreload 2\n",
    "    \n",
    "from data import get_dataset, data_to_sequences, data_to_ratequences, data_to_ratequences_splitted, data_to_ratequences_splitted_hist\n",
    "from eval_utils import sasrec_model_scoring\n",
    "\n",
    "from time import time\n",
    "from functools import reduce\n",
    "import uuid\n",
    "from tqdm import tqdm\n",
    "import os\n",
    "\n",
    "import numpy as np\n",
    "import pandas as pd\n",
    "import torch\n",
    "from torch.utils.data import DataLoader\n",
    "\n",
    "from model import SASRec\n",
    "from data import get_dataset, data_to_sequences, SequentialDataset\n",
    "from utils import topn_recommendations, downvote_seen_items\n",
    "from eval_utils import model_evaluate, sasrec_model_scoring, get_test_scores\n",
    "from new_split.preprocessing.preprocessing import preprocessing\n",
    "\n",
    "#from sklearn.linear_model import LogisticRegression\n",
    "from train import build_sasrec_model\n",
    "\n",
    "from typing import Dict\n",
    "from typing import Optional\n",
    "from typing import Union\n",
    "\n",
    "from sklearn.utils import check_random_state\n",
    "\n",
    "import matplotlib.pyplot as plt\n",
    "import pickle\n",
    "import pyarrow.parquet as pq\n",
    "import datetime\n",
    "\n",
    "#from metrics import Evaluator\n",
    "from polara import get_movielens_data \n",
    "from polara.preprocessing.dataframes import reindex, leave_one_out\n",
    "\n",
    "from rl_ope.utils import prepare_svd\n",
    "\n",
    "# os.environ['CUDA_VISIBLE_DEVICES'] = '2'\n",
    "device='cuda:1'"
   ]
  },
  {
   "cell_type": "code",
   "execution_count": 6,
   "id": "8228133f-465b-43db-b999-dfd368f55838",
   "metadata": {},
   "outputs": [
    {
     "data": {
      "text/plain": [
       "True"
      ]
     },
     "execution_count": 6,
     "metadata": {},
     "output_type": "execute_result"
    }
   ],
   "source": [
    "torch.cuda.is_available()"
   ]
  },
  {
   "cell_type": "code",
   "execution_count": 8,
   "id": "c22e7ee6-4b6e-4661-ab75-e501a6a109ce",
   "metadata": {},
   "outputs": [
    {
     "name": "stdout",
     "output_type": "stream",
     "text": [
      "Sequential(\n",
      "  (0): Linear(in_features=128, out_features=512, bias=True)\n",
      "  (1): ReLU()\n",
      "  (2): Linear(in_features=512, out_features=512, bias=True)\n",
      "  (3): ReLU()\n",
      "  (4): Linear(in_features=512, out_features=240000, bias=True)\n",
      ")\n",
      "<generator object Module.modules at 0x7feee8becdd0>\n",
      "0\n",
      "Layer 0: L2 Norm of weights = 13.0551\n",
      "2\n",
      "Layer 2: L2 Norm of weights = 13.0479\n",
      "4\n",
      "Layer 4: L2 Norm of weights = 282.7120\n"
     ]
    }
   ],
   "source": [
    "import torch.nn as nn\n",
    "\n",
    "model = nn.Sequential(\n",
    "            nn.Linear(128, 512),\n",
    "            nn.ReLU(),\n",
    "            nn.Linear(512, 512),\n",
    "            nn.ReLU(),\n",
    "            nn.Linear(512, 240000)\n",
    "        )\n",
    "\n",
    "for name, layer in model.named_modules():\n",
    "    if isinstance(layer, nn.Linear):\n",
    "        print(name)\n",
    "        weight_norm = torch.norm(layer.weight, p=2)\n",
    "        print(f\"Layer {name}: L2 Norm of weights = {weight_norm.item():.4f}\")"
   ]
  },
  {
   "cell_type": "code",
   "execution_count": 3,
   "id": "de067aca-0db7-4d0e-8923-9f7b8780b1e3",
   "metadata": {},
   "outputs": [],
   "source": [
    "import random\n",
    "all_actions = np.arange(250000)\n",
    "state_seq = np.arange(100)\n",
    "allowed_actions = all_actions[~np.isin(all_actions, state_seq)]"
   ]
  },
  {
   "cell_type": "code",
   "execution_count": 4,
   "id": "cc35c3bf-9bc9-4c5b-a2de-55e234201925",
   "metadata": {},
   "outputs": [
    {
     "name": "stdout",
     "output_type": "stream",
     "text": [
      "65 µs ± 448 ns per loop (mean ± std. dev. of 7 runs, 10000 loops each)\n"
     ]
    }
   ],
   "source": [
    "%%timeit\n",
    "\n",
    "actions_neg = random.sample(range(250000), k=100)\n",
    "# actions_neg = np.random.randint(250000, size=(8, 100))\n",
    "# actions_neg = np.random.choice(all_actions, 100, replace=False)"
   ]
  },
  {
   "cell_type": "code",
   "execution_count": 10,
   "id": "1765bc67-e6e0-44c3-8efc-e17e417228f7",
   "metadata": {},
   "outputs": [
    {
     "data": {
      "text/plain": [
       "torch.Size([32, 10, 128])"
      ]
     },
     "execution_count": 10,
     "metadata": {},
     "output_type": "execute_result"
    }
   ],
   "source": [
    "a = torch.randn(32, 128)\n",
    "\n",
    "a.unsqueeze(1).expand(-1, 10, 128).shape"
   ]
  },
  {
   "cell_type": "markdown",
   "id": "cccea5e8-29f5-45fa-9b36-dbeb5406a4ed",
   "metadata": {
    "editable": true,
    "slideshow": {
     "slide_type": ""
    },
    "tags": []
   },
   "source": [
    "## Data"
   ]
  },
  {
   "cell_type": "code",
   "execution_count": 3,
   "id": "f837d5bb-5505-4d85-933e-435b747b2f3d",
   "metadata": {},
   "outputs": [],
   "source": [
    "# должны быть колонки userid, itemid, timestamp\n",
    "#dataset = 'None' # сначала на мл1 попробуй запустить\n",
    "dataset = pd.read_parquet('../zvuk_datasets/zvuk_1day_clickstream_210924_with_timestamp.parquet', engine='auto')\n",
    "# dataset = pq.read_table('../zvuk_datasets/zvuk_clickstream_40days_with_timestamp.parquet',\n",
    "                         # columns=['user_id', 'track_id', 'timestamp', 'playevent_play_duration', 'day'])"
   ]
  },
  {
   "cell_type": "code",
   "execution_count": 5,
   "id": "e95ddd1e-b6dc-4e8a-bc97-3f2959ca4bb8",
   "metadata": {},
   "outputs": [
    {
     "data": {
      "text/plain": [
       "Index(['src_id', 'day', 'user_id', 'timestamp', 'track_id', 'app',\n",
       "       'playevent_play_duration', 'src_type', 'subscription_type', 'editor_id',\n",
       "       'event_from_recommendation', 'group'],\n",
       "      dtype='object')"
      ]
     },
     "execution_count": 5,
     "metadata": {},
     "output_type": "execute_result"
    }
   ],
   "source": [
    "dataset.columns"
   ]
  },
  {
   "cell_type": "code",
   "execution_count": null,
   "id": "7c5bcbfa-4807-4a03-8fd0-9fac4649ef66",
   "metadata": {},
   "outputs": [],
   "source": [
    "dataset = dataset.to_pandas()"
   ]
  },
  {
   "cell_type": "code",
   "execution_count": null,
   "id": "2e10a938-9490-40fc-a232-d5c0d74b2a0c",
   "metadata": {},
   "outputs": [],
   "source": [
    "dataset.shape"
   ]
  },
  {
   "cell_type": "code",
   "execution_count": null,
   "id": "70dbd8d4-4c9a-492e-a97e-6206aa5bc602",
   "metadata": {},
   "outputs": [],
   "source": [
    "dataset = dataset[dataset['timestamp'] >= 1e15]"
   ]
  },
  {
   "cell_type": "code",
   "execution_count": null,
   "id": "12b87b42-7670-4e66-b020-4cdda5d2299b",
   "metadata": {},
   "outputs": [],
   "source": [
    "dataset.shape"
   ]
  },
  {
   "cell_type": "code",
   "execution_count": 8,
   "id": "ebc51b61-6e77-4601-8bb8-e61fbf8725d3",
   "metadata": {},
   "outputs": [
    {
     "data": {
      "text/html": [
       "<div>\n",
       "<style scoped>\n",
       "    .dataframe tbody tr th:only-of-type {\n",
       "        vertical-align: middle;\n",
       "    }\n",
       "\n",
       "    .dataframe tbody tr th {\n",
       "        vertical-align: top;\n",
       "    }\n",
       "\n",
       "    .dataframe thead th {\n",
       "        text-align: right;\n",
       "    }\n",
       "</style>\n",
       "<table border=\"1\" class=\"dataframe\">\n",
       "  <thead>\n",
       "    <tr style=\"text-align: right;\">\n",
       "      <th></th>\n",
       "      <th>user_id</th>\n",
       "      <th>track_id</th>\n",
       "      <th>timestamp</th>\n",
       "      <th>playevent_play_duration</th>\n",
       "      <th>day</th>\n",
       "    </tr>\n",
       "  </thead>\n",
       "  <tbody>\n",
       "    <tr>\n",
       "      <th>0</th>\n",
       "      <td>479071</td>\n",
       "      <td>115025877.0</td>\n",
       "      <td>1.727867e+15</td>\n",
       "      <td>1</td>\n",
       "      <td>2024-10-02</td>\n",
       "    </tr>\n",
       "    <tr>\n",
       "      <th>1</th>\n",
       "      <td>479071</td>\n",
       "      <td>138206302.0</td>\n",
       "      <td>1.727867e+15</td>\n",
       "      <td>1</td>\n",
       "      <td>2024-10-02</td>\n",
       "    </tr>\n",
       "    <tr>\n",
       "      <th>2</th>\n",
       "      <td>479071</td>\n",
       "      <td>129898539.0</td>\n",
       "      <td>1.727867e+15</td>\n",
       "      <td>1</td>\n",
       "      <td>2024-10-02</td>\n",
       "    </tr>\n",
       "    <tr>\n",
       "      <th>3</th>\n",
       "      <td>479071</td>\n",
       "      <td>58553470.0</td>\n",
       "      <td>1.727867e+15</td>\n",
       "      <td>1</td>\n",
       "      <td>2024-10-02</td>\n",
       "    </tr>\n",
       "    <tr>\n",
       "      <th>4</th>\n",
       "      <td>479071</td>\n",
       "      <td>120470213.0</td>\n",
       "      <td>1.727868e+15</td>\n",
       "      <td>1</td>\n",
       "      <td>2024-10-02</td>\n",
       "    </tr>\n",
       "    <tr>\n",
       "      <th>...</th>\n",
       "      <td>...</td>\n",
       "      <td>...</td>\n",
       "      <td>...</td>\n",
       "      <td>...</td>\n",
       "      <td>...</td>\n",
       "    </tr>\n",
       "    <tr>\n",
       "      <th>725410289</th>\n",
       "      <td>1187140</td>\n",
       "      <td>137159381.0</td>\n",
       "      <td>1.728091e+15</td>\n",
       "      <td>3</td>\n",
       "      <td>2024-10-05</td>\n",
       "    </tr>\n",
       "    <tr>\n",
       "      <th>725410290</th>\n",
       "      <td>1187140</td>\n",
       "      <td>137159381.0</td>\n",
       "      <td>1.728091e+15</td>\n",
       "      <td>3</td>\n",
       "      <td>2024-10-05</td>\n",
       "    </tr>\n",
       "    <tr>\n",
       "      <th>725410291</th>\n",
       "      <td>1187140</td>\n",
       "      <td>57910930.0</td>\n",
       "      <td>1.728091e+15</td>\n",
       "      <td>79</td>\n",
       "      <td>2024-10-05</td>\n",
       "    </tr>\n",
       "    <tr>\n",
       "      <th>725410292</th>\n",
       "      <td>1187140</td>\n",
       "      <td>91700885.0</td>\n",
       "      <td>1.728091e+15</td>\n",
       "      <td>5</td>\n",
       "      <td>2024-10-05</td>\n",
       "    </tr>\n",
       "    <tr>\n",
       "      <th>725410293</th>\n",
       "      <td>1187140</td>\n",
       "      <td>57670385.0</td>\n",
       "      <td>1.728091e+15</td>\n",
       "      <td>7</td>\n",
       "      <td>2024-10-05</td>\n",
       "    </tr>\n",
       "  </tbody>\n",
       "</table>\n",
       "<p>725409454 rows × 5 columns</p>\n",
       "</div>"
      ],
      "text/plain": [
       "           user_id     track_id     timestamp  playevent_play_duration  \\\n",
       "0           479071  115025877.0  1.727867e+15                        1   \n",
       "1           479071  138206302.0  1.727867e+15                        1   \n",
       "2           479071  129898539.0  1.727867e+15                        1   \n",
       "3           479071   58553470.0  1.727867e+15                        1   \n",
       "4           479071  120470213.0  1.727868e+15                        1   \n",
       "...            ...          ...           ...                      ...   \n",
       "725410289  1187140  137159381.0  1.728091e+15                        3   \n",
       "725410290  1187140  137159381.0  1.728091e+15                        3   \n",
       "725410291  1187140   57910930.0  1.728091e+15                       79   \n",
       "725410292  1187140   91700885.0  1.728091e+15                        5   \n",
       "725410293  1187140   57670385.0  1.728091e+15                        7   \n",
       "\n",
       "                  day  \n",
       "0          2024-10-02  \n",
       "1          2024-10-02  \n",
       "2          2024-10-02  \n",
       "3          2024-10-02  \n",
       "4          2024-10-02  \n",
       "...               ...  \n",
       "725410289  2024-10-05  \n",
       "725410290  2024-10-05  \n",
       "725410291  2024-10-05  \n",
       "725410292  2024-10-05  \n",
       "725410293  2024-10-05  \n",
       "\n",
       "[725409454 rows x 5 columns]"
      ]
     },
     "execution_count": 8,
     "metadata": {},
     "output_type": "execute_result"
    }
   ],
   "source": [
    "dataset"
   ]
  },
  {
   "cell_type": "code",
   "execution_count": 9,
   "id": "14337798-e5c9-4d78-a899-4c56055e87ac",
   "metadata": {},
   "outputs": [],
   "source": [
    "test_timepoint = dataset['timestamp'].quantile(\n",
    "            q=0.6, interpolation='nearest'\n",
    ")\n",
    "\n",
    "\n",
    "dataset = dataset.query(\n",
    "    'timestamp < @test_timepoint')"
   ]
  },
  {
   "cell_type": "code",
   "execution_count": 10,
   "id": "7090cfcf-15a1-4734-82bb-7f26079c4b8e",
   "metadata": {},
   "outputs": [
    {
     "data": {
      "text/html": [
       "<div>\n",
       "<style scoped>\n",
       "    .dataframe tbody tr th:only-of-type {\n",
       "        vertical-align: middle;\n",
       "    }\n",
       "\n",
       "    .dataframe tbody tr th {\n",
       "        vertical-align: top;\n",
       "    }\n",
       "\n",
       "    .dataframe thead th {\n",
       "        text-align: right;\n",
       "    }\n",
       "</style>\n",
       "<table border=\"1\" class=\"dataframe\">\n",
       "  <thead>\n",
       "    <tr style=\"text-align: right;\">\n",
       "      <th></th>\n",
       "      <th>user_id</th>\n",
       "      <th>track_id</th>\n",
       "      <th>timestamp</th>\n",
       "      <th>playevent_play_duration</th>\n",
       "      <th>day</th>\n",
       "    </tr>\n",
       "  </thead>\n",
       "  <tbody>\n",
       "    <tr>\n",
       "      <th>0</th>\n",
       "      <td>479071</td>\n",
       "      <td>115025877.0</td>\n",
       "      <td>1.727867e+15</td>\n",
       "      <td>1</td>\n",
       "      <td>2024-10-02</td>\n",
       "    </tr>\n",
       "    <tr>\n",
       "      <th>1</th>\n",
       "      <td>479071</td>\n",
       "      <td>138206302.0</td>\n",
       "      <td>1.727867e+15</td>\n",
       "      <td>1</td>\n",
       "      <td>2024-10-02</td>\n",
       "    </tr>\n",
       "    <tr>\n",
       "      <th>2</th>\n",
       "      <td>479071</td>\n",
       "      <td>129898539.0</td>\n",
       "      <td>1.727867e+15</td>\n",
       "      <td>1</td>\n",
       "      <td>2024-10-02</td>\n",
       "    </tr>\n",
       "    <tr>\n",
       "      <th>3</th>\n",
       "      <td>479071</td>\n",
       "      <td>58553470.0</td>\n",
       "      <td>1.727867e+15</td>\n",
       "      <td>1</td>\n",
       "      <td>2024-10-02</td>\n",
       "    </tr>\n",
       "    <tr>\n",
       "      <th>4</th>\n",
       "      <td>479071</td>\n",
       "      <td>120470213.0</td>\n",
       "      <td>1.727868e+15</td>\n",
       "      <td>1</td>\n",
       "      <td>2024-10-02</td>\n",
       "    </tr>\n",
       "    <tr>\n",
       "      <th>...</th>\n",
       "      <td>...</td>\n",
       "      <td>...</td>\n",
       "      <td>...</td>\n",
       "      <td>...</td>\n",
       "      <td>...</td>\n",
       "    </tr>\n",
       "    <tr>\n",
       "      <th>725410289</th>\n",
       "      <td>1187140</td>\n",
       "      <td>137159381.0</td>\n",
       "      <td>1.728091e+15</td>\n",
       "      <td>3</td>\n",
       "      <td>2024-10-05</td>\n",
       "    </tr>\n",
       "    <tr>\n",
       "      <th>725410290</th>\n",
       "      <td>1187140</td>\n",
       "      <td>137159381.0</td>\n",
       "      <td>1.728091e+15</td>\n",
       "      <td>3</td>\n",
       "      <td>2024-10-05</td>\n",
       "    </tr>\n",
       "    <tr>\n",
       "      <th>725410291</th>\n",
       "      <td>1187140</td>\n",
       "      <td>57910930.0</td>\n",
       "      <td>1.728091e+15</td>\n",
       "      <td>79</td>\n",
       "      <td>2024-10-05</td>\n",
       "    </tr>\n",
       "    <tr>\n",
       "      <th>725410292</th>\n",
       "      <td>1187140</td>\n",
       "      <td>91700885.0</td>\n",
       "      <td>1.728091e+15</td>\n",
       "      <td>5</td>\n",
       "      <td>2024-10-05</td>\n",
       "    </tr>\n",
       "    <tr>\n",
       "      <th>725410293</th>\n",
       "      <td>1187140</td>\n",
       "      <td>57670385.0</td>\n",
       "      <td>1.728091e+15</td>\n",
       "      <td>7</td>\n",
       "      <td>2024-10-05</td>\n",
       "    </tr>\n",
       "  </tbody>\n",
       "</table>\n",
       "<p>435245672 rows × 5 columns</p>\n",
       "</div>"
      ],
      "text/plain": [
       "           user_id     track_id     timestamp  playevent_play_duration  \\\n",
       "0           479071  115025877.0  1.727867e+15                        1   \n",
       "1           479071  138206302.0  1.727867e+15                        1   \n",
       "2           479071  129898539.0  1.727867e+15                        1   \n",
       "3           479071   58553470.0  1.727867e+15                        1   \n",
       "4           479071  120470213.0  1.727868e+15                        1   \n",
       "...            ...          ...           ...                      ...   \n",
       "725410289  1187140  137159381.0  1.728091e+15                        3   \n",
       "725410290  1187140  137159381.0  1.728091e+15                        3   \n",
       "725410291  1187140   57910930.0  1.728091e+15                       79   \n",
       "725410292  1187140   91700885.0  1.728091e+15                        5   \n",
       "725410293  1187140   57670385.0  1.728091e+15                        7   \n",
       "\n",
       "                  day  \n",
       "0          2024-10-02  \n",
       "1          2024-10-02  \n",
       "2          2024-10-02  \n",
       "3          2024-10-02  \n",
       "4          2024-10-02  \n",
       "...               ...  \n",
       "725410289  2024-10-05  \n",
       "725410290  2024-10-05  \n",
       "725410291  2024-10-05  \n",
       "725410292  2024-10-05  \n",
       "725410293  2024-10-05  \n",
       "\n",
       "[435245672 rows x 5 columns]"
      ]
     },
     "execution_count": 10,
     "metadata": {},
     "output_type": "execute_result"
    }
   ],
   "source": [
    "dataset"
   ]
  },
  {
   "cell_type": "code",
   "execution_count": 11,
   "id": "15b3116b-5d0d-4ba2-959a-cdb65e4c888c",
   "metadata": {},
   "outputs": [],
   "source": [
    "dataset = dataset.rename(columns={'user_id': 'userid', 'track_id': 'itemid'})"
   ]
  },
  {
   "cell_type": "code",
   "execution_count": 12,
   "id": "b97ad246-7e63-4b6f-873a-5d85e5f77431",
   "metadata": {},
   "outputs": [
    {
     "data": {
      "text/plain": [
       "(1815075,)"
      ]
     },
     "execution_count": 12,
     "metadata": {},
     "output_type": "execute_result"
    }
   ],
   "source": [
    "np.unique(dataset['userid'].values).shape"
   ]
  },
  {
   "cell_type": "code",
   "execution_count": 13,
   "id": "879b7e7e-ae13-4c5f-a43a-61d3619f1824",
   "metadata": {},
   "outputs": [
    {
     "data": {
      "text/plain": [
       "(3875529,)"
      ]
     },
     "execution_count": 13,
     "metadata": {},
     "output_type": "execute_result"
    }
   ],
   "source": [
    "np.unique(dataset['itemid'].values).shape"
   ]
  },
  {
   "cell_type": "code",
   "execution_count": 14,
   "id": "6b77c426-d4dc-4953-b5f6-9759585b118b",
   "metadata": {},
   "outputs": [
    {
     "name": "stdout",
     "output_type": "stream",
     "text": [
      "raw data: interactions 435245672 \n",
      "after item filtering: interactions 275677475 \n",
      "after dropping short sequences: interactions 274138745 \n",
      "after item filtering: interactions 253574407 \n",
      "after dropping short sequences: interactions 253573539 \n"
     ]
    }
   ],
   "source": [
    "#filtered_data = preprocessing(dataset, item_min_count=100, min_len=10, min_duration=30, if_drop_repeats=True)\n",
    "filtered_data = preprocessing(dataset, users_sample=None, item_min_count=101, min_len=10, core=False, encoding=False,\n",
    "                  drop_repeats=False, user_id='userid', item_id='itemid', timestamp='timestamp',\n",
    "                  path_to_save=None)"
   ]
  },
  {
   "cell_type": "code",
   "execution_count": 15,
   "id": "3f35f078-d38f-4c80-ab73-80b229eb1035",
   "metadata": {},
   "outputs": [],
   "source": [
    "# filtered_data = filtered_data.drop(columns=['playevent_play_duration', 'day'])"
   ]
  },
  {
   "cell_type": "code",
   "execution_count": 16,
   "id": "2b026eea-ade0-42e1-b27e-1e8c5db0ab8f",
   "metadata": {},
   "outputs": [
    {
     "data": {
      "text/plain": [
       "(253573539, 5)"
      ]
     },
     "execution_count": 16,
     "metadata": {},
     "output_type": "execute_result"
    }
   ],
   "source": [
    "filtered_data.shape"
   ]
  },
  {
   "cell_type": "code",
   "execution_count": 17,
   "id": "641d2819-2270-4f1d-b21b-b85cad7367a3",
   "metadata": {},
   "outputs": [],
   "source": [
    "filtered_data = filtered_data.rename(columns={'user_id': 'userid', 'item_id': 'itemid'})"
   ]
  },
  {
   "cell_type": "code",
   "execution_count": 18,
   "id": "3f904c32-26be-42cf-bc41-f0700e36b6d2",
   "metadata": {},
   "outputs": [
    {
     "data": {
      "text/html": [
       "<div>\n",
       "<style scoped>\n",
       "    .dataframe tbody tr th:only-of-type {\n",
       "        vertical-align: middle;\n",
       "    }\n",
       "\n",
       "    .dataframe tbody tr th {\n",
       "        vertical-align: top;\n",
       "    }\n",
       "\n",
       "    .dataframe thead th {\n",
       "        text-align: right;\n",
       "    }\n",
       "</style>\n",
       "<table border=\"1\" class=\"dataframe\">\n",
       "  <thead>\n",
       "    <tr style=\"text-align: right;\">\n",
       "      <th></th>\n",
       "      <th>userid</th>\n",
       "      <th>itemid</th>\n",
       "      <th>timestamp</th>\n",
       "      <th>playevent_play_duration</th>\n",
       "      <th>day</th>\n",
       "    </tr>\n",
       "  </thead>\n",
       "  <tbody>\n",
       "    <tr>\n",
       "      <th>7</th>\n",
       "      <td>479071</td>\n",
       "      <td>137920044.0</td>\n",
       "      <td>1.727867e+15</td>\n",
       "      <td>112</td>\n",
       "      <td>2024-10-02</td>\n",
       "    </tr>\n",
       "    <tr>\n",
       "      <th>8</th>\n",
       "      <td>479071</td>\n",
       "      <td>112091838.0</td>\n",
       "      <td>1.727867e+15</td>\n",
       "      <td>154</td>\n",
       "      <td>2024-10-02</td>\n",
       "    </tr>\n",
       "    <tr>\n",
       "      <th>10</th>\n",
       "      <td>479071</td>\n",
       "      <td>138163265.0</td>\n",
       "      <td>1.727867e+15</td>\n",
       "      <td>54</td>\n",
       "      <td>2024-10-02</td>\n",
       "    </tr>\n",
       "    <tr>\n",
       "      <th>12</th>\n",
       "      <td>479071</td>\n",
       "      <td>138262387.0</td>\n",
       "      <td>1.727867e+15</td>\n",
       "      <td>217</td>\n",
       "      <td>2024-10-02</td>\n",
       "    </tr>\n",
       "    <tr>\n",
       "      <th>28</th>\n",
       "      <td>1094149</td>\n",
       "      <td>50584863.0</td>\n",
       "      <td>1.729807e+15</td>\n",
       "      <td>55</td>\n",
       "      <td>2024-10-24</td>\n",
       "    </tr>\n",
       "    <tr>\n",
       "      <th>...</th>\n",
       "      <td>...</td>\n",
       "      <td>...</td>\n",
       "      <td>...</td>\n",
       "      <td>...</td>\n",
       "      <td>...</td>\n",
       "    </tr>\n",
       "    <tr>\n",
       "      <th>725410235</th>\n",
       "      <td>1375603</td>\n",
       "      <td>123344514.0</td>\n",
       "      <td>1.727979e+15</td>\n",
       "      <td>176</td>\n",
       "      <td>2024-10-03</td>\n",
       "    </tr>\n",
       "    <tr>\n",
       "      <th>725410236</th>\n",
       "      <td>1375603</td>\n",
       "      <td>69586325.0</td>\n",
       "      <td>1.727978e+15</td>\n",
       "      <td>238</td>\n",
       "      <td>2024-10-03</td>\n",
       "    </tr>\n",
       "    <tr>\n",
       "      <th>725410237</th>\n",
       "      <td>1375603</td>\n",
       "      <td>139661482.0</td>\n",
       "      <td>1.727978e+15</td>\n",
       "      <td>156</td>\n",
       "      <td>2024-10-03</td>\n",
       "    </tr>\n",
       "    <tr>\n",
       "      <th>725410285</th>\n",
       "      <td>1187140</td>\n",
       "      <td>135509762.0</td>\n",
       "      <td>1.728091e+15</td>\n",
       "      <td>80</td>\n",
       "      <td>2024-10-05</td>\n",
       "    </tr>\n",
       "    <tr>\n",
       "      <th>725410291</th>\n",
       "      <td>1187140</td>\n",
       "      <td>57910930.0</td>\n",
       "      <td>1.728091e+15</td>\n",
       "      <td>79</td>\n",
       "      <td>2024-10-05</td>\n",
       "    </tr>\n",
       "  </tbody>\n",
       "</table>\n",
       "<p>253573539 rows × 5 columns</p>\n",
       "</div>"
      ],
      "text/plain": [
       "            userid       itemid     timestamp  playevent_play_duration  \\\n",
       "7           479071  137920044.0  1.727867e+15                      112   \n",
       "8           479071  112091838.0  1.727867e+15                      154   \n",
       "10          479071  138163265.0  1.727867e+15                       54   \n",
       "12          479071  138262387.0  1.727867e+15                      217   \n",
       "28         1094149   50584863.0  1.729807e+15                       55   \n",
       "...            ...          ...           ...                      ...   \n",
       "725410235  1375603  123344514.0  1.727979e+15                      176   \n",
       "725410236  1375603   69586325.0  1.727978e+15                      238   \n",
       "725410237  1375603  139661482.0  1.727978e+15                      156   \n",
       "725410285  1187140  135509762.0  1.728091e+15                       80   \n",
       "725410291  1187140   57910930.0  1.728091e+15                       79   \n",
       "\n",
       "                  day  \n",
       "7          2024-10-02  \n",
       "8          2024-10-02  \n",
       "10         2024-10-02  \n",
       "12         2024-10-02  \n",
       "28         2024-10-24  \n",
       "...               ...  \n",
       "725410235  2024-10-03  \n",
       "725410236  2024-10-03  \n",
       "725410237  2024-10-03  \n",
       "725410285  2024-10-05  \n",
       "725410291  2024-10-05  \n",
       "\n",
       "[253573539 rows x 5 columns]"
      ]
     },
     "execution_count": 18,
     "metadata": {},
     "output_type": "execute_result"
    }
   ],
   "source": [
    "filtered_data"
   ]
  },
  {
   "cell_type": "code",
   "execution_count": 19,
   "id": "88737a17-d719-4e3c-9f59-e27d1421721a",
   "metadata": {},
   "outputs": [
    {
     "data": {
      "text/plain": [
       "(1148455,)"
      ]
     },
     "execution_count": 19,
     "metadata": {},
     "output_type": "execute_result"
    }
   ],
   "source": [
    "np.unique(filtered_data['userid'].values).shape"
   ]
  },
  {
   "cell_type": "code",
   "execution_count": 20,
   "id": "ac9d26b4-fb17-42a7-9709-504561c62d7b",
   "metadata": {},
   "outputs": [
    {
     "data": {
      "text/plain": [
       "(232615,)"
      ]
     },
     "execution_count": 20,
     "metadata": {},
     "output_type": "execute_result"
    }
   ],
   "source": [
    "np.unique(filtered_data['itemid'].values).shape"
   ]
  },
  {
   "cell_type": "code",
   "execution_count": 21,
   "id": "c91d6525-9776-47c2-bbce-ef77b50acd4a",
   "metadata": {},
   "outputs": [
    {
     "name": "stdout",
     "output_type": "stream",
     "text": [
      "Filtered 159165 invalid observations.\n",
      "Filtered 5263 invalid observations.\n"
     ]
    },
    {
     "data": {
      "text/plain": [
       "{'users': 'userid',\n",
       " 'items': 'itemid',\n",
       " 'order': 'timestamp',\n",
       " 'n_users': 1078263,\n",
       " 'n_items': 232274}"
      ]
     },
     "execution_count": 21,
     "metadata": {},
     "output_type": "execute_result"
    }
   ],
   "source": [
    "training_temp, data_description_temp, testset_valid_temp, testset, holdout_valid_temp, _ = get_dataset(path=filtered_data, splitting='temporal_full',\n",
    "                                                                                     q=0.8)\n",
    "data_description_temp"
   ]
  },
  {
   "cell_type": "code",
   "execution_count": 22,
   "id": "16797a97-4ded-48c2-a3e6-4af832dbdbaf",
   "metadata": {},
   "outputs": [],
   "source": [
    "cnt_users_val = 1024\n",
    "users_in_val = np.unique(testset_valid_temp['userid'].values)\n",
    "ind_val = np.random.choice(users_in_val.shape[0], cnt_users_val, replace=False)\n",
    "users_in_val = users_in_val[ind_val]"
   ]
  },
  {
   "cell_type": "code",
   "execution_count": 23,
   "id": "61123362-bd61-478e-9c6d-a87d287f9221",
   "metadata": {},
   "outputs": [],
   "source": [
    "testset_valid_temp_cut = testset_valid_temp.copy()\n",
    "testset_valid_temp_cut = testset_valid_temp_cut.loc[testset_valid_temp_cut['userid'].isin(users_in_val)]"
   ]
  },
  {
   "cell_type": "code",
   "execution_count": 24,
   "id": "cbc9ebbc-b303-49b2-bf0d-9384aa23818f",
   "metadata": {},
   "outputs": [],
   "source": [
    "holdout_valid_temp_cut = holdout_valid_temp.copy()\n",
    "holdout_valid_temp_cut = holdout_valid_temp_cut.loc[holdout_valid_temp_cut['userid'].isin(users_in_val)]"
   ]
  },
  {
   "cell_type": "code",
   "execution_count": 25,
   "id": "f782417c-2e81-459d-ba24-71882c4d2b5e",
   "metadata": {},
   "outputs": [],
   "source": [
    "testset_valid_temp_cut.sort_values(by='userid', inplace=True)"
   ]
  },
  {
   "cell_type": "code",
   "execution_count": 26,
   "id": "73f4c1b5-22f8-4c51-ad4f-02d81cf6be6f",
   "metadata": {},
   "outputs": [],
   "source": [
    "holdout_valid_temp_cut.sort_values(by='userid', inplace=True)"
   ]
  },
  {
   "cell_type": "code",
   "execution_count": 27,
   "id": "c177cf06-e817-47df-a607-6c568681f202",
   "metadata": {},
   "outputs": [
    {
     "data": {
      "text/html": [
       "<div>\n",
       "<style scoped>\n",
       "    .dataframe tbody tr th:only-of-type {\n",
       "        vertical-align: middle;\n",
       "    }\n",
       "\n",
       "    .dataframe tbody tr th {\n",
       "        vertical-align: top;\n",
       "    }\n",
       "\n",
       "    .dataframe thead th {\n",
       "        text-align: right;\n",
       "    }\n",
       "</style>\n",
       "<table border=\"1\" class=\"dataframe\">\n",
       "  <thead>\n",
       "    <tr style=\"text-align: right;\">\n",
       "      <th></th>\n",
       "      <th>userid</th>\n",
       "      <th>itemid</th>\n",
       "      <th>timestamp</th>\n",
       "      <th>playevent_play_duration</th>\n",
       "      <th>day</th>\n",
       "    </tr>\n",
       "  </thead>\n",
       "  <tbody>\n",
       "    <tr>\n",
       "      <th>84242469</th>\n",
       "      <td>332</td>\n",
       "      <td>218799</td>\n",
       "      <td>1.728074e+15</td>\n",
       "      <td>40</td>\n",
       "      <td>2024-10-04</td>\n",
       "    </tr>\n",
       "    <tr>\n",
       "      <th>84242534</th>\n",
       "      <td>332</td>\n",
       "      <td>218799</td>\n",
       "      <td>1.728076e+15</td>\n",
       "      <td>40</td>\n",
       "      <td>2024-10-04</td>\n",
       "    </tr>\n",
       "    <tr>\n",
       "      <th>79336404</th>\n",
       "      <td>332</td>\n",
       "      <td>42642</td>\n",
       "      <td>1.728075e+15</td>\n",
       "      <td>40</td>\n",
       "      <td>2024-10-04</td>\n",
       "    </tr>\n",
       "    <tr>\n",
       "      <th>593708360</th>\n",
       "      <td>332</td>\n",
       "      <td>93577</td>\n",
       "      <td>1.728074e+15</td>\n",
       "      <td>40</td>\n",
       "      <td>2024-10-04</td>\n",
       "    </tr>\n",
       "    <tr>\n",
       "      <th>593405890</th>\n",
       "      <td>332</td>\n",
       "      <td>78019</td>\n",
       "      <td>1.728074e+15</td>\n",
       "      <td>40</td>\n",
       "      <td>2024-10-04</td>\n",
       "    </tr>\n",
       "    <tr>\n",
       "      <th>...</th>\n",
       "      <td>...</td>\n",
       "      <td>...</td>\n",
       "      <td>...</td>\n",
       "      <td>...</td>\n",
       "      <td>...</td>\n",
       "    </tr>\n",
       "    <tr>\n",
       "      <th>62759790</th>\n",
       "      <td>1078241</td>\n",
       "      <td>38954</td>\n",
       "      <td>1.728340e+15</td>\n",
       "      <td>339</td>\n",
       "      <td>2024-10-07</td>\n",
       "    </tr>\n",
       "    <tr>\n",
       "      <th>461093579</th>\n",
       "      <td>1078241</td>\n",
       "      <td>22955</td>\n",
       "      <td>1.728265e+15</td>\n",
       "      <td>72</td>\n",
       "      <td>2024-10-07</td>\n",
       "    </tr>\n",
       "    <tr>\n",
       "      <th>62758845</th>\n",
       "      <td>1078241</td>\n",
       "      <td>73114</td>\n",
       "      <td>1.729024e+15</td>\n",
       "      <td>59</td>\n",
       "      <td>2024-10-15</td>\n",
       "    </tr>\n",
       "    <tr>\n",
       "      <th>62755051</th>\n",
       "      <td>1078241</td>\n",
       "      <td>38954</td>\n",
       "      <td>1.728174e+15</td>\n",
       "      <td>329</td>\n",
       "      <td>2024-10-06</td>\n",
       "    </tr>\n",
       "    <tr>\n",
       "      <th>461093529</th>\n",
       "      <td>1078241</td>\n",
       "      <td>22954</td>\n",
       "      <td>1.728263e+15</td>\n",
       "      <td>108</td>\n",
       "      <td>2024-10-07</td>\n",
       "    </tr>\n",
       "  </tbody>\n",
       "</table>\n",
       "<p>198928 rows × 5 columns</p>\n",
       "</div>"
      ],
      "text/plain": [
       "            userid  itemid     timestamp  playevent_play_duration         day\n",
       "84242469       332  218799  1.728074e+15                       40  2024-10-04\n",
       "84242534       332  218799  1.728076e+15                       40  2024-10-04\n",
       "79336404       332   42642  1.728075e+15                       40  2024-10-04\n",
       "593708360      332   93577  1.728074e+15                       40  2024-10-04\n",
       "593405890      332   78019  1.728074e+15                       40  2024-10-04\n",
       "...            ...     ...           ...                      ...         ...\n",
       "62759790   1078241   38954  1.728340e+15                      339  2024-10-07\n",
       "461093579  1078241   22955  1.728265e+15                       72  2024-10-07\n",
       "62758845   1078241   73114  1.729024e+15                       59  2024-10-15\n",
       "62755051   1078241   38954  1.728174e+15                      329  2024-10-06\n",
       "461093529  1078241   22954  1.728263e+15                      108  2024-10-07\n",
       "\n",
       "[198928 rows x 5 columns]"
      ]
     },
     "execution_count": 27,
     "metadata": {},
     "output_type": "execute_result"
    }
   ],
   "source": [
    "testset_valid_temp_cut"
   ]
  },
  {
   "cell_type": "code",
   "execution_count": 28,
   "id": "5b49c60e-8a4e-4e3c-a8c1-cf62f2111981",
   "metadata": {},
   "outputs": [
    {
     "data": {
      "text/html": [
       "<div>\n",
       "<style scoped>\n",
       "    .dataframe tbody tr th:only-of-type {\n",
       "        vertical-align: middle;\n",
       "    }\n",
       "\n",
       "    .dataframe tbody tr th {\n",
       "        vertical-align: top;\n",
       "    }\n",
       "\n",
       "    .dataframe thead th {\n",
       "        text-align: right;\n",
       "    }\n",
       "</style>\n",
       "<table border=\"1\" class=\"dataframe\">\n",
       "  <thead>\n",
       "    <tr style=\"text-align: right;\">\n",
       "      <th></th>\n",
       "      <th>userid</th>\n",
       "      <th>itemid</th>\n",
       "      <th>timestamp</th>\n",
       "      <th>playevent_play_duration</th>\n",
       "      <th>day</th>\n",
       "    </tr>\n",
       "  </thead>\n",
       "  <tbody>\n",
       "    <tr>\n",
       "      <th>520992642</th>\n",
       "      <td>332</td>\n",
       "      <td>126547</td>\n",
       "      <td>1.728152e+15</td>\n",
       "      <td>40</td>\n",
       "      <td>2024-10-05</td>\n",
       "    </tr>\n",
       "    <tr>\n",
       "      <th>90183055</th>\n",
       "      <td>615</td>\n",
       "      <td>227474</td>\n",
       "      <td>1.729378e+15</td>\n",
       "      <td>31</td>\n",
       "      <td>2024-10-19</td>\n",
       "    </tr>\n",
       "    <tr>\n",
       "      <th>322649645</th>\n",
       "      <td>1184</td>\n",
       "      <td>0</td>\n",
       "      <td>1.729468e+15</td>\n",
       "      <td>1139</td>\n",
       "      <td>2024-10-20</td>\n",
       "    </tr>\n",
       "    <tr>\n",
       "      <th>314758364</th>\n",
       "      <td>2259</td>\n",
       "      <td>20955</td>\n",
       "      <td>1.729168e+15</td>\n",
       "      <td>85</td>\n",
       "      <td>2024-10-17</td>\n",
       "    </tr>\n",
       "    <tr>\n",
       "      <th>313382086</th>\n",
       "      <td>3389</td>\n",
       "      <td>27480</td>\n",
       "      <td>1.727984e+15</td>\n",
       "      <td>83</td>\n",
       "      <td>2024-10-03</td>\n",
       "    </tr>\n",
       "    <tr>\n",
       "      <th>...</th>\n",
       "      <td>...</td>\n",
       "      <td>...</td>\n",
       "      <td>...</td>\n",
       "      <td>...</td>\n",
       "      <td>...</td>\n",
       "    </tr>\n",
       "    <tr>\n",
       "      <th>349788043</th>\n",
       "      <td>1075491</td>\n",
       "      <td>50868</td>\n",
       "      <td>1.728741e+15</td>\n",
       "      <td>147</td>\n",
       "      <td>2024-10-12</td>\n",
       "    </tr>\n",
       "    <tr>\n",
       "      <th>624292666</th>\n",
       "      <td>1076798</td>\n",
       "      <td>110248</td>\n",
       "      <td>1.729456e+15</td>\n",
       "      <td>191</td>\n",
       "      <td>2024-10-20</td>\n",
       "    </tr>\n",
       "    <tr>\n",
       "      <th>578888017</th>\n",
       "      <td>1077741</td>\n",
       "      <td>230446</td>\n",
       "      <td>1.728738e+15</td>\n",
       "      <td>236</td>\n",
       "      <td>2024-10-12</td>\n",
       "    </tr>\n",
       "    <tr>\n",
       "      <th>334163905</th>\n",
       "      <td>1077813</td>\n",
       "      <td>231721</td>\n",
       "      <td>1.729362e+15</td>\n",
       "      <td>144</td>\n",
       "      <td>2024-10-21</td>\n",
       "    </tr>\n",
       "    <tr>\n",
       "      <th>461091170</th>\n",
       "      <td>1078241</td>\n",
       "      <td>22954</td>\n",
       "      <td>1.729286e+15</td>\n",
       "      <td>49</td>\n",
       "      <td>2024-10-19</td>\n",
       "    </tr>\n",
       "  </tbody>\n",
       "</table>\n",
       "<p>1024 rows × 5 columns</p>\n",
       "</div>"
      ],
      "text/plain": [
       "            userid  itemid     timestamp  playevent_play_duration         day\n",
       "520992642      332  126547  1.728152e+15                       40  2024-10-05\n",
       "90183055       615  227474  1.729378e+15                       31  2024-10-19\n",
       "322649645     1184       0  1.729468e+15                     1139  2024-10-20\n",
       "314758364     2259   20955  1.729168e+15                       85  2024-10-17\n",
       "313382086     3389   27480  1.727984e+15                       83  2024-10-03\n",
       "...            ...     ...           ...                      ...         ...\n",
       "349788043  1075491   50868  1.728741e+15                      147  2024-10-12\n",
       "624292666  1076798  110248  1.729456e+15                      191  2024-10-20\n",
       "578888017  1077741  230446  1.728738e+15                      236  2024-10-12\n",
       "334163905  1077813  231721  1.729362e+15                      144  2024-10-21\n",
       "461091170  1078241   22954  1.729286e+15                       49  2024-10-19\n",
       "\n",
       "[1024 rows x 5 columns]"
      ]
     },
     "execution_count": 28,
     "metadata": {},
     "output_type": "execute_result"
    }
   ],
   "source": [
    "holdout_valid_temp_cut"
   ]
  },
  {
   "cell_type": "code",
   "execution_count": 29,
   "id": "83d4242c-ef10-44ff-8daa-2a5c9c82fcc1",
   "metadata": {},
   "outputs": [],
   "source": [
    "training_temp.to_csv('training_temp.csv', index=False) \n",
    "testset_valid_temp_cut.to_csv('testset_valid_temp_cut.csv', index=False) \n",
    "holdout_valid_temp_cut.to_csv('holdout_valid_temp_cut.csv', index=False) \n",
    "testset.to_csv('testset.csv', index=False)"
   ]
  },
  {
   "cell_type": "code",
   "execution_count": 30,
   "id": "1d66d81c-d4bf-4805-bfe9-119d9f5f4f31",
   "metadata": {},
   "outputs": [
    {
     "data": {
      "text/plain": [
       "{'users': 'userid',\n",
       " 'items': 'itemid',\n",
       " 'order': 'timestamp',\n",
       " 'n_users': 1078263,\n",
       " 'n_items': 232274}"
      ]
     },
     "execution_count": 30,
     "metadata": {},
     "output_type": "execute_result"
    }
   ],
   "source": [
    "data_description_temp"
   ]
  },
  {
   "cell_type": "code",
   "execution_count": 7,
   "id": "d3576e40-145e-4909-ad1f-3e435b7580bf",
   "metadata": {},
   "outputs": [],
   "source": [
    "training_temp = pd.read_csv('training_temp.csv')\n",
    "testset_valid_temp_cut = pd.read_csv('testset_valid_temp_cut.csv')\n",
    "holdout_valid_temp_cut = pd.read_csv('holdout_valid_temp_cut.csv')\n",
    "data_description_temp = {'users': 'userid',\n",
    " 'items': 'itemid',\n",
    " 'order': 'timestamp',\n",
    " 'n_users': training_temp.userid.nunique(),\n",
    " 'n_items': training_temp.itemid.max()}\n",
    "\n",
    "training_temp['rating'] = np.ones(training_temp.shape[0])"
   ]
  },
  {
   "cell_type": "code",
   "execution_count": 8,
   "id": "5681de64-eb10-42b1-b24e-12673fe4586b",
   "metadata": {},
   "outputs": [
    {
     "data": {
      "text/plain": [
       "232273"
      ]
     },
     "execution_count": 8,
     "metadata": {},
     "output_type": "execute_result"
    }
   ],
   "source": [
    "training_temp[\"itemid\"].max()"
   ]
  },
  {
   "cell_type": "code",
   "execution_count": 8,
   "id": "15017ae1-721d-44f9-967e-d89e7e0ced62",
   "metadata": {},
   "outputs": [
    {
     "ename": "KeyboardInterrupt",
     "evalue": "",
     "output_type": "error",
     "traceback": [
      "\u001b[0;31m---------------------------------------------------------------------------\u001b[0m",
      "\u001b[0;31mKeyboardInterrupt\u001b[0m                         Traceback (most recent call last)",
      "\u001b[0;32m/tmp/ipykernel_52475/4164910988.py\u001b[0m in \u001b[0;36m<module>\u001b[0;34m\u001b[0m\n\u001b[1;32m      1\u001b[0m \u001b[0mtraining_temp\u001b[0m\u001b[0;34m[\u001b[0m\u001b[0;34m'rating'\u001b[0m\u001b[0;34m]\u001b[0m \u001b[0;34m=\u001b[0m \u001b[0mnp\u001b[0m\u001b[0;34m.\u001b[0m\u001b[0mones\u001b[0m\u001b[0;34m(\u001b[0m\u001b[0mtraining_temp\u001b[0m\u001b[0;34m.\u001b[0m\u001b[0mshape\u001b[0m\u001b[0;34m[\u001b[0m\u001b[0;36m0\u001b[0m\u001b[0;34m]\u001b[0m\u001b[0;34m)\u001b[0m\u001b[0;34m\u001b[0m\u001b[0;34m\u001b[0m\u001b[0m\n\u001b[1;32m      2\u001b[0m \u001b[0;34m\u001b[0m\u001b[0m\n\u001b[0;32m----> 3\u001b[0;31m \u001b[0mitem_embs\u001b[0m \u001b[0;34m=\u001b[0m \u001b[0mprepare_svd\u001b[0m\u001b[0;34m(\u001b[0m\u001b[0mtraining_temp\u001b[0m\u001b[0;34m,\u001b[0m \u001b[0mdata_description_temp\u001b[0m\u001b[0;34m,\u001b[0m \u001b[0mrank\u001b[0m\u001b[0;34m=\u001b[0m\u001b[0;36m128\u001b[0m\u001b[0;34m,\u001b[0m \u001b[0mdevice\u001b[0m\u001b[0;34m=\u001b[0m\u001b[0mdevice\u001b[0m\u001b[0;34m)\u001b[0m\u001b[0;34m\u001b[0m\u001b[0;34m\u001b[0m\u001b[0m\n\u001b[0m",
      "\u001b[0;32m~/sasrec_zvuk/rl_ope/utils.py\u001b[0m in \u001b[0;36mprepare_svd\u001b[0;34m(data, data_description, rank, device)\u001b[0m\n\u001b[1;32m     43\u001b[0m     \u001b[0mitemid\u001b[0m \u001b[0;34m=\u001b[0m \u001b[0mdata_description\u001b[0m\u001b[0;34m[\u001b[0m\u001b[0;34m'items'\u001b[0m\u001b[0;34m]\u001b[0m\u001b[0;34m\u001b[0m\u001b[0;34m\u001b[0m\u001b[0m\n\u001b[1;32m     44\u001b[0m \u001b[0;34m\u001b[0m\u001b[0m\n\u001b[0;32m---> 45\u001b[0;31m     \u001b[0mn_users\u001b[0m \u001b[0;34m=\u001b[0m \u001b[0mlen\u001b[0m\u001b[0;34m(\u001b[0m\u001b[0mdata\u001b[0m\u001b[0;34m[\u001b[0m\u001b[0muserid\u001b[0m\u001b[0;34m]\u001b[0m\u001b[0;34m.\u001b[0m\u001b[0msort_values\u001b[0m\u001b[0;34m(\u001b[0m\u001b[0;34m)\u001b[0m\u001b[0;34m.\u001b[0m\u001b[0munique\u001b[0m\u001b[0;34m(\u001b[0m\u001b[0;34m)\u001b[0m\u001b[0;34m)\u001b[0m\u001b[0;34m\u001b[0m\u001b[0;34m\u001b[0m\u001b[0m\n\u001b[0m\u001b[1;32m     46\u001b[0m     \u001b[0mn_items\u001b[0m \u001b[0;34m=\u001b[0m \u001b[0mdata_description\u001b[0m\u001b[0;34m[\u001b[0m\u001b[0;34m'n_items'\u001b[0m\u001b[0;34m]\u001b[0m \u001b[0;34m+\u001b[0m \u001b[0;36m2\u001b[0m \u001b[0;31m# +1 for the pad item of SasRec and +1 for &@!&%$\u001b[0m\u001b[0;34m\u001b[0m\u001b[0;34m\u001b[0m\u001b[0m\n\u001b[1;32m     47\u001b[0m \u001b[0;34m\u001b[0m\u001b[0m\n",
      "\u001b[0;32m/home/user/conda/lib/python3.7/site-packages/pandas/util/_decorators.py\u001b[0m in \u001b[0;36mwrapper\u001b[0;34m(*args, **kwargs)\u001b[0m\n\u001b[1;32m    309\u001b[0m                     \u001b[0mstacklevel\u001b[0m\u001b[0;34m=\u001b[0m\u001b[0mstacklevel\u001b[0m\u001b[0;34m,\u001b[0m\u001b[0;34m\u001b[0m\u001b[0;34m\u001b[0m\u001b[0m\n\u001b[1;32m    310\u001b[0m                 )\n\u001b[0;32m--> 311\u001b[0;31m             \u001b[0;32mreturn\u001b[0m \u001b[0mfunc\u001b[0m\u001b[0;34m(\u001b[0m\u001b[0;34m*\u001b[0m\u001b[0margs\u001b[0m\u001b[0;34m,\u001b[0m \u001b[0;34m**\u001b[0m\u001b[0mkwargs\u001b[0m\u001b[0;34m)\u001b[0m\u001b[0;34m\u001b[0m\u001b[0;34m\u001b[0m\u001b[0m\n\u001b[0m\u001b[1;32m    312\u001b[0m \u001b[0;34m\u001b[0m\u001b[0m\n\u001b[1;32m    313\u001b[0m         \u001b[0;32mreturn\u001b[0m \u001b[0mwrapper\u001b[0m\u001b[0;34m\u001b[0m\u001b[0;34m\u001b[0m\u001b[0m\n",
      "\u001b[0;32m/home/user/conda/lib/python3.7/site-packages/pandas/core/series.py\u001b[0m in \u001b[0;36msort_values\u001b[0;34m(self, axis, ascending, inplace, kind, na_position, ignore_index, key)\u001b[0m\n\u001b[1;32m   3453\u001b[0m         \u001b[0;31m# GH 35922. Make sorting stable by leveraging nargsort\u001b[0m\u001b[0;34m\u001b[0m\u001b[0;34m\u001b[0m\u001b[0;34m\u001b[0m\u001b[0m\n\u001b[1;32m   3454\u001b[0m         \u001b[0mvalues_to_sort\u001b[0m \u001b[0;34m=\u001b[0m \u001b[0mensure_key_mapped\u001b[0m\u001b[0;34m(\u001b[0m\u001b[0mself\u001b[0m\u001b[0;34m,\u001b[0m \u001b[0mkey\u001b[0m\u001b[0;34m)\u001b[0m\u001b[0;34m.\u001b[0m\u001b[0m_values\u001b[0m \u001b[0;32mif\u001b[0m \u001b[0mkey\u001b[0m \u001b[0;32melse\u001b[0m \u001b[0mself\u001b[0m\u001b[0;34m.\u001b[0m\u001b[0m_values\u001b[0m\u001b[0;34m\u001b[0m\u001b[0;34m\u001b[0m\u001b[0m\n\u001b[0;32m-> 3455\u001b[0;31m         \u001b[0msorted_index\u001b[0m \u001b[0;34m=\u001b[0m \u001b[0mnargsort\u001b[0m\u001b[0;34m(\u001b[0m\u001b[0mvalues_to_sort\u001b[0m\u001b[0;34m,\u001b[0m \u001b[0mkind\u001b[0m\u001b[0;34m,\u001b[0m \u001b[0mbool\u001b[0m\u001b[0;34m(\u001b[0m\u001b[0mascending\u001b[0m\u001b[0;34m)\u001b[0m\u001b[0;34m,\u001b[0m \u001b[0mna_position\u001b[0m\u001b[0;34m)\u001b[0m\u001b[0;34m\u001b[0m\u001b[0;34m\u001b[0m\u001b[0m\n\u001b[0m\u001b[1;32m   3456\u001b[0m \u001b[0;34m\u001b[0m\u001b[0m\n\u001b[1;32m   3457\u001b[0m         result = self._constructor(\n",
      "\u001b[0;32m/home/user/conda/lib/python3.7/site-packages/pandas/core/sorting.py\u001b[0m in \u001b[0;36mnargsort\u001b[0;34m(items, kind, ascending, na_position, key, mask)\u001b[0m\n\u001b[1;32m    401\u001b[0m         \u001b[0mnon_nans\u001b[0m \u001b[0;34m=\u001b[0m \u001b[0mnon_nans\u001b[0m\u001b[0;34m[\u001b[0m\u001b[0;34m:\u001b[0m\u001b[0;34m:\u001b[0m\u001b[0;34m-\u001b[0m\u001b[0;36m1\u001b[0m\u001b[0;34m]\u001b[0m\u001b[0;34m\u001b[0m\u001b[0;34m\u001b[0m\u001b[0m\n\u001b[1;32m    402\u001b[0m         \u001b[0mnon_nan_idx\u001b[0m \u001b[0;34m=\u001b[0m \u001b[0mnon_nan_idx\u001b[0m\u001b[0;34m[\u001b[0m\u001b[0;34m:\u001b[0m\u001b[0;34m:\u001b[0m\u001b[0;34m-\u001b[0m\u001b[0;36m1\u001b[0m\u001b[0;34m]\u001b[0m\u001b[0;34m\u001b[0m\u001b[0;34m\u001b[0m\u001b[0m\n\u001b[0;32m--> 403\u001b[0;31m     \u001b[0mindexer\u001b[0m \u001b[0;34m=\u001b[0m \u001b[0mnon_nan_idx\u001b[0m\u001b[0;34m[\u001b[0m\u001b[0mnon_nans\u001b[0m\u001b[0;34m.\u001b[0m\u001b[0margsort\u001b[0m\u001b[0;34m(\u001b[0m\u001b[0mkind\u001b[0m\u001b[0;34m=\u001b[0m\u001b[0mkind\u001b[0m\u001b[0;34m)\u001b[0m\u001b[0;34m]\u001b[0m\u001b[0;34m\u001b[0m\u001b[0;34m\u001b[0m\u001b[0m\n\u001b[0m\u001b[1;32m    404\u001b[0m     \u001b[0;32mif\u001b[0m \u001b[0;32mnot\u001b[0m \u001b[0mascending\u001b[0m\u001b[0;34m:\u001b[0m\u001b[0;34m\u001b[0m\u001b[0;34m\u001b[0m\u001b[0m\n\u001b[1;32m    405\u001b[0m         \u001b[0mindexer\u001b[0m \u001b[0;34m=\u001b[0m \u001b[0mindexer\u001b[0m\u001b[0;34m[\u001b[0m\u001b[0;34m:\u001b[0m\u001b[0;34m:\u001b[0m\u001b[0;34m-\u001b[0m\u001b[0;36m1\u001b[0m\u001b[0;34m]\u001b[0m\u001b[0;34m\u001b[0m\u001b[0;34m\u001b[0m\u001b[0m\n",
      "\u001b[0;31mKeyboardInterrupt\u001b[0m: "
     ]
    }
   ],
   "source": [
    "item_embs = prepare_svd(training_temp, data_description_temp, rank=128, device=device)"
   ]
  },
  {
   "cell_type": "code",
   "execution_count": null,
   "id": "ab5c4bad-a6fd-40af-8fe0-9868ae9fae69",
   "metadata": {},
   "outputs": [],
   "source": [
    "torch.save(item_embs, \"./saved_models/item_embs.pt\")"
   ]
  },
  {
   "cell_type": "markdown",
   "id": "75c7738d-e841-47a8-aa52-30aeefefca29",
   "metadata": {},
   "source": [
    "## Train SASRec models"
   ]
  },
  {
   "cell_type": "code",
   "execution_count": 4,
   "id": "7885dab9-a1c4-4426-893f-acaf7ccb076b",
   "metadata": {},
   "outputs": [],
   "source": [
    "base_config1 = dict(\n",
    "    manual_seed = 123,\n",
    "    sampler_seed = 123,\n",
    "    num_epochs = 15,\n",
    "    maxlen = 100,\n",
    "    hidden_units = 128, #\n",
    "    dropout_rate = 0.3,#0.3,\n",
    "    num_blocks = 2,\n",
    "    num_heads = 2,\n",
    "    batch_size = 64,\n",
    "    learning_rate = 1e-3,\n",
    "    fwd_type = 'ce',\n",
    "    l2_emb = 0,\n",
    "    patience = 10,\n",
    "    skip_epochs = 1,\n",
    "    n_neg_samples=0,\n",
    "    sampling='no_sampling'\n",
    ")"
   ]
  },
  {
   "cell_type": "code",
   "execution_count": 5,
   "id": "735e5982-22cf-4b7a-a6c9-c9542594a80d",
   "metadata": {},
   "outputs": [],
   "source": [
    "# item_embs = torch.load(\"./saved_models/item_embs.pt\", map_location=torch.device(device))\n",
    "item_embs = None"
   ]
  },
  {
   "cell_type": "code",
   "execution_count": 6,
   "id": "6d39cfc6-898d-4e76-b49f-60037d831feb",
   "metadata": {},
   "outputs": [],
   "source": [
    "# model_bce = build_sasrec_model(base_config_bce, train, data_description_zvuk, testset_valid, holdout_valid, device, task=None, log=None)"
   ]
  },
  {
   "cell_type": "code",
   "execution_count": 7,
   "id": "f2cf7924-b2b8-49cf-ac74-1eb59a44652d",
   "metadata": {
    "tags": []
   },
   "outputs": [
    {
     "name": "stderr",
     "output_type": "stream",
     "text": [
      "  0%|          | 0/5 [00:00<?, ?it/s]"
     ]
    },
    {
     "name": "stdout",
     "output_type": "stream",
     "text": [
      "loss=0.006480527881862786, epoch=0\n",
      "Epoch 0, NDCG@10: 0.18982870055738182\n",
      "Epoch 0, HR@10: 0.3115234375\n",
      "Epoch 0, Cov@10: 0.027562394251591876\n"
     ]
    },
    {
     "name": "stderr",
     "output_type": "stream",
     "text": [
      " 20%|██        | 1/5 [16:43<1:06:54, 1003.70s/it]"
     ]
    },
    {
     "name": "stdout",
     "output_type": "stream",
     "text": [
      "loss=0.004277772562201793, epoch=1\n"
     ]
    },
    {
     "name": "stderr",
     "output_type": "stream",
     "text": [
      " 40%|████      | 2/5 [34:17<51:39, 1033.08s/it]  "
     ]
    },
    {
     "name": "stdout",
     "output_type": "stream",
     "text": [
      "Epoch 1, NDCG@10: 0.1880516275687256\n",
      "Epoch 1, HR@10: 0.294921875\n",
      "Epoch 1, Cov@10: 0.02745045700533424\n",
      "loss=0.00424892724442785, epoch=2\n"
     ]
    },
    {
     "name": "stderr",
     "output_type": "stream",
     "text": [
      " 60%|██████    | 3/5 [51:23<34:19, 1029.86s/it]"
     ]
    },
    {
     "name": "stdout",
     "output_type": "stream",
     "text": [
      "Epoch 2, NDCG@10: 0.1854647188036368\n",
      "Epoch 2, HR@10: 0.2939453125\n",
      "Epoch 2, Cov@10: 0.02698118162679261\n",
      "loss=0.0042547431139116606, epoch=3\n"
     ]
    },
    {
     "name": "stderr",
     "output_type": "stream",
     "text": [
      " 80%|████████  | 4/5 [1:09:12<17:25, 1045.22s/it]"
     ]
    },
    {
     "name": "stdout",
     "output_type": "stream",
     "text": [
      "Epoch 3, NDCG@10: 0.18876920816031142\n",
      "Epoch 3, HR@10: 0.29296875\n",
      "Epoch 3, Cov@10: 0.02802736435143129\n",
      "loss=0.0042655951795531975, epoch=4\n",
      "Epoch 4, NDCG@10: 0.19076465098257944\n",
      "Epoch 4, HR@10: 0.3056640625\n",
      "Epoch 4, Cov@10: 0.026959655233281525\n"
     ]
    },
    {
     "name": "stderr",
     "output_type": "stream",
     "text": [
      "100%|██████████| 5/5 [1:25:58<00:00, 1031.69s/it]\n"
     ]
    },
    {
     "name": "stdout",
     "output_type": "stream",
     "text": [
      "\n",
      "Peak training memory, mb: 12089.61\n",
      "Training epoches: 5\n",
      "Training time, m: 85.97\n"
     ]
    }
   ],
   "source": [
    "base_config_bce = dict(\n",
    "    manual_seed = 123,\n",
    "    sampler_seed = 123,\n",
    "    init_emb_svd = None,\n",
    "    lin_layer_dim = -1,\n",
    "    num_epochs = 5, #3 10 22 100&dropout0.9&hd32&bs1000\n",
    "    maxlen = 100,\n",
    "    hidden_units = 128,\n",
    "    dropout_rate = 0.3,\n",
    "    num_blocks = 2,\n",
    "    num_heads = 2,\n",
    "    batch_size = 128,\n",
    "    learning_rate = 1e-3,\n",
    "    fwd_type = 'bce',\n",
    "    l2_emb = 0,\n",
    "    patience = 10,\n",
    "    skip_epochs = 1,\n",
    "    n_neg_samples=600,\n",
    "    sampling='without_rep'\n",
    ")\n",
    "\n",
    "model_e = build_sasrec_model(base_config_bce,\n",
    "                             training_temp,\n",
    "                             data_description_temp,\n",
    "                             testset_valid_temp_cut,\n",
    "                             holdout_valid_temp_cut,\n",
    "                             device,\n",
    "                             task=None,\n",
    "                             log=None,\n",
    "                             item_emb_svd=item_embs)"
   ]
  },
  {
   "cell_type": "code",
   "execution_count": 15,
   "id": "a2f3141e-6492-4152-a2c5-eefe978ec44a",
   "metadata": {},
   "outputs": [
    {
     "name": "stdout",
     "output_type": "stream",
     "text": [
      "0.029985753708965737\n"
     ]
    }
   ],
   "source": [
    "from eval_utils import model_evaluate, sasrec_model_scoring, get_test_scores\n",
    "\n",
    "model_e.eval()\n",
    "val_scores = sasrec_model_scoring(model_e, testset_valid_temp_cut, data_description_temp, device)\n",
    "val_recs = topn_recommendations(val_scores, topn=10)\n",
    "val_metrics = model_evaluate(val_recs, holdout_valid_temp_cut, data_description_temp)\n",
    "ndcg_ = val_metrics['ndcg@10']\n",
    "print(ndcg_)"
   ]
  },
  {
   "cell_type": "code",
   "execution_count": null,
   "id": "2e50b5c2-f591-403d-8780-0975146c212b",
   "metadata": {},
   "outputs": [],
   "source": []
  },
  {
   "cell_type": "code",
   "execution_count": 9,
   "id": "9ac7bfb7-a5ff-4d80-83f9-748df434accc",
   "metadata": {},
   "outputs": [],
   "source": [
    "torch.save(model_e.state_dict(), 'saved_models/model_e0_nonsvd.pt')"
   ]
  },
  {
   "cell_type": "code",
   "execution_count": 8,
   "id": "964132d2-33d2-45a7-91e8-98e3e6383792",
   "metadata": {},
   "outputs": [
    {
     "name": "stderr",
     "output_type": "stream",
     "text": [
      "  0%|          | 0/1 [00:00<?, ?it/s]"
     ]
    },
    {
     "name": "stdout",
     "output_type": "stream",
     "text": [
      "loss=0.008304253079943452, epoch=0\n",
      "Epoch 0, NDCG@10: 0.07723376882934793\n",
      "Epoch 0, HR@10: 0.1162109375\n",
      "Epoch 0, Cov@10: 0.011671610561709712\n"
     ]
    },
    {
     "name": "stderr",
     "output_type": "stream",
     "text": [
      "100%|██████████| 1/1 [16:42<00:00, 1002.67s/it]\n"
     ]
    },
    {
     "name": "stdout",
     "output_type": "stream",
     "text": [
      "\n",
      "Peak training memory, mb: 12440.19\n",
      "Training epoches: 1\n",
      "Training time, m: 16.71\n"
     ]
    }
   ],
   "source": [
    "base_config_bce = dict(\n",
    "    manual_seed = 123,\n",
    "    sampler_seed = 123,\n",
    "    init_emb_svd = None,\n",
    "    lin_layer_dim = 128,\n",
    "    num_epochs = 1, #3 10 22 100&dropout0.9&hd32&bs1000\n",
    "    maxlen = 100,\n",
    "    hidden_units = 128,\n",
    "    dropout_rate = 0.3,\n",
    "    num_blocks = 2,\n",
    "    num_heads = 2,\n",
    "    batch_size = 128,\n",
    "    learning_rate = 1e-3,\n",
    "    fwd_type = 'bce',\n",
    "    l2_emb = 0,\n",
    "    patience = 10,\n",
    "    skip_epochs = 1,\n",
    "    n_neg_samples=600,\n",
    "    sampling='without_rep'\n",
    ")\n",
    "\n",
    "model_e = build_sasrec_model(base_config_bce,\n",
    "                             training_temp,\n",
    "                             data_description_temp,\n",
    "                             testset_valid_temp_cut,\n",
    "                             holdout_valid_temp_cut,\n",
    "                             device,\n",
    "                             task=None,\n",
    "                             log=None,\n",
    "                             item_emb_svd=item_embs)"
   ]
  },
  {
   "cell_type": "code",
   "execution_count": 9,
   "id": "6d32b35d-5439-4e88-8d9f-55c9ac4930f4",
   "metadata": {},
   "outputs": [],
   "source": [
    "torch.save(model_e.state_dict(), 'saved_models/model_e1.pt')"
   ]
  },
  {
   "cell_type": "code",
   "execution_count": 10,
   "id": "93f6f594-74dc-4886-94ef-cf5695d7303a",
   "metadata": {},
   "outputs": [
    {
     "name": "stderr",
     "output_type": "stream",
     "text": [
      "  0%|          | 0/5 [00:00<?, ?it/s]"
     ]
    },
    {
     "name": "stdout",
     "output_type": "stream",
     "text": [
      "loss=0.011270346139770359, epoch=0\n",
      "Epoch 0, NDCG@10: 0.042245738184161705\n",
      "Epoch 0, HR@10: 0.0556640625\n",
      "Epoch 0, Cov@10: 0.002398040237134751\n"
     ]
    },
    {
     "name": "stderr",
     "output_type": "stream",
     "text": [
      " 20%|██        | 1/5 [16:39<1:06:37, 999.45s/it]"
     ]
    },
    {
     "name": "stdout",
     "output_type": "stream",
     "text": [
      "loss=0.00786146905593081, epoch=1\n",
      "Epoch 1, NDCG@10: 0.0490509828921286\n",
      "Epoch 1, HR@10: 0.0654296875\n",
      "Epoch 1, Cov@10: 0.003470054633986731\n"
     ]
    },
    {
     "name": "stderr",
     "output_type": "stream",
     "text": [
      " 40%|████      | 2/5 [33:05<49:34, 991.38s/it]  "
     ]
    },
    {
     "name": "stdout",
     "output_type": "stream",
     "text": [
      "loss=0.007774467086758227, epoch=2\n",
      "Epoch 2, NDCG@10: 0.05245491709442193\n",
      "Epoch 2, HR@10: 0.0703125\n",
      "Epoch 2, Cov@10: 0.0039048877829106266\n"
     ]
    },
    {
     "name": "stderr",
     "output_type": "stream",
     "text": [
      " 60%|██████    | 3/5 [49:32<32:58, 989.48s/it]"
     ]
    },
    {
     "name": "stdout",
     "output_type": "stream",
     "text": [
      "loss=0.007737746847250327, epoch=3\n"
     ]
    },
    {
     "name": "stderr",
     "output_type": "stream",
     "text": [
      " 80%|████████  | 4/5 [1:06:02<16:29, 989.63s/it]"
     ]
    },
    {
     "name": "stdout",
     "output_type": "stream",
     "text": [
      "Epoch 3, NDCG@10: 0.05045065840100071\n",
      "Epoch 3, HR@10: 0.0673828125\n",
      "Epoch 3, Cov@10: 0.004507626801220977\n",
      "loss=0.007715946873599973, epoch=4\n"
     ]
    },
    {
     "name": "stderr",
     "output_type": "stream",
     "text": [
      "100%|██████████| 5/5 [1:22:34<00:00, 990.96s/it]"
     ]
    },
    {
     "name": "stdout",
     "output_type": "stream",
     "text": [
      "Epoch 4, NDCG@10: 0.051895019067258796\n",
      "Epoch 4, HR@10: 0.0712890625\n",
      "Epoch 4, Cov@10: 0.004417215948474424\n"
     ]
    },
    {
     "name": "stderr",
     "output_type": "stream",
     "text": [
      "\n"
     ]
    },
    {
     "name": "stdout",
     "output_type": "stream",
     "text": [
      "\n",
      "Peak training memory, mb: 12440.19\n",
      "Training epoches: 5\n",
      "Training time, m: 82.58\n"
     ]
    }
   ],
   "source": [
    "base_config_bce = dict(\n",
    "    manual_seed = 123,\n",
    "    sampler_seed = 123,\n",
    "    init_emb_svd = None,\n",
    "    lin_layer_dim = 128,\n",
    "    num_epochs = 5, #3 10 22 100&dropout0.9&hd32&bs1000\n",
    "    maxlen = 100,\n",
    "    hidden_units = 128,\n",
    "    dropout_rate = 0.9,\n",
    "    num_blocks = 2,\n",
    "    num_heads = 2,\n",
    "    batch_size = 128,\n",
    "    learning_rate = 1e-3,\n",
    "    fwd_type = 'bce',\n",
    "    l2_emb = 0,\n",
    "    patience = 10,\n",
    "    skip_epochs = 1,\n",
    "    n_neg_samples=600,\n",
    "    sampling='without_rep'\n",
    ")\n",
    "\n",
    "model_e = build_sasrec_model(base_config_bce,\n",
    "                             training_temp,\n",
    "                             data_description_temp,\n",
    "                             testset_valid_temp_cut,\n",
    "                             holdout_valid_temp_cut,\n",
    "                             device,\n",
    "                             task=None,\n",
    "                             log=None,\n",
    "                             item_emb_svd=item_embs)"
   ]
  },
  {
   "cell_type": "code",
   "execution_count": 11,
   "id": "8aeb5e05-76cf-45c4-932b-f08979d08924",
   "metadata": {},
   "outputs": [],
   "source": [
    "torch.save(model_e.state_dict(), 'saved_models/model_e2.pt')"
   ]
  },
  {
   "cell_type": "code",
   "execution_count": 15,
   "id": "df342492-ae76-4699-b5e3-f35981947354",
   "metadata": {},
   "outputs": [
    {
     "data": {
      "text/plain": [
       "{'hr@1': 0.082,\n",
       " 'mrr@1': 0.082,\n",
       " 'ndcg@1': 0.082,\n",
       " 'cov@1': 0.010810554821266355,\n",
       " 'hr@5': 0.1444,\n",
       " 'mrr@5': 0.10323,\n",
       " 'ndcg@5': 0.11337880510435107,\n",
       " 'cov@5': 0.03384810115682839,\n",
       " 'hr@10': 0.182,\n",
       " 'mrr@10': 0.10829690476190476,\n",
       " 'ndcg@10': 0.1255870218388335,\n",
       " 'cov@10': 0.05366099374443004,\n",
       " 'hr@20': 0.2452,\n",
       " 'mrr@20': 0.11258995352428787,\n",
       " 'ndcg@20': 0.1414485607144471,\n",
       " 'cov@20': 0.08207152790035863,\n",
       " 'hr@50': 0.33,\n",
       " 'mrr@50': 0.11529694376092786,\n",
       " 'ndcg@50': 0.15828277602013582,\n",
       " 'cov@50': 0.13432039023046158}"
      ]
     },
     "execution_count": 15,
     "metadata": {},
     "output_type": "execute_result"
    }
   ],
   "source": [
    "from eval_utils import get_test_scores\n",
    "from train import prepare_sasrec_model\n",
    "\n",
    "testset = pd.read_csv('testset.csv')\n",
    "# item_embs = torch.load(\"./saved_models/item_embs.pt\", map_location=torch.device(device))\n",
    "item_embs = None\n",
    "\n",
    "base_config_bce = dict(\n",
    "    manual_seed = 123,\n",
    "    sampler_seed = 123,\n",
    "    init_emb_svd = None,\n",
    "    lin_layer_dim = -1,\n",
    "    num_epochs = 5, #3 10 22 100&dropout0.9&hd32&bs1000\n",
    "    maxlen = 100,\n",
    "    hidden_units = 128,\n",
    "    dropout_rate = 0.3,\n",
    "    num_blocks = 2,\n",
    "    num_heads = 2,\n",
    "    batch_size = 128,\n",
    "    learning_rate = 1e-3,\n",
    "    fwd_type = 'bce',\n",
    "    l2_emb = 0,\n",
    "    patience = 10,\n",
    "    skip_epochs = 1,\n",
    "    n_neg_samples=600,\n",
    "    sampling='without_rep'\n",
    ")\n",
    "\n",
    "# model, _, _, _ = prepare_sasrec_model(base_config_bce, training_temp, data_description_temp, device, item_embs)\n",
    "# model.load_state_dict(torch.load('../sasrec_cql/RECE/saved_models/model_e2_nonsvd.pt', map_location=torch.device(device)))\n",
    "# model.eval()\n",
    "\n",
    "model, _, _, _ = prepare_sasrec_model(base_config_bce, training_temp, data_description_temp, device, item_embs)\n",
    "model.load_state_dict(torch.load('../sasrec_cql/RECE/saved_models/model_e2_nonsvd.pt', map_location=torch.device(device)))\n",
    "model.eval()\n",
    "\n",
    "testset_, holdout_ = leave_one_out(\n",
    "    testset, target='timestamp', sample_top=True, random_state=0\n",
    ")\n",
    "\n",
    "test_size = 5000\n",
    "test_users = np.intersect1d(holdout_['userid'].unique(), testset_['userid'].unique())\n",
    "if test_size < len(test_users):\n",
    "    test_users  = np.random.choice(test_users, size=test_size, replace=False)\n",
    "testset = testset_[testset_['userid'].isin(test_users)].sort_values(by=['userid', 'timestamp'])\n",
    "holdout = holdout_[holdout_['userid'].isin(test_users)].sort_values(['userid'])\n",
    "\n",
    "get_test_scores(model, data_description_temp, testset, holdout, device)"
   ]
  },
  {
   "cell_type": "code",
   "execution_count": 11,
   "id": "9ccb949f-d054-4e87-ab11-5dfa9ab52a41",
   "metadata": {},
   "outputs": [],
   "source": [
    "# то, что ниже, тебе сейчас не нужно особо"
   ]
  },
  {
   "cell_type": "markdown",
   "id": "f8d963b1-4187-4eff-b78c-c9bfbe43de3f",
   "metadata": {},
   "source": [
    "### Check offline performance"
   ]
  },
  {
   "cell_type": "code",
   "execution_count": 604,
   "id": "c1948384-57c7-42d5-b0be-0c81721a8dc8",
   "metadata": {},
   "outputs": [
    {
     "data": {
      "text/plain": [
       "userid\n",
       "1       [2935, 1160, 1552, 941, 2117, 1633, 3136, 2566...\n",
       "2       [1090, 1102, 1109, 2479, 1183, 2702, 1117, 108...\n",
       "3       [573, 2618, 3260, 1762, 1307, 1755, 1156, 1259...\n",
       "4       [1102, 1008, 3194, 463, 3253, 253, 1088, 1090,...\n",
       "5       [2479, 832, 843, 1140, 346, 2618, 1033, 1981, ...\n",
       "                              ...                        \n",
       "6001    [3464, 3207, 1562, 1544, 2635, 1139, 1242, 889...\n",
       "6002    [1736, 440, 1740, 2049, 2849, 265, 961, 2898, ...\n",
       "6016    [3570, 3463, 3507, 1344, 2880, 3601, 27, 2466,...\n",
       "6028                                               [2755]\n",
       "6040    [2932, 2348, 1104, 3092, 3148, 1148, 1160, 186...\n",
       "Name: itemid, Length: 1783, dtype: object"
      ]
     },
     "execution_count": 604,
     "metadata": {},
     "output_type": "execute_result"
    }
   ],
   "source": [
    "test_sequences = data_to_sequences(testset, data_description_full)\n",
    "test_sequences"
   ]
  },
  {
   "cell_type": "code",
   "execution_count": 602,
   "id": "2366ea91-e2d7-4d68-994c-747f8b963444",
   "metadata": {},
   "outputs": [],
   "source": [
    "def recommend_sequential(\n",
    "    model,\n",
    "    target_seq: Union[list, np.ndarray],\n",
    "    seen_seq: Union[list, np.ndarray],\n",
    "    topn: int,\n",
    "    *,\n",
    "    user: Optional[int] = None\n",
    "):\n",
    "    '''Given an item sequence and a sequence of next target items,\n",
    "    predict top-n candidates for each next step in the target sequence.\n",
    "    '''\n",
    "    model.eval()\n",
    "    predictions = predict_sequential(model, target_seq[:-1], seen_seq, user=user)\n",
    "    predictions[:, seen_seq] = -np.inf\n",
    "    for k in range(1, predictions.shape[0]):\n",
    "        predictions[k, target_seq[:k]] = -np.inf\n",
    "    predicted_items = np.apply_along_axis(topidx, 1, predictions, topn)\n",
    "    return predicted_items\n",
    "\n",
    "def predict_sequential(model, target_seq, seen_seq, user):\n",
    "\n",
    "    maxlen = base_config1['maxlen']\n",
    "\n",
    "    n_seen = len(seen_seq)\n",
    "    n_targets = len(target_seq)\n",
    "    seq = np.concatenate([seen_seq, target_seq])\n",
    "\n",
    "    with torch.no_grad():\n",
    "        pad_seq = torch.as_tensor(\n",
    "            np.pad(\n",
    "                seq, (max(0, maxlen-n_seen), 0),\n",
    "                mode = 'constant',\n",
    "                constant_values = model.pad_token\n",
    "            ),\n",
    "            dtype = torch.int64,\n",
    "            device = device\n",
    "        )\n",
    "        log_seqs = torch.as_strided(pad_seq[-n_targets-maxlen:], (n_targets+1, maxlen), (1, 1))\n",
    "        log_feats = model.log2feats(log_seqs)[:, -1, :]\n",
    "        item_embs = model.item_emb.weight\n",
    "        logits = item_embs.matmul(log_feats.unsqueeze(-1)).squeeze(-1)\n",
    "\n",
    "\n",
    "    # predictions = item_embs.matmul(final_feat.unsqueeze(-1)).squeeze(-1)\n",
    "    \n",
    "    return logits.detach().cpu().numpy()\n",
    "\n",
    "def topidx(arr, topn):\n",
    "    parted = np.argpartition(arr, -topn)[-topn:]\n",
    "    return parted[np.argsort(-arr[parted])]"
   ]
  },
  {
   "cell_type": "code",
   "execution_count": 603,
   "id": "4f06cfbb-9085-4ec7-a6ae-4317552634cb",
   "metadata": {},
   "outputs": [
    {
     "name": "stderr",
     "output_type": "stream",
     "text": [
      "1783it [00:19, 89.22it/s] \n",
      "1783it [00:19, 89.89it/s] \n",
      "1783it [00:19, 89.48it/s] \n",
      "1783it [00:19, 90.40it/s] \n"
     ]
    },
    {
     "data": {
      "text/html": [
       "<div>\n",
       "<style scoped>\n",
       "    .dataframe tbody tr th:only-of-type {\n",
       "        vertical-align: middle;\n",
       "    }\n",
       "\n",
       "    .dataframe tbody tr th {\n",
       "        vertical-align: top;\n",
       "    }\n",
       "\n",
       "    .dataframe thead th {\n",
       "        text-align: right;\n",
       "    }\n",
       "</style>\n",
       "<table border=\"1\" class=\"dataframe\">\n",
       "  <thead>\n",
       "    <tr style=\"text-align: right;\">\n",
       "      <th></th>\n",
       "      <th>SASRec 1</th>\n",
       "      <th>SASRec 2</th>\n",
       "      <th>SASRec 3</th>\n",
       "      <th>SASRec 4</th>\n",
       "    </tr>\n",
       "  </thead>\n",
       "  <tbody>\n",
       "    <tr>\n",
       "      <th>HR@10</th>\n",
       "      <td>0.239497</td>\n",
       "      <td>0.221020</td>\n",
       "      <td>0.179104</td>\n",
       "      <td>0.028692</td>\n",
       "    </tr>\n",
       "    <tr>\n",
       "      <th>MRR@10</th>\n",
       "      <td>0.094344</td>\n",
       "      <td>0.085006</td>\n",
       "      <td>0.067651</td>\n",
       "      <td>0.009201</td>\n",
       "    </tr>\n",
       "    <tr>\n",
       "      <th>NDCG@10</th>\n",
       "      <td>0.128065</td>\n",
       "      <td>0.116584</td>\n",
       "      <td>0.093494</td>\n",
       "      <td>0.013647</td>\n",
       "    </tr>\n",
       "    <tr>\n",
       "      <th>COV@10</th>\n",
       "      <td>0.067123</td>\n",
       "      <td>0.065069</td>\n",
       "      <td>0.060589</td>\n",
       "      <td>0.005394</td>\n",
       "    </tr>\n",
       "  </tbody>\n",
       "</table>\n",
       "</div>"
      ],
      "text/plain": [
       "         SASRec 1  SASRec 2  SASRec 3  SASRec 4\n",
       "HR@10    0.239497  0.221020  0.179104  0.028692\n",
       "MRR@10   0.094344  0.085006  0.067651  0.009201\n",
       "NDCG@10  0.128065  0.116584  0.093494  0.013647\n",
       "COV@10   0.067123  0.065069  0.060589  0.005394"
      ]
     },
     "execution_count": 603,
     "metadata": {},
     "output_type": "execute_result"
    }
   ],
   "source": [
    "models = {\n",
    "    'SASRec 1': model_D_sasrec,\n",
    "    'SASRec 2': model_e,\n",
    "    'SASRec 3': model_e3,\n",
    "    'SASRec 4': model_e5\n",
    "}\n",
    "\n",
    "topn = 10\n",
    "test_data = test_sequences\n",
    "results_list = []\n",
    "\n",
    "\n",
    "# Loop over each model\n",
    "for model_name, model in models.items():\n",
    "    cum_hits = 0\n",
    "    cum_reciprocal_ranks = 0.\n",
    "    cum_discounts = 0.\n",
    "    unique_recommendations = set()\n",
    "    total_count = 0\n",
    "    cov = []\n",
    "\n",
    "    # Loop over each user and test sequence\n",
    "    for user, test_seq in tqdm(test_data.items()):\n",
    "        seen_seq = test_seq[:1]\n",
    "        test_seq = test_seq[1:]\n",
    "        num_predictions = len(test_seq)\n",
    "        if not num_predictions:  # if no test items left - skip user\n",
    "            continue\n",
    "\n",
    "        # Get predicted items\n",
    "        predicted_items = recommend_sequential(model, test_seq, seen_seq, topn, user=user)\n",
    "        \n",
    "        # Compute hit steps and indices\n",
    "        hit_steps, hit_index = np.where(predicted_items == np.atleast_2d(test_seq).T)\n",
    "        cov.append(len(np.unique(predicted_items.ravel()))/ data_description_temp['n_items'])\n",
    "\n",
    "        num_hits = hit_index.size\n",
    "        if num_hits:\n",
    "            cum_hits += num_hits\n",
    "            cum_reciprocal_ranks += np.sum(1. / (hit_index + 1))\n",
    "            cum_discounts += np.sum(1. / np.log2(hit_index + 2))\n",
    "        total_count += num_predictions\n",
    "\n",
    "    # Compute evaluation metrics for the current model\n",
    "    hr = cum_hits / total_count\n",
    "    mrr = cum_reciprocal_ranks / total_count\n",
    "    dcg = cum_discounts / total_count\n",
    "    cov = np.mean(cov)\n",
    "\n",
    "    # Append the results for this model to the results list\n",
    "    results_list.append(pd.DataFrame(\n",
    "        data={'score': [hr, mrr, dcg, cov]},\n",
    "        index=[f'{metric}@{topn}' for metric in ['HR', 'MRR', 'NDCG', 'COV']],\n",
    "        # columns=[model_name]  # Label results by model name\n",
    "    ))\n",
    "    \n",
    "final_results = pd.concat(results_list, axis=1)\n",
    "final_results.columns = models.keys()\n",
    "final_results"
   ]
  },
  {
   "cell_type": "code",
   "execution_count": 222,
   "id": "79b1d349-f003-4037-9365-3e2ce4f6b311",
   "metadata": {},
   "outputs": [
    {
     "name": "stderr",
     "output_type": "stream",
     "text": [
      "1783it [00:20, 87.20it/s] \n"
     ]
    },
    {
     "data": {
      "text/html": [
       "<div>\n",
       "<style scoped>\n",
       "    .dataframe tbody tr th:only-of-type {\n",
       "        vertical-align: middle;\n",
       "    }\n",
       "\n",
       "    .dataframe tbody tr th {\n",
       "        vertical-align: top;\n",
       "    }\n",
       "\n",
       "    .dataframe thead th {\n",
       "        text-align: right;\n",
       "    }\n",
       "</style>\n",
       "<table border=\"1\" class=\"dataframe\">\n",
       "  <thead>\n",
       "    <tr style=\"text-align: right;\">\n",
       "      <th></th>\n",
       "      <th>score</th>\n",
       "    </tr>\n",
       "  </thead>\n",
       "  <tbody>\n",
       "    <tr>\n",
       "      <th>HR@10</th>\n",
       "      <td>0.239497</td>\n",
       "    </tr>\n",
       "    <tr>\n",
       "      <th>MRR@10</th>\n",
       "      <td>0.094344</td>\n",
       "    </tr>\n",
       "    <tr>\n",
       "      <th>NDCG@10</th>\n",
       "      <td>0.128065</td>\n",
       "    </tr>\n",
       "    <tr>\n",
       "      <th>COV@10</th>\n",
       "      <td>0.795790</td>\n",
       "    </tr>\n",
       "  </tbody>\n",
       "</table>\n",
       "</div>"
      ],
      "text/plain": [
       "            score\n",
       "HR@10    0.239497\n",
       "MRR@10   0.094344\n",
       "NDCG@10  0.128065\n",
       "COV@10   0.795790"
      ]
     },
     "execution_count": 222,
     "metadata": {},
     "output_type": "execute_result"
    }
   ],
   "source": [
    "model = model_D_sasrec\n",
    "topn = 10\n",
    "##################################\n",
    "test_data = test_sequences\n",
    "\n",
    "cum_hits = 0\n",
    "cum_reciprocal_ranks = 0.\n",
    "cum_discounts = 0.\n",
    "unique_recommendations = set()\n",
    "total_count = 0\n",
    "for user, test_seq in tqdm(test_data.items()):\n",
    "    \n",
    "    seen_seq = test_seq[:1]\n",
    "    test_seq = test_seq[1:]\n",
    "    num_predictions = len(test_seq)\n",
    "    if not num_predictions: # if no test items left - skip user\n",
    "        continue\n",
    "    predicted_items = recommend_sequential(model, test_seq, seen_seq, topn, user=user)\n",
    "    hit_steps, hit_index = np.where(predicted_items == np.atleast_2d(test_seq).T)\n",
    "    unique_recommendations.update(predicted_items.ravel())\n",
    "\n",
    "    num_hits = hit_index.size\n",
    "    if num_hits:\n",
    "        cum_hits += num_hits\n",
    "        cum_reciprocal_ranks += np.sum(1. / (hit_index+1))\n",
    "        cum_discounts += np.sum(1. / np.log2(hit_index+2))\n",
    "    total_count += num_predictions\n",
    "\n",
    "hr = cum_hits / total_count\n",
    "mrr = cum_reciprocal_ranks / total_count\n",
    "dcg = cum_discounts / total_count\n",
    "cov = len(unique_recommendations) / data_description_temp['n_items']\n",
    "resultsD = pd.DataFrame(\n",
    "    data = {'score': [hr, mrr, dcg, cov]},\n",
    "    index = [f'{metric}@{topn}' for metric in ['HR', 'MRR', 'NDCG', 'COV']]\n",
    ")\n",
    "resultsD"
   ]
  },
  {
   "cell_type": "code",
   "execution_count": null,
   "id": "114f77c9-f32e-417d-9b1f-ecb2df0a7d19",
   "metadata": {},
   "outputs": [],
   "source": []
  }
 ],
 "metadata": {
  "kernelspec": {
   "display_name": "Python 3 (ipykernel)",
   "language": "python",
   "name": "python3"
  },
  "language_info": {
   "codemirror_mode": {
    "name": "ipython",
    "version": 3
   },
   "file_extension": ".py",
   "mimetype": "text/x-python",
   "name": "python",
   "nbconvert_exporter": "python",
   "pygments_lexer": "ipython3",
   "version": "3.7.12"
  }
 },
 "nbformat": 4,
 "nbformat_minor": 5
}
