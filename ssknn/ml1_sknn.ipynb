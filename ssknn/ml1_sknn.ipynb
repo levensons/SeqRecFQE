{
 "cells": [
  {
   "cell_type": "code",
   "execution_count": 1,
   "metadata": {},
   "outputs": [
    {
     "name": "stdout",
     "output_type": "stream",
     "text": [
      "Collecting polara\n",
      "  Cloning https://github.com/evfro/polara.git (to revision develop) to /tmp/pip-install-kv14tw8h/polara_e1d8fd0d3a524520949e875f4244f4fb\n",
      "  Running command git clone --filter=blob:none -q https://github.com/evfro/polara.git /tmp/pip-install-kv14tw8h/polara_e1d8fd0d3a524520949e875f4244f4fb\n",
      "  Running command git checkout -b develop --track origin/develop\n",
      "  Switched to a new branch 'develop'\n",
      "  Branch 'develop' set up to track remote branch 'develop' from 'origin'.\n",
      "  Resolved https://github.com/evfro/polara.git to commit ef7a5360e3f9793f4f0fdd4f31e32399d2e52069\n",
      "  Preparing metadata (setup.py) ... \u001b[?25ldone\n",
      "\u001b[?25h"
     ]
    }
   ],
   "source": [
    "!pip install --no-cache-dir --upgrade git+https://github.com/evfro/polara.git@develop#egg=polara"
   ]
  },
  {
   "cell_type": "code",
   "execution_count": 1,
   "metadata": {
    "scrolled": true
   },
   "outputs": [],
   "source": [
    "%load_ext autoreload\n",
    "%autoreload 2\n",
    "\n",
    "import numpy as np\n",
    "import pandas as pd\n",
    "from sklearn.metrics.pairwise import cosine_similarity\n",
    "from tqdm.notebook import tqdm\n",
    "from scipy.sparse import csr_matrix, coo_matrix, diags\n",
    "\n",
    "from polara import get_movielens_data\n",
    "from polara.preprocessing.dataframes import leave_one_out, reindex\n",
    "\n",
    "from source.dataprep.dataprep import transform_indices, generate_interactions_matrix\n",
    "from source.evaluation.evaluation import topn_recommendations, model_evaluate, downvote_seen_items, build_evaluate_model\n",
    "from source.helpers.knn import truncate_similarity\n",
    "from source.helpers.similarity import jaccard_similarity, weighted_jaccard_similarity\n",
    "from source.helpers.plot import plot_histories\n",
    "from source.models.basic import Random, Popular\n",
    "from data import get_dataset\n",
    "# %cd -"
   ]
  },
  {
   "cell_type": "code",
   "execution_count": null,
   "metadata": {},
   "outputs": [],
   "source": [
    "# training, data_description, testset_valid, testset, holdout_valid, holdout = get_dataset(validation_size=1024, test_size=5000, splitting='temporal_full',\n",
    "#                                                                                      q=0.8)\n",
    "# data_description"
   ]
  },
  {
   "cell_type": "code",
   "execution_count": 3,
   "metadata": {
    "collapsed": true,
    "jupyter": {
     "outputs_hidden": true
    },
    "tags": []
   },
   "outputs": [
    {
     "ename": "ParserError",
     "evalue": "Error tokenizing data. C error: Calling read(nbytes) on source failed. Try engine='python'.",
     "output_type": "error",
     "traceback": [
      "\u001b[0;31m---------------------------------------------------------------------------\u001b[0m",
      "\u001b[0;31mParserError\u001b[0m                               Traceback (most recent call last)",
      "\u001b[0;32m/tmp/ipykernel_780461/1791430760.py\u001b[0m in \u001b[0;36m<module>\u001b[0;34m\u001b[0m\n\u001b[0;32m----> 1\u001b[0;31m \u001b[0mtraining\u001b[0m \u001b[0;34m=\u001b[0m \u001b[0mpd\u001b[0m\u001b[0;34m.\u001b[0m\u001b[0mread_csv\u001b[0m\u001b[0;34m(\u001b[0m\u001b[0;34m'../sasrec_zvuk/training_temp.csv'\u001b[0m\u001b[0;34m)\u001b[0m\u001b[0;34m\u001b[0m\u001b[0;34m\u001b[0m\u001b[0m\n\u001b[0m\u001b[1;32m      2\u001b[0m \u001b[0mtestset_valid\u001b[0m \u001b[0;34m=\u001b[0m \u001b[0mpd\u001b[0m\u001b[0;34m.\u001b[0m\u001b[0mread_csv\u001b[0m\u001b[0;34m(\u001b[0m\u001b[0;34m'../sasrec_zvuk/testset_valid_temp_cut.csv'\u001b[0m\u001b[0;34m)\u001b[0m\u001b[0;34m\u001b[0m\u001b[0;34m\u001b[0m\u001b[0m\n\u001b[1;32m      3\u001b[0m \u001b[0mholdout_valid\u001b[0m \u001b[0;34m=\u001b[0m \u001b[0mpd\u001b[0m\u001b[0;34m.\u001b[0m\u001b[0mread_csv\u001b[0m\u001b[0;34m(\u001b[0m\u001b[0;34m'../sasrec_zvuk/holdout_valid_temp_cut.csv'\u001b[0m\u001b[0;34m)\u001b[0m\u001b[0;34m\u001b[0m\u001b[0;34m\u001b[0m\u001b[0m\n\u001b[1;32m      4\u001b[0m \u001b[0mtestset\u001b[0m \u001b[0;34m=\u001b[0m \u001b[0mpd\u001b[0m\u001b[0;34m.\u001b[0m\u001b[0mread_csv\u001b[0m\u001b[0;34m(\u001b[0m\u001b[0;34m'../sasrec_zvuk/testset.csv'\u001b[0m\u001b[0;34m)\u001b[0m\u001b[0;34m\u001b[0m\u001b[0;34m\u001b[0m\u001b[0m\n\u001b[1;32m      5\u001b[0m data_description = {'users': 'userid',\n",
      "\u001b[0;32m/home/user/conda/lib/python3.7/site-packages/pandas/util/_decorators.py\u001b[0m in \u001b[0;36mwrapper\u001b[0;34m(*args, **kwargs)\u001b[0m\n\u001b[1;32m    309\u001b[0m                     \u001b[0mstacklevel\u001b[0m\u001b[0;34m=\u001b[0m\u001b[0mstacklevel\u001b[0m\u001b[0;34m,\u001b[0m\u001b[0;34m\u001b[0m\u001b[0;34m\u001b[0m\u001b[0m\n\u001b[1;32m    310\u001b[0m                 )\n\u001b[0;32m--> 311\u001b[0;31m             \u001b[0;32mreturn\u001b[0m \u001b[0mfunc\u001b[0m\u001b[0;34m(\u001b[0m\u001b[0;34m*\u001b[0m\u001b[0margs\u001b[0m\u001b[0;34m,\u001b[0m \u001b[0;34m**\u001b[0m\u001b[0mkwargs\u001b[0m\u001b[0;34m)\u001b[0m\u001b[0;34m\u001b[0m\u001b[0;34m\u001b[0m\u001b[0m\n\u001b[0m\u001b[1;32m    312\u001b[0m \u001b[0;34m\u001b[0m\u001b[0m\n\u001b[1;32m    313\u001b[0m         \u001b[0;32mreturn\u001b[0m \u001b[0mwrapper\u001b[0m\u001b[0;34m\u001b[0m\u001b[0;34m\u001b[0m\u001b[0m\n",
      "\u001b[0;32m/home/user/conda/lib/python3.7/site-packages/pandas/io/parsers/readers.py\u001b[0m in \u001b[0;36mread_csv\u001b[0;34m(filepath_or_buffer, sep, delimiter, header, names, index_col, usecols, squeeze, prefix, mangle_dupe_cols, dtype, engine, converters, true_values, false_values, skipinitialspace, skiprows, skipfooter, nrows, na_values, keep_default_na, na_filter, verbose, skip_blank_lines, parse_dates, infer_datetime_format, keep_date_col, date_parser, dayfirst, cache_dates, iterator, chunksize, compression, thousands, decimal, lineterminator, quotechar, quoting, doublequote, escapechar, comment, encoding, encoding_errors, dialect, error_bad_lines, warn_bad_lines, on_bad_lines, delim_whitespace, low_memory, memory_map, float_precision, storage_options)\u001b[0m\n\u001b[1;32m    584\u001b[0m     \u001b[0mkwds\u001b[0m\u001b[0;34m.\u001b[0m\u001b[0mupdate\u001b[0m\u001b[0;34m(\u001b[0m\u001b[0mkwds_defaults\u001b[0m\u001b[0;34m)\u001b[0m\u001b[0;34m\u001b[0m\u001b[0;34m\u001b[0m\u001b[0m\n\u001b[1;32m    585\u001b[0m \u001b[0;34m\u001b[0m\u001b[0m\n\u001b[0;32m--> 586\u001b[0;31m     \u001b[0;32mreturn\u001b[0m \u001b[0m_read\u001b[0m\u001b[0;34m(\u001b[0m\u001b[0mfilepath_or_buffer\u001b[0m\u001b[0;34m,\u001b[0m \u001b[0mkwds\u001b[0m\u001b[0;34m)\u001b[0m\u001b[0;34m\u001b[0m\u001b[0;34m\u001b[0m\u001b[0m\n\u001b[0m\u001b[1;32m    587\u001b[0m \u001b[0;34m\u001b[0m\u001b[0m\n\u001b[1;32m    588\u001b[0m \u001b[0;34m\u001b[0m\u001b[0m\n",
      "\u001b[0;32m/home/user/conda/lib/python3.7/site-packages/pandas/io/parsers/readers.py\u001b[0m in \u001b[0;36m_read\u001b[0;34m(filepath_or_buffer, kwds)\u001b[0m\n\u001b[1;32m    486\u001b[0m \u001b[0;34m\u001b[0m\u001b[0m\n\u001b[1;32m    487\u001b[0m     \u001b[0;32mwith\u001b[0m \u001b[0mparser\u001b[0m\u001b[0;34m:\u001b[0m\u001b[0;34m\u001b[0m\u001b[0;34m\u001b[0m\u001b[0m\n\u001b[0;32m--> 488\u001b[0;31m         \u001b[0;32mreturn\u001b[0m \u001b[0mparser\u001b[0m\u001b[0;34m.\u001b[0m\u001b[0mread\u001b[0m\u001b[0;34m(\u001b[0m\u001b[0mnrows\u001b[0m\u001b[0;34m)\u001b[0m\u001b[0;34m\u001b[0m\u001b[0;34m\u001b[0m\u001b[0m\n\u001b[0m\u001b[1;32m    489\u001b[0m \u001b[0;34m\u001b[0m\u001b[0m\n\u001b[1;32m    490\u001b[0m \u001b[0;34m\u001b[0m\u001b[0m\n",
      "\u001b[0;32m/home/user/conda/lib/python3.7/site-packages/pandas/io/parsers/readers.py\u001b[0m in \u001b[0;36mread\u001b[0;34m(self, nrows)\u001b[0m\n\u001b[1;32m   1045\u001b[0m     \u001b[0;32mdef\u001b[0m \u001b[0mread\u001b[0m\u001b[0;34m(\u001b[0m\u001b[0mself\u001b[0m\u001b[0;34m,\u001b[0m \u001b[0mnrows\u001b[0m\u001b[0;34m=\u001b[0m\u001b[0;32mNone\u001b[0m\u001b[0;34m)\u001b[0m\u001b[0;34m:\u001b[0m\u001b[0;34m\u001b[0m\u001b[0;34m\u001b[0m\u001b[0m\n\u001b[1;32m   1046\u001b[0m         \u001b[0mnrows\u001b[0m \u001b[0;34m=\u001b[0m \u001b[0mvalidate_integer\u001b[0m\u001b[0;34m(\u001b[0m\u001b[0;34m\"nrows\"\u001b[0m\u001b[0;34m,\u001b[0m \u001b[0mnrows\u001b[0m\u001b[0;34m)\u001b[0m\u001b[0;34m\u001b[0m\u001b[0;34m\u001b[0m\u001b[0m\n\u001b[0;32m-> 1047\u001b[0;31m         \u001b[0mindex\u001b[0m\u001b[0;34m,\u001b[0m \u001b[0mcolumns\u001b[0m\u001b[0;34m,\u001b[0m \u001b[0mcol_dict\u001b[0m \u001b[0;34m=\u001b[0m \u001b[0mself\u001b[0m\u001b[0;34m.\u001b[0m\u001b[0m_engine\u001b[0m\u001b[0;34m.\u001b[0m\u001b[0mread\u001b[0m\u001b[0;34m(\u001b[0m\u001b[0mnrows\u001b[0m\u001b[0;34m)\u001b[0m\u001b[0;34m\u001b[0m\u001b[0;34m\u001b[0m\u001b[0m\n\u001b[0m\u001b[1;32m   1048\u001b[0m \u001b[0;34m\u001b[0m\u001b[0m\n\u001b[1;32m   1049\u001b[0m         \u001b[0;32mif\u001b[0m \u001b[0mindex\u001b[0m \u001b[0;32mis\u001b[0m \u001b[0;32mNone\u001b[0m\u001b[0;34m:\u001b[0m\u001b[0;34m\u001b[0m\u001b[0;34m\u001b[0m\u001b[0m\n",
      "\u001b[0;32m/home/user/conda/lib/python3.7/site-packages/pandas/io/parsers/c_parser_wrapper.py\u001b[0m in \u001b[0;36mread\u001b[0;34m(self, nrows)\u001b[0m\n\u001b[1;32m    222\u001b[0m         \u001b[0;32mtry\u001b[0m\u001b[0;34m:\u001b[0m\u001b[0;34m\u001b[0m\u001b[0;34m\u001b[0m\u001b[0m\n\u001b[1;32m    223\u001b[0m             \u001b[0;32mif\u001b[0m \u001b[0mself\u001b[0m\u001b[0;34m.\u001b[0m\u001b[0mlow_memory\u001b[0m\u001b[0;34m:\u001b[0m\u001b[0;34m\u001b[0m\u001b[0;34m\u001b[0m\u001b[0m\n\u001b[0;32m--> 224\u001b[0;31m                 \u001b[0mchunks\u001b[0m \u001b[0;34m=\u001b[0m \u001b[0mself\u001b[0m\u001b[0;34m.\u001b[0m\u001b[0m_reader\u001b[0m\u001b[0;34m.\u001b[0m\u001b[0mread_low_memory\u001b[0m\u001b[0;34m(\u001b[0m\u001b[0mnrows\u001b[0m\u001b[0;34m)\u001b[0m\u001b[0;34m\u001b[0m\u001b[0;34m\u001b[0m\u001b[0m\n\u001b[0m\u001b[1;32m    225\u001b[0m                 \u001b[0;31m# destructive to chunks\u001b[0m\u001b[0;34m\u001b[0m\u001b[0;34m\u001b[0m\u001b[0;34m\u001b[0m\u001b[0m\n\u001b[1;32m    226\u001b[0m                 \u001b[0mdata\u001b[0m \u001b[0;34m=\u001b[0m \u001b[0m_concatenate_chunks\u001b[0m\u001b[0;34m(\u001b[0m\u001b[0mchunks\u001b[0m\u001b[0;34m)\u001b[0m\u001b[0;34m\u001b[0m\u001b[0;34m\u001b[0m\u001b[0m\n",
      "\u001b[0;32m/home/user/conda/lib/python3.7/site-packages/pandas/_libs/parsers.pyx\u001b[0m in \u001b[0;36mpandas._libs.parsers.TextReader.read_low_memory\u001b[0;34m()\u001b[0m\n",
      "\u001b[0;32m/home/user/conda/lib/python3.7/site-packages/pandas/_libs/parsers.pyx\u001b[0m in \u001b[0;36mpandas._libs.parsers.TextReader._read_rows\u001b[0;34m()\u001b[0m\n",
      "\u001b[0;32m/home/user/conda/lib/python3.7/site-packages/pandas/_libs/parsers.pyx\u001b[0m in \u001b[0;36mpandas._libs.parsers.TextReader._tokenize_rows\u001b[0;34m()\u001b[0m\n",
      "\u001b[0;32m/home/user/conda/lib/python3.7/site-packages/pandas/_libs/parsers.pyx\u001b[0m in \u001b[0;36mpandas._libs.parsers.raise_parser_error\u001b[0;34m()\u001b[0m\n",
      "\u001b[0;31mParserError\u001b[0m: Error tokenizing data. C error: Calling read(nbytes) on source failed. Try engine='python'."
     ]
    }
   ],
   "source": [
    "training = pd.read_csv('../sasrec_zvuk/training_temp.csv')\n",
    "testset_valid = pd.read_csv('../sasrec_zvuk/testset_valid_temp_cut.csv')\n",
    "holdout_valid = pd.read_csv('../sasrec_zvuk/holdout_valid_temp_cut.csv')\n",
    "testset = pd.read_csv('../sasrec_zvuk/testset.csv')\n",
    "data_description = {'users': 'userid',\n",
    " 'items': 'itemid',\n",
    " 'order': 'timestamp',\n",
    " 'n_users': training.userid.nunique(),\n",
    " 'n_items': training.itemid.max()\n",
    "}"
   ]
  },
  {
   "cell_type": "code",
   "execution_count": 4,
   "metadata": {},
   "outputs": [],
   "source": [
    "from polara.preprocessing.dataframes import reindex, leave_one_out\n",
    "\n",
    "test_size = 5000\n",
    "\n",
    "testset, holdout = leave_one_out(\n",
    "            testset, target='timestamp', sample_top=True, random_state=0\n",
    "        )\n",
    "\n",
    "test_users = np.intersect1d(holdout['userid'].unique(), testset['userid'].unique())\n",
    "if test_size < len(test_users):\n",
    "    test_users  = np.random.choice(test_users, size=test_size, replace=False)\n",
    "testset = testset[testset['userid'].isin(test_users)].sort_values(by=['userid', 'timestamp'])\n",
    "holdout = holdout[holdout['userid'].isin(test_users)].sort_values(['userid'])"
   ]
  },
  {
   "cell_type": "code",
   "execution_count": 5,
   "metadata": {},
   "outputs": [
    {
     "data": {
      "text/plain": [
       "{'users': 'userid',\n",
       " 'items': 'itemid',\n",
       " 'order': 'timestamp',\n",
       " 'n_users': 1078263,\n",
       " 'n_items': 232273,\n",
       " 'timestamp': 'timestamp'}"
      ]
     },
     "execution_count": 5,
     "metadata": {},
     "output_type": "execute_result"
    }
   ],
   "source": [
    "data_description['timestamp'] = 'timestamp'\n",
    "data_description"
   ]
  },
  {
   "cell_type": "code",
   "execution_count": 6,
   "metadata": {},
   "outputs": [],
   "source": [
    "data_description['n_items'] = 232273 + 1"
   ]
  },
  {
   "cell_type": "code",
   "execution_count": 7,
   "metadata": {},
   "outputs": [
    {
     "name": "stdout",
     "output_type": "stream",
     "text": [
      "232273\n",
      "232228\n"
     ]
    }
   ],
   "source": [
    "print(training[\"itemid\"].max())\n",
    "print(testset_valid[\"itemid\"].max())"
   ]
  },
  {
   "cell_type": "code",
   "execution_count": 8,
   "metadata": {},
   "outputs": [
    {
     "data": {
      "text/html": [
       "<div>\n",
       "<style scoped>\n",
       "    .dataframe tbody tr th:only-of-type {\n",
       "        vertical-align: middle;\n",
       "    }\n",
       "\n",
       "    .dataframe tbody tr th {\n",
       "        vertical-align: top;\n",
       "    }\n",
       "\n",
       "    .dataframe thead th {\n",
       "        text-align: right;\n",
       "    }\n",
       "</style>\n",
       "<table border=\"1\" class=\"dataframe\">\n",
       "  <thead>\n",
       "    <tr style=\"text-align: right;\">\n",
       "      <th></th>\n",
       "      <th>userid</th>\n",
       "      <th>itemid</th>\n",
       "      <th>timestamp</th>\n",
       "      <th>playevent_play_duration</th>\n",
       "      <th>day</th>\n",
       "    </tr>\n",
       "  </thead>\n",
       "  <tbody>\n",
       "    <tr>\n",
       "      <th>19784696</th>\n",
       "      <td>652</td>\n",
       "      <td>121320</td>\n",
       "      <td>1.729517e+15</td>\n",
       "      <td>156</td>\n",
       "      <td>2024-10-21</td>\n",
       "    </tr>\n",
       "    <tr>\n",
       "      <th>20758254</th>\n",
       "      <td>652</td>\n",
       "      <td>899</td>\n",
       "      <td>1.729518e+15</td>\n",
       "      <td>114</td>\n",
       "      <td>2024-10-21</td>\n",
       "    </tr>\n",
       "    <tr>\n",
       "      <th>18874238</th>\n",
       "      <td>652</td>\n",
       "      <td>899</td>\n",
       "      <td>1.729518e+15</td>\n",
       "      <td>176</td>\n",
       "      <td>2024-10-21</td>\n",
       "    </tr>\n",
       "    <tr>\n",
       "      <th>19847600</th>\n",
       "      <td>652</td>\n",
       "      <td>181129</td>\n",
       "      <td>1.729518e+15</td>\n",
       "      <td>251</td>\n",
       "      <td>2024-10-21</td>\n",
       "    </tr>\n",
       "    <tr>\n",
       "      <th>20449554</th>\n",
       "      <td>652</td>\n",
       "      <td>232180</td>\n",
       "      <td>1.729518e+15</td>\n",
       "      <td>102</td>\n",
       "      <td>2024-10-21</td>\n",
       "    </tr>\n",
       "    <tr>\n",
       "      <th>...</th>\n",
       "      <td>...</td>\n",
       "      <td>...</td>\n",
       "      <td>...</td>\n",
       "      <td>...</td>\n",
       "      <td>...</td>\n",
       "    </tr>\n",
       "    <tr>\n",
       "      <th>24254468</th>\n",
       "      <td>2454609</td>\n",
       "      <td>126748</td>\n",
       "      <td>1.729608e+15</td>\n",
       "      <td>219</td>\n",
       "      <td>2024-10-22</td>\n",
       "    </tr>\n",
       "    <tr>\n",
       "      <th>24254470</th>\n",
       "      <td>2454609</td>\n",
       "      <td>156970</td>\n",
       "      <td>1.729608e+15</td>\n",
       "      <td>212</td>\n",
       "      <td>2024-10-22</td>\n",
       "    </tr>\n",
       "    <tr>\n",
       "      <th>24254475</th>\n",
       "      <td>2454609</td>\n",
       "      <td>175037</td>\n",
       "      <td>1.729608e+15</td>\n",
       "      <td>192</td>\n",
       "      <td>2024-10-22</td>\n",
       "    </tr>\n",
       "    <tr>\n",
       "      <th>24254467</th>\n",
       "      <td>2454609</td>\n",
       "      <td>214755</td>\n",
       "      <td>1.729609e+15</td>\n",
       "      <td>185</td>\n",
       "      <td>2024-10-22</td>\n",
       "    </tr>\n",
       "    <tr>\n",
       "      <th>24254462</th>\n",
       "      <td>2454609</td>\n",
       "      <td>175041</td>\n",
       "      <td>1.729609e+15</td>\n",
       "      <td>266</td>\n",
       "      <td>2024-10-22</td>\n",
       "    </tr>\n",
       "  </tbody>\n",
       "</table>\n",
       "<p>336263 rows × 5 columns</p>\n",
       "</div>"
      ],
      "text/plain": [
       "           userid  itemid     timestamp  playevent_play_duration         day\n",
       "19784696      652  121320  1.729517e+15                      156  2024-10-21\n",
       "20758254      652     899  1.729518e+15                      114  2024-10-21\n",
       "18874238      652     899  1.729518e+15                      176  2024-10-21\n",
       "19847600      652  181129  1.729518e+15                      251  2024-10-21\n",
       "20449554      652  232180  1.729518e+15                      102  2024-10-21\n",
       "...           ...     ...           ...                      ...         ...\n",
       "24254468  2454609  126748  1.729608e+15                      219  2024-10-22\n",
       "24254470  2454609  156970  1.729608e+15                      212  2024-10-22\n",
       "24254475  2454609  175037  1.729608e+15                      192  2024-10-22\n",
       "24254467  2454609  214755  1.729609e+15                      185  2024-10-22\n",
       "24254462  2454609  175041  1.729609e+15                      266  2024-10-22\n",
       "\n",
       "[336263 rows x 5 columns]"
      ]
     },
     "execution_count": 8,
     "metadata": {},
     "output_type": "execute_result"
    }
   ],
   "source": [
    "testset"
   ]
  },
  {
   "cell_type": "code",
   "execution_count": 9,
   "metadata": {},
   "outputs": [
    {
     "data": {
      "text/html": [
       "<div>\n",
       "<style scoped>\n",
       "    .dataframe tbody tr th:only-of-type {\n",
       "        vertical-align: middle;\n",
       "    }\n",
       "\n",
       "    .dataframe tbody tr th {\n",
       "        vertical-align: top;\n",
       "    }\n",
       "\n",
       "    .dataframe thead th {\n",
       "        text-align: right;\n",
       "    }\n",
       "</style>\n",
       "<table border=\"1\" class=\"dataframe\">\n",
       "  <thead>\n",
       "    <tr style=\"text-align: right;\">\n",
       "      <th></th>\n",
       "      <th>userid</th>\n",
       "      <th>itemid</th>\n",
       "      <th>timestamp</th>\n",
       "      <th>playevent_play_duration</th>\n",
       "      <th>day</th>\n",
       "    </tr>\n",
       "  </thead>\n",
       "  <tbody>\n",
       "    <tr>\n",
       "      <th>6160529</th>\n",
       "      <td>652</td>\n",
       "      <td>7222</td>\n",
       "      <td>1.729932e+15</td>\n",
       "      <td>153</td>\n",
       "      <td>2024-10-26</td>\n",
       "    </tr>\n",
       "    <tr>\n",
       "      <th>5002005</th>\n",
       "      <td>1586</td>\n",
       "      <td>9639</td>\n",
       "      <td>1.729846e+15</td>\n",
       "      <td>83</td>\n",
       "      <td>2024-10-25</td>\n",
       "    </tr>\n",
       "    <tr>\n",
       "      <th>24260577</th>\n",
       "      <td>1936</td>\n",
       "      <td>175353</td>\n",
       "      <td>1.729879e+15</td>\n",
       "      <td>198</td>\n",
       "      <td>2024-10-25</td>\n",
       "    </tr>\n",
       "    <tr>\n",
       "      <th>23665865</th>\n",
       "      <td>2725</td>\n",
       "      <td>228782</td>\n",
       "      <td>1.729697e+15</td>\n",
       "      <td>41</td>\n",
       "      <td>2024-10-24</td>\n",
       "    </tr>\n",
       "    <tr>\n",
       "      <th>46223984</th>\n",
       "      <td>2940</td>\n",
       "      <td>9464</td>\n",
       "      <td>1.729856e+15</td>\n",
       "      <td>213</td>\n",
       "      <td>2024-10-25</td>\n",
       "    </tr>\n",
       "    <tr>\n",
       "      <th>...</th>\n",
       "      <td>...</td>\n",
       "      <td>...</td>\n",
       "      <td>...</td>\n",
       "      <td>...</td>\n",
       "      <td>...</td>\n",
       "    </tr>\n",
       "    <tr>\n",
       "      <th>920190</th>\n",
       "      <td>2453348</td>\n",
       "      <td>212869</td>\n",
       "      <td>1.729857e+15</td>\n",
       "      <td>135</td>\n",
       "      <td>2024-10-28</td>\n",
       "    </tr>\n",
       "    <tr>\n",
       "      <th>35064995</th>\n",
       "      <td>2453784</td>\n",
       "      <td>173832</td>\n",
       "      <td>1.729900e+15</td>\n",
       "      <td>82</td>\n",
       "      <td>2024-10-26</td>\n",
       "    </tr>\n",
       "    <tr>\n",
       "      <th>2620514</th>\n",
       "      <td>2453994</td>\n",
       "      <td>48886</td>\n",
       "      <td>1.729763e+15</td>\n",
       "      <td>233</td>\n",
       "      <td>2024-10-24</td>\n",
       "    </tr>\n",
       "    <tr>\n",
       "      <th>4497645</th>\n",
       "      <td>2454411</td>\n",
       "      <td>185746</td>\n",
       "      <td>1.729905e+15</td>\n",
       "      <td>64</td>\n",
       "      <td>2024-10-27</td>\n",
       "    </tr>\n",
       "    <tr>\n",
       "      <th>24254478</th>\n",
       "      <td>2454609</td>\n",
       "      <td>137553</td>\n",
       "      <td>1.729609e+15</td>\n",
       "      <td>33</td>\n",
       "      <td>2024-10-22</td>\n",
       "    </tr>\n",
       "  </tbody>\n",
       "</table>\n",
       "<p>5000 rows × 5 columns</p>\n",
       "</div>"
      ],
      "text/plain": [
       "           userid  itemid     timestamp  playevent_play_duration         day\n",
       "6160529       652    7222  1.729932e+15                      153  2024-10-26\n",
       "5002005      1586    9639  1.729846e+15                       83  2024-10-25\n",
       "24260577     1936  175353  1.729879e+15                      198  2024-10-25\n",
       "23665865     2725  228782  1.729697e+15                       41  2024-10-24\n",
       "46223984     2940    9464  1.729856e+15                      213  2024-10-25\n",
       "...           ...     ...           ...                      ...         ...\n",
       "920190    2453348  212869  1.729857e+15                      135  2024-10-28\n",
       "35064995  2453784  173832  1.729900e+15                       82  2024-10-26\n",
       "2620514   2453994   48886  1.729763e+15                      233  2024-10-24\n",
       "4497645   2454411  185746  1.729905e+15                       64  2024-10-27\n",
       "24254478  2454609  137553  1.729609e+15                       33  2024-10-22\n",
       "\n",
       "[5000 rows x 5 columns]"
      ]
     },
     "execution_count": 9,
     "metadata": {},
     "output_type": "execute_result"
    }
   ],
   "source": [
    "holdout"
   ]
  },
  {
   "cell_type": "markdown",
   "metadata": {},
   "source": [
    "# Jaccard similarity"
   ]
  },
  {
   "cell_type": "code",
   "execution_count": 3,
   "metadata": {},
   "outputs": [],
   "source": [
    "def jaccard_similarity(A, B):\n",
    "    '''\n",
    "    Computes the jaccard similarity index between the rows of two input matrices.\n",
    "    The matrices are binarized.\n",
    "    Jaccard(u, v) = \\frac{\\sum_{i=1}^k \\min(u_k, v_k)}{\\sum_{i=1}^k \\max(u_k, v_k)}\n",
    "    \n",
    "    Args:\n",
    "        A (scipy.sparse.csr_matrix): n_users_A x n_items\n",
    "        B (scipy.sparse.csr_matrix): n_users_B x n_items\n",
    "\n",
    "    Returns:\n",
    "        scipy.sparse.csr_matrix: A sparse matrix of shape (n_users_A, n_users_B) containing the similarities between users\n",
    "    '''\n",
    "    assert A.shape[1] == B.shape[1]\n",
    "    A_bin = A.astype('bool').astype('int')\n",
    "    B_bin = B.astype('bool').astype('int')\n",
    "\n",
    "    numerator = A_bin @ B_bin.T\n",
    "    denominator = A_bin.sum(axis=1) + B_bin.sum(axis=1).T - A_bin @ B_bin.T\n",
    "    similarity = csr_matrix(numerator / denominator)\n",
    "    return similarity"
   ]
  },
  {
   "cell_type": "code",
   "execution_count": 4,
   "metadata": {},
   "outputs": [],
   "source": [
    "def compute_similarity(type, m1, m2):\n",
    "    if type == 'jaccard':\n",
    "        similarity = jaccard_similarity(m1, m2)\n",
    "    elif type == 'weighted_jaccard':\n",
    "        similarity = weighted_jaccard_similarity(m1, m2)\n",
    "    elif type == 'cosine':\n",
    "        similarity = cosine_similarity(m1, m2, dense_output=False)\n",
    "    else:\n",
    "        raise ValueError(f'Unknown similarity type: {type}')\n",
    "    return similarity"
   ]
  },
  {
   "cell_type": "markdown",
   "metadata": {},
   "source": [
    "# KNN"
   ]
  },
  {
   "cell_type": "code",
   "execution_count": 5,
   "metadata": {},
   "outputs": [],
   "source": [
    "def generate_sequential_matrix(data, data_description, rebase_users=False):\n",
    "    '''\n",
    "    Converts a pandas dataframe with user-item interactions into a sparse matrix representation.\n",
    "    Allows reindexing user ids, which help ensure data consistency at the scoring stage\n",
    "    (assumes user ids are sorted in the scoring array).\n",
    "\n",
    "    Args:\n",
    "        data (pandas.DataFrame): The input dataframe containing the user-item interactions.\n",
    "        data_description (dict): A dictionary containing the data description with the following keys:\n",
    "            - 'n_users' (int): The total number of unique users in the data.\n",
    "            - 'n_items' (int): The total number of unique items in the data.\n",
    "            - 'users' (str): The name of the column in the dataframe containing the user ids.\n",
    "            - 'items' (str): The name of the column in the dataframe containing the item ids.\n",
    "            - 'feedback' (str): The name of the column in the dataframe containing the user-item interaction feedback.\n",
    "            - 'timestamp' (str): The name of the column in the dataframe containing the user-item interaction timestamp.\n",
    "        rebase_users (bool, optional): Whether to reindex the user ids to make contiguous index starting from 0. Defaults to False.\n",
    "\n",
    "    Returns:\n",
    "        scipy.sparse.csr_matrix: A sparse matrix of shape (n_users, n_items) containing the user-item interactions with reciprocal weighting.\n",
    "    '''\n",
    "\n",
    "    data_sorted = data.sort_values(by=[data_description['timestamp']], ascending=False)\n",
    "    data_sorted['reciprocal_rank'] = (1.0 / (data_sorted.groupby(data_description['users']).cumcount() + 1))\n",
    "\n",
    "    n_users = data_description['n_users']\n",
    "    n_items = data_description['n_items']\n",
    "    # get indices of observed data\n",
    "    user_idx = data_sorted[data_description['users']].values\n",
    "    if rebase_users: # handle non-contiguous index of test users\n",
    "        # This ensures that all user ids are contiguous and start from 0,\n",
    "        # which helps ensure data consistency at the scoring stage.\n",
    "        user_idx, user_index = pd.factorize(user_idx, sort=True)\n",
    "        n_users = len(user_index)\n",
    "    item_idx = data_sorted[data_description['items']].values\n",
    "    ranks = data_sorted['reciprocal_rank'].values\n",
    "    # construct the matrix\n",
    "    return csr_matrix((ranks, (user_idx, item_idx)), shape=(n_users, n_items), dtype=\"f8\")"
   ]
  },
  {
   "cell_type": "markdown",
   "metadata": {},
   "source": [
    "To adapt the regular KNN for the sequential task, one can encode the positional information of the interactions in user history, and calculate the similarity matrix using the encoded interactions matrix. One of the most simplest ways is to encode reciprocal rank. Also linear weighting can be applied."
   ]
  },
  {
   "cell_type": "markdown",
   "metadata": {},
   "source": [
    "There are 3 types of nearest neighbor models that can be applied to the sequential recommendation task. All of them were applied to session-based recommendation task, that is why they all named SKNN (Session-based KNN), and we follow the same notation;\n",
    "\n",
    "- Session-based KNN (SKNN): we compute similarities using binary interaction matrix, and generate predictions using weighted interactions matrix. \n",
    "- Vector multiplication Session-based KNN (V-SKNN): the idea is to put more emphasis on the more recent events of interaction history when computing similarities. \n",
    "- Sequential Session-based KNN (S-SKNN): the similarity is computed as in V-SKNN, but during the scoring step we give more weight to the interactions later in history. More formally, user-based scoring:\n",
    "$$\n",
    "\\text{score}_{\\text{S-SKNN}}(u, i) = \\sum_{v\\in N_i(u)} \\text{sim}(u, v) w(i) a_{vi}\n",
    "$$\n",
    "where $N_i(u)$ is the neighborhood of user $u$; $w(i)$ is the weighting function, which takes into account the order of interactions; $a_{ui}$ is interaction between user $u$ and item $i$.\n",
    "\n",
    "We follow the same notation as in [Ludewig](https://arxiv.org/pdf/1803.09587). This paper investigate next-session prediction task. Comparison in session-based setup can be found there."
   ]
  },
  {
   "cell_type": "markdown",
   "metadata": {},
   "source": [
    "S-SKNN:\n",
    "$$\n",
    "R = \\text{Sim}(A, A) A\n",
    "$$"
   ]
  },
  {
   "cell_type": "code",
   "execution_count": 6,
   "metadata": {},
   "outputs": [],
   "source": [
    "import torch\n",
    "\n",
    "class S_SKNN:\n",
    "    def __init__(self, model_config=None) -> None:\n",
    "        self.similarity_type = model_config['similarity']\n",
    "        self.n_neighbors = model_config['n_neighbors']\n",
    "        self.pad_token = -1\n",
    "\n",
    "        # self.item_popularity = model_config['item_popularity']\n",
    "        # self.data_decription = model_config['data_description']\n",
    "\n",
    "    def build(self, data, data_description):\n",
    "        interactions = generate_sequential_matrix(data, data_description)\n",
    "        self.interactions = interactions\n",
    "        self.data_description = data_description\n",
    "        self.item_popularity = training.itemid.value_counts()\n",
    "\n",
    "    def recommend(self, test_data, data_description):\n",
    "        test_interactions = generate_sequential_matrix(test_data, data_description, rebase_users=True)\n",
    "        full_similarity = compute_similarity(self.similarity_type, test_interactions, self.interactions)\n",
    "        similarity = truncate_similarity(similarity=full_similarity, k=self.n_neighbors)\n",
    "        scores = similarity.dot(self.interactions).toarray()\n",
    "        return scores\n",
    "    \n",
    "    def score_batch(self, log_seqs):\n",
    "        bs, seq_len = log_seqs.shape\n",
    "        \n",
    "        seq_ids = np.repeat(np.arange(bs).reshape(-1, 1), repeats=seq_len, axis=1)\n",
    "        \n",
    "        test_data = pd.DataFrame({\"timestamp\": np.arange(bs * seq_len),\n",
    "                                  \"userid\": seq_ids.ravel(),\n",
    "                                  \"itemid\": log_seqs.cpu().view(-1)})\n",
    "        \n",
    "        test_data = test_data[~(test_data[\"itemid\"] == -1)]\n",
    "        \n",
    "        scores = self.recommend(test_data, self.data_description)\n",
    "        \n",
    "        return torch.from_numpy(scores).to(log_seqs.device)\n",
    "            \n",
    "    def state_batch(self, log_seqs):\n",
    "        #log_seqs is torch.tensor\n",
    "        bs, seq_len = log_seqs.shape\n",
    "        \n",
    "        seq_ids = np.repeat(np.arange(bs).reshape(-1, 1), repeats=seq_len, axis=1)\n",
    "\n",
    "        user_test_interactions = pd.DataFrame({\"timestamp\": np.arange(bs * seq_len),\n",
    "                                               \"userid\": seq_ids.ravel(),\n",
    "                                               \"itemid\": log_seqs.cpu().view(-1)})\n",
    "        \n",
    "        user_test_interactions = user_test_interactions[~(user_test_interactions[\"itemid\"] == -1)]\n",
    "        \n",
    "        states, _ = self.get_current_state(user_test_interactions,\n",
    "                                                self.item_popularity,\n",
    "                                                self.data_description,\n",
    "                                                calculate_subseqs=False,\n",
    "                                                top_pop=128)\n",
    "        \n",
    "        return torch.from_numpy(states).to(log_seqs.device)\n",
    "    \n",
    "    def score_with_state(self, seq):\n",
    "        return self.score_batch(seq.unsqueeze(0)).squeeze(0), self.state_batch(seq.unsqueeze(0)).squeeze(0)\n",
    "\n",
    "    def get_current_state(self, user_test_interactions, item_popularity, data_description, calculate_subseqs, top_pop=300):\n",
    "        \n",
    "        if calculate_subseqs and (user_test_interactions.userid.nunique() == 1):\n",
    "            targets = []\n",
    "            seqs = pd.DataFrame()\n",
    "            \n",
    "            for i in range(user_test_interactions.shape[0] - 1):\n",
    "                user_test_interactions['userid'] = i\n",
    "                \n",
    "                user_test_interactions, target = leave_one_out(user_test_interactions, target='timestamp', sample_top=True, random_state=0)\n",
    "                seqs = pd.concat([seqs, user_test_interactions])\n",
    "                targets.append(target.itemid.values[0])\n",
    "            \n",
    "            user_test_interactions = seqs\n",
    "        else:\n",
    "            user_test_interactions, target = leave_one_out(user_test_interactions, target='timestamp', sample_top=True, random_state=0)\n",
    "            targets = target.itemid.values\n",
    "        \n",
    "        test_interactions_matrix = generate_sequential_matrix(user_test_interactions, data_description, rebase_users=True)\n",
    "        \n",
    "        full_similarity = compute_similarity(\n",
    "            self.similarity_type, \n",
    "            test_interactions_matrix, \n",
    "            self.interactions\n",
    "        )\n",
    "    \n",
    "        similarity = truncate_similarity(similarity=full_similarity, k=self.n_neighbors)\n",
    "    \n",
    "        popular_item_scores = similarity.dot(self.interactions[:, item_popularity[:top_pop].index]).toarray()\n",
    "        \n",
    "        return popular_item_scores, np.array(targets)"
   ]
  },
  {
   "cell_type": "code",
   "execution_count": null,
   "metadata": {},
   "outputs": [],
   "source": []
  },
  {
   "cell_type": "markdown",
   "metadata": {},
   "source": [
    "The following function enables random search over the model hyperparameter grid."
   ]
  },
  {
   "cell_type": "code",
   "execution_count": 42,
   "metadata": {},
   "outputs": [],
   "source": [
    "from polara.evaluation.pipelines import random_grid\n",
    "import random\n",
    "\n",
    "def find_best_model(Model_class, model_configs, data, data_description, target_metric='hr', gridsearch_size=None, seed=2024):\n",
    "    history = {}\n",
    "    \n",
    "    if gridsearch_size:\n",
    "        # seed is for reproducibility of config sampling\n",
    "        random.seed(seed)\n",
    "        param_grid, param_names = random_grid(model_configs, n=gridsearch_size)\n",
    "    else:\n",
    "        # perform the full search\n",
    "        whole_grid_size = 1\n",
    "        for lst in model_configs.values():\n",
    "            whole_grid_size *= len(lst)\n",
    "        param_grid, param_names = random_grid(model_configs, n=whole_grid_size)\n",
    "        \n",
    "\n",
    "    for config in tqdm(param_grid):\n",
    "        # for each sampled config measure the quality of the model on val set\n",
    "        # and save the results in a dictionary\n",
    "        current_config = dict(zip(param_names, config))\n",
    "        data_dict_val = {\n",
    "            'train':data['train'],\n",
    "            'test':data['val'],\n",
    "            'holdout':data['holdout_val']\n",
    "        }\n",
    "        \n",
    "        metrics, _ = build_evaluate_model(Model_class, current_config, data_dict_val, data_description)\n",
    "        history[config] = metrics\n",
    "\n",
    "    best_config = dict(zip(\n",
    "        param_names,\n",
    "        max(history, key=lambda x: history[x][target_metric]),\n",
    "    ))\n",
    "    data_dict_test = {\n",
    "        'train':data['train'], \n",
    "        'test':data['test'],\n",
    "        'holdout':data['holdout']\n",
    "    }\n",
    "    test_metrics, best_model = build_evaluate_model(Model_class, best_config, data_dict_test, data_description)\n",
    "    best_model = Model_class(best_config)\n",
    "    best_model.build(data_dict['train'], data_description)\n",
    "\n",
    "    return best_model, test_metrics, best_model, history, param_names"
   ]
  },
  {
   "cell_type": "code",
   "execution_count": 63,
   "metadata": {},
   "outputs": [],
   "source": [
    "data_dict = {\n",
    "    'train':training,\n",
    "    'val':testset_valid,\n",
    "    'holdout_val':holdout_valid,\n",
    "    'test':testset,\n",
    "    'holdout':holdout,\n",
    "}"
   ]
  },
  {
   "cell_type": "code",
   "execution_count": 64,
   "metadata": {},
   "outputs": [],
   "source": [
    "# knn_configs = {\n",
    "#     'similarity':['weighted_jaccard', 'jaccard', 'cosine'],\n",
    "#     'n_neighbors':np.arange(50, 401, 100)\n",
    "# }\n",
    "\n",
    "knn_configs = {\n",
    "    'similarity':['cosine'],\n",
    "    'n_neighbors':[350] #350\n",
    "}"
   ]
  },
  {
   "cell_type": "code",
   "execution_count": 45,
   "metadata": {},
   "outputs": [],
   "source": [
    "model = S_SKNN({'similarity': 'cosine',\n",
    "                'n_neighbors': 350})\n",
    "model.build(data_dict['train'][:2000000], data_description)"
   ]
  },
  {
   "cell_type": "code",
   "execution_count": 65,
   "metadata": {},
   "outputs": [
    {
     "data": {
      "application/vnd.jupyter.widget-view+json": {
       "model_id": "454a8cc6c4cb482ca68ef2e374d4b894",
       "version_major": 2,
       "version_minor": 0
      },
      "text/plain": [
       "  0%|          | 0/1 [00:00<?, ?it/s]"
      ]
     },
     "metadata": {},
     "output_type": "display_data"
    },
    {
     "name": "stdout",
     "output_type": "stream",
     "text": [
      "('cosine', 350) {'hr': 0.1424, 'mrr': 0.06843111111111111, 'ndcg': 0.08571868472013729, 'cov': 0.06310650352600808}\n"
     ]
    }
   ],
   "source": [
    "model, metrics_s_sknn, best_s_sknn_model, history_s_sknn, param_names_s_sknn = find_best_model(S_SKNN,\n",
    "                                                    knn_configs,\n",
    "                                                    data_dict,\n",
    "                                                    data_description, \n",
    "                                                    target_metric='hr')\n",
    "\n",
    "print(max(history_s_sknn, key=lambda x: history_s_sknn[x]['hr']), metrics_s_sknn)"
   ]
  },
  {
   "cell_type": "code",
   "execution_count": 66,
   "metadata": {},
   "outputs": [],
   "source": [
    "test_metrics = {\n",
    "    'S-SKNN':metrics_s_sknn\n",
    "}"
   ]
  },
  {
   "cell_type": "code",
   "execution_count": 67,
   "metadata": {},
   "outputs": [
    {
     "data": {
      "text/html": [
       "<div>\n",
       "<style scoped>\n",
       "    .dataframe tbody tr th:only-of-type {\n",
       "        vertical-align: middle;\n",
       "    }\n",
       "\n",
       "    .dataframe tbody tr th {\n",
       "        vertical-align: top;\n",
       "    }\n",
       "\n",
       "    .dataframe thead th {\n",
       "        text-align: right;\n",
       "    }\n",
       "</style>\n",
       "<table border=\"1\" class=\"dataframe\">\n",
       "  <thead>\n",
       "    <tr style=\"text-align: right;\">\n",
       "      <th></th>\n",
       "      <th>S-SKNN</th>\n",
       "    </tr>\n",
       "  </thead>\n",
       "  <tbody>\n",
       "    <tr>\n",
       "      <th>cov</th>\n",
       "      <td>0.063107</td>\n",
       "    </tr>\n",
       "    <tr>\n",
       "      <th>hr</th>\n",
       "      <td>0.142400</td>\n",
       "    </tr>\n",
       "    <tr>\n",
       "      <th>mrr</th>\n",
       "      <td>0.068431</td>\n",
       "    </tr>\n",
       "    <tr>\n",
       "      <th>ndcg</th>\n",
       "      <td>0.085719</td>\n",
       "    </tr>\n",
       "  </tbody>\n",
       "</table>\n",
       "</div>"
      ],
      "text/plain": [
       "        S-SKNN\n",
       "cov   0.063107\n",
       "hr    0.142400\n",
       "mrr   0.068431\n",
       "ndcg  0.085719"
      ]
     },
     "execution_count": 67,
     "metadata": {},
     "output_type": "execute_result"
    }
   ],
   "source": [
    "knn_results = pd.DataFrame.from_dict(test_metrics).T\n",
    "\n",
    "pd.concat([knn_results], axis=0).T"
   ]
  },
  {
   "cell_type": "code",
   "execution_count": 68,
   "metadata": {},
   "outputs": [],
   "source": [
    "# np.save('interactions.npy', model.interactions)\n",
    "import scipy\n",
    "scipy.sparse.save_npz('interactions.npz', model.interactions)"
   ]
  },
  {
   "cell_type": "markdown",
   "metadata": {},
   "source": [
    "## FQE"
   ]
  },
  {
   "cell_type": "code",
   "execution_count": 7,
   "metadata": {},
   "outputs": [],
   "source": [
    "# training_temp = pd.read_csv('../sasrec_zvuk/training_temp.csv')\n",
    "# testset_valid_temp_cut = pd.read_csv('../sasrec_zvuk/testset_valid_temp_cut.csv')\n",
    "# holdout_valid_temp_cut = pd.read_csv('../sasrec_zvuk/holdout_valid_temp_cut.csv')\n",
    "data_description_temp = {'users': 'userid',\n",
    " 'items': 'itemid',\n",
    " 'order': 'timestamp',\n",
    " 'n_users': training_temp.userid.nunique(),\n",
    " 'n_items': training_temp.itemid.max()\n",
    "}\n",
    "\n",
    "data_description_temp['timestamp'] = 'timestamp'\n",
    "data_description_temp['n_items'] = 232273 + 1\n",
    "item_popularity = pd.read_csv('item_popularity.csv')"
   ]
  },
  {
   "cell_type": "code",
   "execution_count": 8,
   "metadata": {},
   "outputs": [],
   "source": [
    "training_temp = training_temp[:1500000]"
   ]
  },
  {
   "cell_type": "code",
   "execution_count": 9,
   "metadata": {},
   "outputs": [],
   "source": [
    "training_temp['rating'] = np.ones(training_temp.shape[0])\n",
    "testset_valid_temp_cut['rating'] = np.ones(testset_valid_temp_cut.shape[0])"
   ]
  },
  {
   "cell_type": "code",
   "execution_count": 10,
   "metadata": {},
   "outputs": [],
   "source": [
    "import scipy\n",
    "interactions = scipy.sparse.load_npz('interactions.npz')"
   ]
  },
  {
   "cell_type": "code",
   "execution_count": 11,
   "metadata": {},
   "outputs": [],
   "source": [
    "device = \"cuda:1\"\n",
    "\n",
    "model = S_SKNN({'similarity': 'cosine',\n",
    "                'n_neighbors': 350})\n",
    "model.interactions = interactions\n",
    "model.data_description = data_description_temp\n",
    "model.item_popularity = item_popularity\n",
    "model.item_num = model.interactions.shape[1]\n",
    "model.pad_token = -1\n",
    "model.num_embeddings = model.item_num\n",
    "model.item_emb = torch.load(\"../sasrec_zvuk/saved_models/item_embs.pt\").to(device) #SVD embs"
   ]
  },
  {
   "cell_type": "code",
   "execution_count": 30,
   "metadata": {
    "tags": []
   },
   "outputs": [
    {
     "name": "stderr",
     "output_type": "stream",
     "text": [
      "100%|██████████| 60000/60000 [15:53<00:00, 62.95step/s, next_scores_len=45124]  \n"
     ]
    }
   ],
   "source": [
    "from rl_ope.utils import extract_states_actions\n",
    "\n",
    "states, next_states, next_scores, actions, ratings, sampled_seqs, actions_neg, full_sequences = extract_states_actions(training_temp,\n",
    "                                                                                              model, #model_D\n",
    "                                                                                              5,\n",
    "                                                                                               data_description_temp,\n",
    "                                                                                              \"cpu\",\n",
    "                                                                                              n_neg_samples=1,\n",
    "                                                                                              samples_per_user=2)"
   ]
  },
  {
   "cell_type": "code",
   "execution_count": 32,
   "metadata": {},
   "outputs": [],
   "source": [
    "np.save(\"states.npy\", states)\n",
    "np.save(\"next_states.npy\", next_states)\n",
    "np.save(\"next_scores.npy\", next_scores)\n",
    "np.save(\"actions_neg.npy\", actions_neg)\n",
    "np.save(\"actions.npy\", actions) \n",
    "np.save(\"ratings.npy\", ratings)\n",
    "np.save(\"sampled_seqs.npy\", sampled_seqs)"
   ]
  },
  {
   "cell_type": "code",
   "execution_count": 219,
   "metadata": {},
   "outputs": [],
   "source": [
    "states = np.load(\"states.npy\")\n",
    "next_states = np.load(\"next_states.npy\")\n",
    "next_scores = np.load(\"next_scores.npy\")\n",
    "actions_neg = np.load(\"actions_neg.npy\")[:, :1]\n",
    "actions = np.load(\"actions.npy\")\n",
    "ratings = np.load(\"ratings.npy\")\n",
    "sampled_seqs = np.load(\"sampled_seqs.npy\")"
   ]
  },
  {
   "cell_type": "code",
   "execution_count": 38,
   "metadata": {
    "tags": []
   },
   "outputs": [
    {
     "name": "stderr",
     "output_type": "stream",
     "text": [
      "100%|██████████| 1024/1024 [00:00<00:00, 38504.00it/s]\n"
     ]
    }
   ],
   "source": [
    "from rl_ope.utils import extract_states_actions_val\n",
    "from data import data_to_sequences\n",
    "\n",
    "states_val, scores_val, actions_val, ratings_val, state_seqs = extract_states_actions_val(testset_valid_temp_cut,\n",
    "                                                                     model, #model_D\n",
    "                                                                     5,\n",
    "                                                                     data_description_temp,\n",
    "                                                                     \"cpu\")\n",
    "\n",
    "full_sequences_val = data_to_sequences(testset_valid_temp_cut, data_description_temp)"
   ]
  },
  {
   "cell_type": "code",
   "execution_count": 56,
   "metadata": {},
   "outputs": [
    {
     "data": {
      "text/html": [
       "Finishing last run (ID:0d666a3e-9273-4f54-9b15-205bb718b051) before initializing another..."
      ],
      "text/plain": [
       "<IPython.core.display.HTML object>"
      ]
     },
     "metadata": {},
     "output_type": "display_data"
    },
    {
     "data": {
      "application/vnd.jupyter.widget-view+json": {
       "model_id": "",
       "version_major": 2,
       "version_minor": 0
      },
      "text/plain": [
       "VBox(children=(Label(value='0.031 MB of 0.031 MB uploaded\\r'), FloatProgress(value=1.0, max=1.0)))"
      ]
     },
     "metadata": {},
     "output_type": "display_data"
    },
    {
     "data": {
      "text/html": [
       "\n",
       "    <style>\n",
       "        .wandb-row {\n",
       "            display: flex;\n",
       "            flex-direction: row;\n",
       "            flex-wrap: wrap;\n",
       "            justify-content: flex-start;\n",
       "            width: 100%;\n",
       "        }\n",
       "        .wandb-col {\n",
       "            display: flex;\n",
       "            flex-direction: column;\n",
       "            flex-basis: 100%;\n",
       "            flex: 1;\n",
       "            padding: 10px;\n",
       "        }\n",
       "    </style>\n",
       "<div class=\"wandb-row\"><div class=\"wandb-col\"><h3>Run history:</h3><br/><table class=\"wandb\"><tr><td>loss</td><td>▁▁▁▁▁▁▁▁▁▁▁▁▁▁▂▁▁▁▁▁▂▁▁▂▁▁▁▃▂▃▂▄▃▃▃▇▂▇▃█</td></tr><tr><td>value on val</td><td>▁▂▂▃▃▃▄▄▄▄▅▅▅▅▅▅▆▆▆▆▆▇▆▆▇▇▇▇▇▇▇▇▇▇▇▇▇▆▇█</td></tr></table><br/></div><div class=\"wandb-col\"><h3>Run summary:</h3><br/><table class=\"wandb\"><tr><td>loss</td><td>56.8839</td></tr><tr><td>value on val</td><td>32.08041</td></tr></table><br/></div></div>"
      ],
      "text/plain": [
       "<IPython.core.display.HTML object>"
      ]
     },
     "metadata": {},
     "output_type": "display_data"
    },
    {
     "data": {
      "text/html": [
       " View run <strong style=\"color:#cdcd00\">FQE</strong> at: <a href='https://wandb.ai/levenson/FQE-SKNN/runs/0d666a3e-9273-4f54-9b15-205bb718b051' target=\"_blank\">https://wandb.ai/levenson/FQE-SKNN/runs/0d666a3e-9273-4f54-9b15-205bb718b051</a><br/> View project at: <a href='https://wandb.ai/levenson/FQE-SKNN' target=\"_blank\">https://wandb.ai/levenson/FQE-SKNN</a><br/>Synced 5 W&B file(s), 0 media file(s), 2 artifact file(s) and 0 other file(s)"
      ],
      "text/plain": [
       "<IPython.core.display.HTML object>"
      ]
     },
     "metadata": {},
     "output_type": "display_data"
    },
    {
     "data": {
      "text/html": [
       "Find logs at: <code>./wandb/run-20241204_004220-0d666a3e-9273-4f54-9b15-205bb718b051/logs</code>"
      ],
      "text/plain": [
       "<IPython.core.display.HTML object>"
      ]
     },
     "metadata": {},
     "output_type": "display_data"
    },
    {
     "data": {
      "text/html": [
       "Successfully finished last run (ID:0d666a3e-9273-4f54-9b15-205bb718b051). Initializing new run:<br/>"
      ],
      "text/plain": [
       "<IPython.core.display.HTML object>"
      ]
     },
     "metadata": {},
     "output_type": "display_data"
    },
    {
     "data": {
      "text/html": [
       "Tracking run with wandb version 0.18.7"
      ],
      "text/plain": [
       "<IPython.core.display.HTML object>"
      ]
     },
     "metadata": {},
     "output_type": "display_data"
    },
    {
     "data": {
      "text/html": [
       "Run data is saved locally in <code>/home/jovyan/ssknn/wandb/run-20241204_095646-cb6caf3d-42d1-4437-969f-d6de3948c94a</code>"
      ],
      "text/plain": [
       "<IPython.core.display.HTML object>"
      ]
     },
     "metadata": {},
     "output_type": "display_data"
    },
    {
     "data": {
      "text/html": [
       "Syncing run <strong><a href='https://wandb.ai/levenson/FQE-SKNN/runs/cb6caf3d-42d1-4437-969f-d6de3948c94a' target=\"_blank\">FQE</a></strong> to <a href='https://wandb.ai/levenson/FQE-SKNN' target=\"_blank\">Weights & Biases</a> (<a href='https://wandb.me/developer-guide' target=\"_blank\">docs</a>)<br/>"
      ],
      "text/plain": [
       "<IPython.core.display.HTML object>"
      ]
     },
     "metadata": {},
     "output_type": "display_data"
    },
    {
     "data": {
      "text/html": [
       " View project at <a href='https://wandb.ai/levenson/FQE-SKNN' target=\"_blank\">https://wandb.ai/levenson/FQE-SKNN</a>"
      ],
      "text/plain": [
       "<IPython.core.display.HTML object>"
      ]
     },
     "metadata": {},
     "output_type": "display_data"
    },
    {
     "data": {
      "text/html": [
       " View run at <a href='https://wandb.ai/levenson/FQE-SKNN/runs/cb6caf3d-42d1-4437-969f-d6de3948c94a' target=\"_blank\">https://wandb.ai/levenson/FQE-SKNN/runs/cb6caf3d-42d1-4437-969f-d6de3948c94a</a>"
      ],
      "text/plain": [
       "<IPython.core.display.HTML object>"
      ]
     },
     "metadata": {},
     "output_type": "display_data"
    },
    {
     "name": "stderr",
     "output_type": "stream",
     "text": [
      "100%|██████████| 178/178 [00:19<00:00,  9.33it/s]\n",
      "100%|██████████| 178/178 [00:19<00:00,  8.98it/s]\n",
      "100%|██████████| 178/178 [00:19<00:00,  8.93it/s]\n",
      "100%|██████████| 178/178 [00:19<00:00,  9.01it/s]\n",
      "100%|██████████| 178/178 [00:18<00:00,  9.60it/s]\n",
      "100%|██████████| 178/178 [00:18<00:00,  9.83it/s]\n",
      "100%|██████████| 178/178 [00:17<00:00, 10.40it/s]\n",
      "100%|██████████| 178/178 [00:17<00:00,  9.96it/s]\n",
      "100%|██████████| 178/178 [00:17<00:00, 10.02it/s]\n",
      "100%|██████████| 178/178 [00:17<00:00, 10.42it/s]\n",
      "100%|██████████| 178/178 [00:18<00:00,  9.44it/s]\n",
      "100%|██████████| 178/178 [00:19<00:00,  9.25it/s]\n",
      "100%|██████████| 178/178 [00:19<00:00,  9.21it/s]\n",
      "100%|██████████| 178/178 [00:18<00:00,  9.67it/s]\n",
      "100%|██████████| 178/178 [00:19<00:00,  9.07it/s]\n",
      "100%|██████████| 178/178 [00:18<00:00,  9.59it/s]\n",
      "100%|██████████| 178/178 [00:19<00:00,  9.08it/s]\n",
      "100%|██████████| 178/178 [00:17<00:00, 10.10it/s]\n",
      "100%|██████████| 178/178 [00:17<00:00, 10.09it/s]\n",
      "100%|██████████| 178/178 [00:18<00:00,  9.81it/s]\n",
      "100%|██████████| 178/178 [00:17<00:00, 10.01it/s]\n",
      "100%|██████████| 178/178 [00:18<00:00,  9.38it/s]\n",
      "100%|██████████| 178/178 [00:18<00:00,  9.78it/s]\n",
      "100%|██████████| 178/178 [00:17<00:00, 10.03it/s]\n",
      "100%|██████████| 178/178 [00:17<00:00, 10.07it/s]\n",
      "100%|██████████| 178/178 [00:18<00:00,  9.52it/s]\n",
      "100%|██████████| 178/178 [00:18<00:00,  9.71it/s]\n",
      "100%|██████████| 178/178 [00:18<00:00,  9.69it/s]\n",
      "100%|██████████| 178/178 [00:18<00:00,  9.72it/s]\n",
      "100%|██████████| 178/178 [00:18<00:00,  9.43it/s]\n",
      "100%|██████████| 178/178 [00:17<00:00,  9.89it/s]\n",
      "100%|██████████| 178/178 [00:18<00:00,  9.76it/s]\n",
      "100%|██████████| 178/178 [00:17<00:00, 10.01it/s]\n",
      "100%|██████████| 178/178 [00:18<00:00,  9.85it/s]\n",
      "100%|██████████| 178/178 [00:17<00:00,  9.94it/s]\n",
      "100%|██████████| 178/178 [00:18<00:00,  9.82it/s]\n",
      "100%|██████████| 178/178 [00:18<00:00,  9.86it/s]\n",
      "100%|██████████| 178/178 [00:18<00:00,  9.89it/s]\n",
      "100%|██████████| 178/178 [00:17<00:00, 10.36it/s]\n",
      "100%|██████████| 178/178 [00:19<00:00,  9.15it/s]\n",
      "100%|██████████| 178/178 [00:18<00:00,  9.47it/s]\n",
      "100%|██████████| 178/178 [00:18<00:00,  9.48it/s]\n",
      "100%|██████████| 178/178 [00:18<00:00,  9.87it/s]\n",
      "100%|██████████| 178/178 [00:17<00:00,  9.99it/s]\n",
      "100%|██████████| 178/178 [00:18<00:00,  9.69it/s]\n",
      "100%|██████████| 178/178 [00:18<00:00,  9.61it/s]\n",
      "100%|██████████| 178/178 [00:18<00:00,  9.70it/s]\n",
      " 82%|████████▏ | 146/178 [00:15<00:02, 13.60it/s]IOPub message rate exceeded.\n",
      "The notebook server will temporarily stop sending output\n",
      "to the client in order to avoid crashing it.\n",
      "To change this limit, set the config variable\n",
      "`--NotebookApp.iopub_msg_rate_limit`.\n",
      "\n",
      "Current values:\n",
      "NotebookApp.iopub_msg_rate_limit=1000.0 (msgs/sec)\n",
      "NotebookApp.rate_limit_window=3.0 (secs)\n",
      "\n",
      "100%|██████████| 178/178 [00:18<00:00,  9.84it/s]\n",
      "100%|██████████| 178/178 [00:18<00:00,  9.65it/s]\n",
      "100%|██████████| 178/178 [00:18<00:00,  9.56it/s]\n",
      "100%|██████████| 178/178 [00:18<00:00,  9.54it/s]\n",
      "100%|██████████| 178/178 [00:18<00:00,  9.38it/s]\n",
      "100%|██████████| 178/178 [00:17<00:00,  9.94it/s]\n",
      "100%|██████████| 178/178 [00:18<00:00,  9.53it/s]\n",
      "100%|██████████| 178/178 [00:18<00:00,  9.72it/s]\n",
      "100%|██████████| 178/178 [00:19<00:00,  9.31it/s]\n",
      "100%|██████████| 178/178 [00:17<00:00,  9.92it/s]\n",
      "100%|██████████| 178/178 [00:19<00:00,  9.09it/s]\n",
      "100%|██████████| 178/178 [00:18<00:00,  9.78it/s]\n",
      "100%|██████████| 178/178 [00:20<00:00,  8.89it/s]\n",
      "100%|██████████| 178/178 [00:18<00:00,  9.79it/s]\n",
      "100%|██████████| 178/178 [00:18<00:00,  9.71it/s]\n",
      "100%|██████████| 178/178 [00:19<00:00,  9.03it/s]\n",
      "100%|██████████| 178/178 [00:17<00:00, 10.01it/s]\n",
      "100%|██████████| 178/178 [00:19<00:00,  9.28it/s]\n",
      "100%|██████████| 178/178 [00:17<00:00, 10.04it/s]\n",
      "100%|██████████| 178/178 [00:17<00:00, 10.24it/s]\n",
      "100%|██████████| 178/178 [00:17<00:00, 10.03it/s]\n",
      "100%|██████████| 178/178 [00:18<00:00,  9.75it/s]\n",
      "100%|██████████| 178/178 [00:18<00:00,  9.69it/s]\n",
      "100%|██████████| 178/178 [00:18<00:00,  9.64it/s]\n",
      "100%|██████████| 178/178 [00:18<00:00,  9.84it/s]\n",
      "100%|██████████| 178/178 [00:19<00:00,  9.23it/s]\n",
      "100%|██████████| 178/178 [00:18<00:00,  9.75it/s]\n",
      "100%|██████████| 178/178 [00:18<00:00,  9.73it/s]\n",
      "100%|██████████| 178/178 [00:19<00:00,  9.07it/s]\n",
      "100%|██████████| 178/178 [00:19<00:00,  9.33it/s]\n",
      "100%|██████████| 178/178 [00:18<00:00,  9.39it/s]\n",
      "100%|██████████| 178/178 [00:19<00:00,  8.95it/s]\n",
      " 23%|██▎       | 41/178 [00:07<00:11, 11.75it/s]IOPub message rate exceeded.\n",
      "The notebook server will temporarily stop sending output\n",
      "to the client in order to avoid crashing it.\n",
      "To change this limit, set the config variable\n",
      "`--NotebookApp.iopub_msg_rate_limit`.\n",
      "\n",
      "Current values:\n",
      "NotebookApp.iopub_msg_rate_limit=1000.0 (msgs/sec)\n",
      "NotebookApp.rate_limit_window=3.0 (secs)\n",
      "\n",
      "100%|██████████| 178/178 [00:17<00:00, 10.04it/s]\n",
      "100%|██████████| 178/178 [00:18<00:00,  9.74it/s]\n",
      "100%|██████████| 178/178 [00:18<00:00,  9.58it/s]\n",
      "100%|██████████| 178/178 [00:20<00:00,  8.75it/s]\n",
      "100%|██████████| 178/178 [00:17<00:00,  9.95it/s]\n",
      "100%|██████████| 178/178 [00:17<00:00,  9.91it/s]\n",
      "100%|██████████| 178/178 [00:19<00:00,  9.32it/s]\n",
      "100%|██████████| 178/178 [00:19<00:00,  8.96it/s]\n",
      "100%|██████████| 178/178 [00:19<00:00,  9.13it/s]\n",
      "100%|██████████| 178/178 [00:18<00:00,  9.75it/s]\n",
      "100%|██████████| 178/178 [00:18<00:00,  9.73it/s]\n",
      "100%|██████████| 178/178 [00:17<00:00, 10.01it/s]\n",
      "100%|██████████| 178/178 [00:19<00:00,  9.11it/s]\n",
      "100%|██████████| 178/178 [00:18<00:00,  9.82it/s]\n",
      "100%|██████████| 178/178 [00:17<00:00, 10.07it/s]\n",
      "100%|██████████| 178/178 [00:17<00:00, 10.23it/s]\n",
      "100%|██████████| 178/178 [00:19<00:00,  9.15it/s]\n",
      "100%|██████████| 178/178 [00:19<00:00,  9.27it/s]\n",
      "100%|██████████| 178/178 [00:18<00:00,  9.58it/s]\n",
      "100%|██████████| 178/178 [00:18<00:00,  9.60it/s]\n",
      "100%|██████████| 178/178 [00:17<00:00,  9.93it/s]\n",
      "100%|██████████| 178/178 [00:18<00:00,  9.87it/s]\n",
      "100%|██████████| 178/178 [00:18<00:00,  9.74it/s]\n",
      "100%|██████████| 178/178 [00:18<00:00,  9.83it/s]\n",
      "100%|██████████| 178/178 [00:18<00:00,  9.82it/s]\n",
      "100%|██████████| 178/178 [00:20<00:00,  8.77it/s]\n",
      "100%|██████████| 178/178 [00:18<00:00,  9.79it/s]\n",
      "100%|██████████| 178/178 [00:17<00:00, 10.11it/s]\n",
      "100%|██████████| 178/178 [00:17<00:00, 10.16it/s]\n",
      "100%|██████████| 178/178 [00:17<00:00,  9.91it/s]\n",
      "100%|██████████| 178/178 [00:18<00:00,  9.49it/s]\n",
      "100%|██████████| 178/178 [00:17<00:00, 10.03it/s]\n",
      "100%|██████████| 178/178 [00:18<00:00,  9.52it/s]\n",
      "100%|██████████| 178/178 [00:18<00:00,  9.67it/s]\n",
      "100%|██████████| 178/178 [00:18<00:00,  9.47it/s]\n",
      "100%|██████████| 178/178 [00:19<00:00,  9.11it/s]\n",
      "100%|██████████| 178/178 [00:18<00:00,  9.61it/s]\n",
      "100%|██████████| 178/178 [00:18<00:00,  9.57it/s]\n",
      "100%|██████████| 178/178 [00:17<00:00, 10.21it/s]\n",
      "100%|██████████| 178/178 [00:18<00:00,  9.54it/s]\n",
      "100%|██████████| 178/178 [00:17<00:00, 10.08it/s]\n",
      "100%|██████████| 178/178 [00:20<00:00,  8.84it/s]\n",
      "100%|██████████| 178/178 [00:18<00:00,  9.49it/s]\n",
      "100%|██████████| 178/178 [00:18<00:00,  9.47it/s]\n",
      "100%|██████████| 178/178 [00:19<00:00,  9.36it/s]\n",
      "100%|██████████| 178/178 [00:18<00:00,  9.61it/s]\n",
      "100%|██████████| 178/178 [00:17<00:00, 10.22it/s]\n",
      "100%|██████████| 178/178 [00:17<00:00, 10.12it/s]\n",
      "100%|██████████| 178/178 [00:17<00:00,  9.97it/s]\n",
      "100%|██████████| 178/178 [00:17<00:00, 10.06it/s]\n",
      "100%|██████████| 178/178 [00:18<00:00,  9.69it/s]\n",
      "100%|██████████| 178/178 [00:17<00:00, 10.11it/s]\n",
      "100%|██████████| 178/178 [00:19<00:00,  9.02it/s]\n",
      "100%|██████████| 178/178 [00:18<00:00,  9.80it/s]\n",
      "100%|██████████| 178/178 [00:18<00:00,  9.39it/s]\n",
      "100%|██████████| 178/178 [00:17<00:00, 10.11it/s]\n",
      "100%|██████████| 178/178 [00:18<00:00,  9.39it/s]\n",
      "100%|██████████| 178/178 [00:17<00:00,  9.98it/s]\n",
      "100%|██████████| 178/178 [00:18<00:00,  9.45it/s]\n",
      "100%|██████████| 178/178 [00:19<00:00,  9.10it/s]\n",
      "100%|██████████| 178/178 [00:17<00:00,  9.91it/s]\n",
      "100%|██████████| 178/178 [00:18<00:00,  9.87it/s]\n",
      "100%|██████████| 178/178 [00:17<00:00,  9.97it/s]\n",
      "100%|██████████| 178/178 [00:19<00:00,  9.27it/s]\n",
      "100%|██████████| 178/178 [00:18<00:00,  9.82it/s]\n",
      "100%|██████████| 178/178 [00:20<00:00,  8.63it/s]\n",
      "100%|██████████| 178/178 [00:19<00:00,  9.03it/s]\n",
      "100%|██████████| 178/178 [00:19<00:00,  9.10it/s]\n",
      "100%|██████████| 178/178 [00:18<00:00,  9.46it/s]\n",
      "100%|██████████| 178/178 [00:18<00:00,  9.73it/s]\n",
      "100%|██████████| 178/178 [00:18<00:00,  9.84it/s]\n",
      "100%|██████████| 178/178 [00:18<00:00,  9.68it/s]\n",
      "100%|██████████| 178/178 [00:17<00:00, 10.05it/s]\n",
      "100%|██████████| 178/178 [00:17<00:00, 10.04it/s]\n",
      "100%|██████████| 178/178 [00:17<00:00,  9.94it/s]\n",
      "100%|██████████| 178/178 [00:18<00:00,  9.81it/s]\n",
      "100%|██████████| 178/178 [00:18<00:00,  9.76it/s]\n",
      "100%|██████████| 178/178 [00:18<00:00,  9.84it/s]\n",
      "100%|██████████| 178/178 [00:17<00:00,  9.91it/s]\n",
      "100%|██████████| 178/178 [00:18<00:00,  9.69it/s]\n",
      "100%|██████████| 178/178 [00:18<00:00,  9.50it/s]\n",
      "100%|██████████| 178/178 [00:17<00:00,  9.90it/s]\n",
      "100%|██████████| 178/178 [00:17<00:00, 10.15it/s]\n",
      "100%|██████████| 178/178 [00:17<00:00, 10.01it/s]\n",
      "100%|██████████| 178/178 [00:17<00:00, 10.12it/s]\n",
      "100%|██████████| 178/178 [00:18<00:00,  9.79it/s]\n",
      "100%|██████████| 178/178 [00:17<00:00, 10.02it/s]\n",
      "100%|██████████| 178/178 [00:17<00:00, 10.04it/s]\n",
      "100%|██████████| 178/178 [00:18<00:00,  9.68it/s]\n",
      "100%|██████████| 178/178 [00:18<00:00,  9.84it/s]\n",
      "100%|██████████| 178/178 [00:18<00:00,  9.67it/s]\n",
      "100%|██████████| 178/178 [00:17<00:00,  9.94it/s]\n",
      "100%|██████████| 178/178 [00:17<00:00, 10.11it/s]\n",
      "100%|██████████| 178/178 [00:17<00:00, 10.00it/s]\n",
      "100%|██████████| 178/178 [00:17<00:00,  9.97it/s]\n",
      "100%|██████████| 178/178 [00:18<00:00,  9.87it/s]\n",
      "100%|██████████| 178/178 [00:18<00:00,  9.77it/s]\n",
      "100%|██████████| 178/178 [00:18<00:00,  9.88it/s]\n",
      "100%|██████████| 178/178 [00:17<00:00, 10.04it/s]\n",
      "100%|██████████| 178/178 [00:18<00:00,  9.85it/s]\n",
      "100%|██████████| 178/178 [00:18<00:00,  9.86it/s]\n",
      "100%|██████████| 178/178 [00:18<00:00,  9.86it/s]\n",
      "100%|██████████| 178/178 [00:17<00:00, 10.10it/s]\n",
      "100%|██████████| 178/178 [00:18<00:00,  9.87it/s]\n",
      "100%|██████████| 178/178 [00:17<00:00, 10.07it/s]\n",
      "100%|██████████| 178/178 [00:17<00:00,  9.98it/s]\n",
      "100%|██████████| 178/178 [00:17<00:00,  9.89it/s]\n",
      "100%|██████████| 178/178 [00:18<00:00,  9.67it/s]\n",
      "100%|██████████| 178/178 [00:17<00:00, 10.05it/s]\n",
      "100%|██████████| 178/178 [00:17<00:00, 10.04it/s]\n",
      "100%|██████████| 178/178 [00:17<00:00, 10.06it/s]\n",
      "100%|██████████| 178/178 [00:17<00:00,  9.92it/s]\n",
      "100%|██████████| 178/178 [00:17<00:00, 10.21it/s]\n",
      "100%|██████████| 178/178 [00:18<00:00,  9.83it/s]\n",
      "100%|██████████| 178/178 [00:17<00:00,  9.96it/s]\n"
     ]
    }
   ],
   "source": [
    "from data import data_to_sequences_rating\n",
    "from rl_ope.fqe import RLDatasetOnline, RLDatasetOnlineVal, FQE\n",
    "import os\n",
    "import wandb\n",
    "import uuid\n",
    "\n",
    "# device = \"cpu\"\n",
    "device = \"cuda:1\"\n",
    "\n",
    "state_dim = len(states[0])\n",
    "n_actions = model.item_num\n",
    "all_actions = np.arange(n_actions, dtype=np.int32)\n",
    "\n",
    "model.item_emb = model.item_emb.to(\"cpu\")\n",
    "\n",
    "full_sequences = data_to_sequences_rating(training_temp, data_description_temp, -1)\n",
    "\n",
    "dataset_config = {\n",
    "    \"states\": states,\n",
    "    \"next_states\": next_states,\n",
    "    \"next_scores\": next_scores,\n",
    "    \"actions\": actions,\n",
    "    \"rewards\": ratings,\n",
    "    \"all_actions\": all_actions,\n",
    "    \"sampled_seqs\": sampled_seqs,\n",
    "    \"actions_neg\": actions_neg,\n",
    "    \"full_sequences\": full_sequences,\n",
    "    \"n\": 5,\n",
    "    \"pad_token\": None,\n",
    "    \"samples_per_user\": 2,\n",
    "    \"n_neg_samples\": 1\n",
    "}\n",
    "\n",
    "dataset_val_config = {\n",
    "    \"states\": states_val,\n",
    "    \"scores\": scores_val,\n",
    "    \"actions\": actions_val,\n",
    "    \"rewards\": ratings_val,\n",
    "    \"state_seqs\": state_seqs,\n",
    "    \"full_sequences\": full_sequences_val,\n",
    "    \"n\": 5,\n",
    "    \"pad_token\": None\n",
    "}\n",
    "optim_conf = {\n",
    "            \"lr\": 3e-4,\n",
    "            \"weight_decay\": 1e-4\n",
    "        }\n",
    "\n",
    "fqe_params = {\n",
    "            \"n_epochs\": 300,\n",
    "            \"hidden_size\": 512,\n",
    "            \"bs\": 256\n",
    "        }\n",
    "\n",
    "gamma = 0.98\n",
    "\n",
    "os.environ[\"WANDB_API_KEY\"] = \"YOUR API KEY\" # Change to your W&B profile if you need it\n",
    "os.environ[\"WANDB_MODE\"] = \"online\"\n",
    "\n",
    "wandb_conf = dict(\n",
    "    project= \"FQE-SKNN\",\n",
    "    group= \"FQE-SKNN\",\n",
    "    name= \"FQE\",\n",
    "    params=dict(\n",
    "        fqe_params=fqe_params,\n",
    "        n_neg_samples=1,\n",
    "        subseq_len=5,\n",
    "        samples_per_user=2\n",
    "    )\n",
    ")\n",
    "\n",
    "wandb.init(\n",
    "    config=wandb_conf[\"params\"],\n",
    "    project=wandb_conf[\"project\"],\n",
    "    group=wandb_conf[\"group\"],\n",
    "    name=wandb_conf[\"name\"],\n",
    "    id=str(uuid.uuid4()),\n",
    ")\n",
    "wandb.run.save()\n",
    "\n",
    "dataset_config[\"pad_token\"] = model.pad_token\n",
    "dataset_val_config[\"pad_token\"] = model.pad_token\n",
    "\n",
    "dataset = RLDatasetOnline(dataset_config)\n",
    "val_dataset = RLDatasetOnlineVal(dataset_val_config)\n",
    "\n",
    "model.item_emb = model.item_emb.to(\"cpu\")\n",
    "\n",
    "import logging\n",
    "logger = logging.getLogger(\"fqe\")\n",
    "fh = logging.FileHandler('run_fqe.log')\n",
    "fh.setLevel(logging.INFO) # or any level you want\n",
    "logger.addHandler(fh)\n",
    "\n",
    "fqe = FQE(dataset,\n",
    "          val_dataset,\n",
    "          model,\n",
    "          optim_conf,\n",
    "          fqe_params[\"n_epochs\"],\n",
    "          state_dim,\n",
    "          n_actions,\n",
    "          fqe_params[\"hidden_size\"],\n",
    "          gamma=gamma,\n",
    "          tau=0.02,\n",
    "          n_sampled_actions=1000,\n",
    "          device=device)\n",
    "\n",
    "values = fqe.train(batch_size=fqe_params[\"bs\"], plot_info=False)"
   ]
  },
  {
   "cell_type": "markdown",
   "metadata": {},
   "source": [
    "## Baseline PureSVD"
   ]
  },
  {
   "cell_type": "code",
   "execution_count": 290,
   "metadata": {},
   "outputs": [],
   "source": [
    "from scipy.sparse.linalg import svds"
   ]
  },
  {
   "cell_type": "code",
   "execution_count": 291,
   "metadata": {},
   "outputs": [],
   "source": [
    "import numpy as np\n",
    "from scipy.sparse import csr_matrix\n",
    "\n",
    "def transform_indices(data, users, items):\n",
    "    data_index = {}\n",
    "    for entity, field in zip(['users', 'items'], [users, items]):\n",
    "        idx, idx_map = to_numeric_id(data, field)\n",
    "        data_index[entity] = idx_map\n",
    "        data.loc[:, field] = idx\n",
    "    return data, data_index\n",
    "\n",
    "def to_numeric_id(data, field):\n",
    "    idx_data = data[field].astype(\"category\")\n",
    "    idx = idx_data.cat.codes\n",
    "    idx_map = idx_data.cat.categories.rename(field)\n",
    "    return idx, idx_map\n",
    "\n",
    "\n",
    "def matrix_from_data(data, data_description, dtype=None):\n",
    "    '''\n",
    "    Converts pandas DataFrame into sparse CSR matrix.\n",
    "    Assumes data in the DataFrame is alread normalized via `transform_indices`.\n",
    "    '''\n",
    "    # get indices of observed data\n",
    "    user_idx = data[data_description['users']].values\n",
    "    item_idx = data[data_description['items']].values\n",
    "    feedback_data = data_description.get('feedback', None)\n",
    "    if feedback_data is not None:\n",
    "        feedback = data[feedback_data].values\n",
    "    else:\n",
    "        feedback = np.ones(len(user_idx))\n",
    "    # construct rating matrix\n",
    "    shape = (data_description['n_users'], data_description['n_items'])\n",
    "    return csr_matrix((feedback, (user_idx, item_idx)), shape=shape, dtype=dtype)"
   ]
  },
  {
   "cell_type": "code",
   "execution_count": 292,
   "metadata": {},
   "outputs": [],
   "source": [
    "def build_svd_model(config, data, data_description):\n",
    "    source_matrix = matrix_from_data(data, data_description)\n",
    "    _, s, vt = svds(source_matrix, k=config['rank'], return_singular_vectors='vh')\n",
    "    singular_values = s[::-1]\n",
    "    item_factors = np.ascontiguousarray(vt[::-1, :].T)\n",
    "    return item_factors, singular_values"
   ]
  },
  {
   "cell_type": "code",
   "execution_count": 293,
   "metadata": {},
   "outputs": [],
   "source": [
    "def svd_model_scoring(params, data, data_description):\n",
    "    item_factors, sigma = params\n",
    "    n_test_users = data[data_description['users']].nunique()\n",
    "    test_matrix = matrix_from_data(data, {**data_description, **{'n_users': n_test_users}})\n",
    "    scores = test_matrix.dot(item_factors) @ item_factors.T\n",
    "    return scores"
   ]
  },
  {
   "cell_type": "code",
   "execution_count": 303,
   "metadata": {},
   "outputs": [],
   "source": [
    "def evaluate_svd(params):\n",
    "    scores = svd_model_scoring(params, testset_svd, data_description)\n",
    "    downvote_seen_items(scores, testset, data_description)\n",
    "    recs = topn_recommendations(scores, topn=10)\n",
    "    return model_evaluate(recs, holdout, data_description)"
   ]
  },
  {
   "cell_type": "code",
   "execution_count": 295,
   "metadata": {},
   "outputs": [
    {
     "data": {
      "text/html": [
       "<div>\n",
       "<style scoped>\n",
       "    .dataframe tbody tr th:only-of-type {\n",
       "        vertical-align: middle;\n",
       "    }\n",
       "\n",
       "    .dataframe tbody tr th {\n",
       "        vertical-align: top;\n",
       "    }\n",
       "\n",
       "    .dataframe thead th {\n",
       "        text-align: right;\n",
       "    }\n",
       "</style>\n",
       "<table border=\"1\" class=\"dataframe\">\n",
       "  <thead>\n",
       "    <tr style=\"text-align: right;\">\n",
       "      <th></th>\n",
       "      <th>userid</th>\n",
       "      <th>itemid</th>\n",
       "      <th>rating</th>\n",
       "      <th>timestamp</th>\n",
       "    </tr>\n",
       "  </thead>\n",
       "  <tbody>\n",
       "    <tr>\n",
       "      <th>31</th>\n",
       "      <td>0</td>\n",
       "      <td>2935</td>\n",
       "      <td>1.0</td>\n",
       "      <td>978300019</td>\n",
       "    </tr>\n",
       "    <tr>\n",
       "      <th>22</th>\n",
       "      <td>0</td>\n",
       "      <td>1160</td>\n",
       "      <td>1.0</td>\n",
       "      <td>978300055</td>\n",
       "    </tr>\n",
       "    <tr>\n",
       "      <th>27</th>\n",
       "      <td>0</td>\n",
       "      <td>1552</td>\n",
       "      <td>1.0</td>\n",
       "      <td>978300055</td>\n",
       "    </tr>\n",
       "    <tr>\n",
       "      <th>37</th>\n",
       "      <td>0</td>\n",
       "      <td>941</td>\n",
       "      <td>1.0</td>\n",
       "      <td>978300055</td>\n",
       "    </tr>\n",
       "    <tr>\n",
       "      <th>24</th>\n",
       "      <td>0</td>\n",
       "      <td>2117</td>\n",
       "      <td>1.0</td>\n",
       "      <td>978300103</td>\n",
       "    </tr>\n",
       "    <tr>\n",
       "      <th>...</th>\n",
       "      <td>...</td>\n",
       "      <td>...</td>\n",
       "      <td>...</td>\n",
       "      <td>...</td>\n",
       "    </tr>\n",
       "    <tr>\n",
       "      <th>999923</th>\n",
       "      <td>1738</td>\n",
       "      <td>225</td>\n",
       "      <td>1.0</td>\n",
       "      <td>997454398</td>\n",
       "    </tr>\n",
       "    <tr>\n",
       "      <th>1000019</th>\n",
       "      <td>1738</td>\n",
       "      <td>2676</td>\n",
       "      <td>1.0</td>\n",
       "      <td>997454429</td>\n",
       "    </tr>\n",
       "    <tr>\n",
       "      <th>999988</th>\n",
       "      <td>1738</td>\n",
       "      <td>1716</td>\n",
       "      <td>1.0</td>\n",
       "      <td>997454464</td>\n",
       "    </tr>\n",
       "    <tr>\n",
       "      <th>1000172</th>\n",
       "      <td>1738</td>\n",
       "      <td>1595</td>\n",
       "      <td>1.0</td>\n",
       "      <td>997454464</td>\n",
       "    </tr>\n",
       "    <tr>\n",
       "      <th>1000167</th>\n",
       "      <td>1738</td>\n",
       "      <td>155</td>\n",
       "      <td>1.0</td>\n",
       "      <td>997454486</td>\n",
       "    </tr>\n",
       "  </tbody>\n",
       "</table>\n",
       "<p>198136 rows × 4 columns</p>\n",
       "</div>"
      ],
      "text/plain": [
       "         userid  itemid  rating  timestamp\n",
       "31            0    2935     1.0  978300019\n",
       "22            0    1160     1.0  978300055\n",
       "27            0    1552     1.0  978300055\n",
       "37            0     941     1.0  978300055\n",
       "24            0    2117     1.0  978300103\n",
       "...         ...     ...     ...        ...\n",
       "999923     1738     225     1.0  997454398\n",
       "1000019    1738    2676     1.0  997454429\n",
       "999988     1738    1716     1.0  997454464\n",
       "1000172    1738    1595     1.0  997454464\n",
       "1000167    1738     155     1.0  997454486\n",
       "\n",
       "[198136 rows x 4 columns]"
      ]
     },
     "execution_count": 295,
     "metadata": {},
     "output_type": "execute_result"
    }
   ],
   "source": [
    "testset_svd"
   ]
  },
  {
   "cell_type": "code",
   "execution_count": 296,
   "metadata": {},
   "outputs": [],
   "source": [
    "from sklearn.preprocessing import LabelEncoder"
   ]
  },
  {
   "cell_type": "code",
   "execution_count": 297,
   "metadata": {},
   "outputs": [],
   "source": [
    "encoder = LabelEncoder()\n",
    "testset_svd = testset.copy()\n",
    "testset_svd['userid'] = encoder.fit_transform(testset_svd['userid'])"
   ]
  },
  {
   "cell_type": "code",
   "execution_count": 298,
   "metadata": {},
   "outputs": [],
   "source": [
    "training['rating'] = 1.\n",
    "testset_svd['rating'] = 1."
   ]
  },
  {
   "cell_type": "code",
   "execution_count": 304,
   "metadata": {},
   "outputs": [
    {
     "data": {
      "application/vnd.jupyter.widget-view+json": {
       "model_id": "8599aac268704d4bba6247ded76a1baa",
       "version_major": 2,
       "version_minor": 0
      },
      "text/plain": [
       "  0%|          | 0/14 [00:00<?, ?it/s]"
      ]
     },
     "metadata": {},
     "output_type": "display_data"
    }
   ],
   "source": [
    "svd_tuning_ranks = [b*2**i for i in range(3, 10) for b in [2, 3]]\n",
    "svd_params = build_svd_model(\n",
    "    {'rank': max(svd_tuning_ranks)},\n",
    "    training,\n",
    "    data_description\n",
    ")\n",
    "svd_tuning = {}\n",
    "for rank in tqdm(svd_tuning_ranks):\n",
    "    # standard model\n",
    "    item_factors, singvals = svd_params\n",
    "    rank_params = item_factors[:, :rank], singvals[:rank]\n",
    "    svd_tuning[rank] = evaluate_svd(rank_params)"
   ]
  },
  {
   "cell_type": "code",
   "execution_count": 309,
   "metadata": {},
   "outputs": [],
   "source": [
    "svd_results = (\n",
    "    pd.Series(svd_tuning)\n",
    "    .apply(pd.Series)\n",
    ")"
   ]
  },
  {
   "cell_type": "code",
   "execution_count": 311,
   "metadata": {},
   "outputs": [
    {
     "data": {
      "text/html": [
       "<div>\n",
       "<style scoped>\n",
       "    .dataframe tbody tr th:only-of-type {\n",
       "        vertical-align: middle;\n",
       "    }\n",
       "\n",
       "    .dataframe tbody tr th {\n",
       "        vertical-align: top;\n",
       "    }\n",
       "\n",
       "    .dataframe thead th {\n",
       "        text-align: right;\n",
       "    }\n",
       "</style>\n",
       "<table border=\"1\" class=\"dataframe\">\n",
       "  <thead>\n",
       "    <tr style=\"text-align: right;\">\n",
       "      <th></th>\n",
       "      <th>hr</th>\n",
       "      <th>mrr</th>\n",
       "      <th>ndcg</th>\n",
       "      <th>cov</th>\n",
       "    </tr>\n",
       "  </thead>\n",
       "  <tbody>\n",
       "    <tr>\n",
       "      <th>16</th>\n",
       "      <td>0.050604</td>\n",
       "      <td>0.014460</td>\n",
       "      <td>0.022663</td>\n",
       "      <td>0.166484</td>\n",
       "    </tr>\n",
       "    <tr>\n",
       "      <th>24</th>\n",
       "      <td>0.058079</td>\n",
       "      <td>0.014936</td>\n",
       "      <td>0.024766</td>\n",
       "      <td>0.190541</td>\n",
       "    </tr>\n",
       "    <tr>\n",
       "      <th>32</th>\n",
       "      <td>0.065555</td>\n",
       "      <td>0.018309</td>\n",
       "      <td>0.029066</td>\n",
       "      <td>0.203663</td>\n",
       "    </tr>\n",
       "    <tr>\n",
       "      <th>48</th>\n",
       "      <td>0.065555</td>\n",
       "      <td>0.022143</td>\n",
       "      <td>0.032061</td>\n",
       "      <td>0.230727</td>\n",
       "    </tr>\n",
       "    <tr>\n",
       "      <th>64</th>\n",
       "      <td>0.069005</td>\n",
       "      <td>0.020676</td>\n",
       "      <td>0.031751</td>\n",
       "      <td>0.244396</td>\n",
       "    </tr>\n",
       "    <tr>\n",
       "      <th>96</th>\n",
       "      <td>0.070155</td>\n",
       "      <td>0.023983</td>\n",
       "      <td>0.034652</td>\n",
       "      <td>0.266266</td>\n",
       "    </tr>\n",
       "    <tr>\n",
       "      <th>128</th>\n",
       "      <td>0.075331</td>\n",
       "      <td>0.025867</td>\n",
       "      <td>0.037262</td>\n",
       "      <td>0.280208</td>\n",
       "    </tr>\n",
       "    <tr>\n",
       "      <th>192</th>\n",
       "      <td>0.075906</td>\n",
       "      <td>0.024768</td>\n",
       "      <td>0.036579</td>\n",
       "      <td>0.308092</td>\n",
       "    </tr>\n",
       "    <tr>\n",
       "      <th>256</th>\n",
       "      <td>0.073030</td>\n",
       "      <td>0.025092</td>\n",
       "      <td>0.036220</td>\n",
       "      <td>0.332695</td>\n",
       "    </tr>\n",
       "    <tr>\n",
       "      <th>384</th>\n",
       "      <td>0.064980</td>\n",
       "      <td>0.021254</td>\n",
       "      <td>0.031308</td>\n",
       "      <td>0.374795</td>\n",
       "    </tr>\n",
       "    <tr>\n",
       "      <th>512</th>\n",
       "      <td>0.064980</td>\n",
       "      <td>0.021053</td>\n",
       "      <td>0.031209</td>\n",
       "      <td>0.415801</td>\n",
       "    </tr>\n",
       "    <tr>\n",
       "      <th>768</th>\n",
       "      <td>0.062680</td>\n",
       "      <td>0.021016</td>\n",
       "      <td>0.030635</td>\n",
       "      <td>0.478130</td>\n",
       "    </tr>\n",
       "    <tr>\n",
       "      <th>1024</th>\n",
       "      <td>0.050604</td>\n",
       "      <td>0.017051</td>\n",
       "      <td>0.024826</td>\n",
       "      <td>0.520776</td>\n",
       "    </tr>\n",
       "    <tr>\n",
       "      <th>1536</th>\n",
       "      <td>0.027027</td>\n",
       "      <td>0.012033</td>\n",
       "      <td>0.015475</td>\n",
       "      <td>0.551394</td>\n",
       "    </tr>\n",
       "  </tbody>\n",
       "</table>\n",
       "</div>"
      ],
      "text/plain": [
       "            hr       mrr      ndcg       cov\n",
       "16    0.050604  0.014460  0.022663  0.166484\n",
       "24    0.058079  0.014936  0.024766  0.190541\n",
       "32    0.065555  0.018309  0.029066  0.203663\n",
       "48    0.065555  0.022143  0.032061  0.230727\n",
       "64    0.069005  0.020676  0.031751  0.244396\n",
       "96    0.070155  0.023983  0.034652  0.266266\n",
       "128   0.075331  0.025867  0.037262  0.280208\n",
       "192   0.075906  0.024768  0.036579  0.308092\n",
       "256   0.073030  0.025092  0.036220  0.332695\n",
       "384   0.064980  0.021254  0.031308  0.374795\n",
       "512   0.064980  0.021053  0.031209  0.415801\n",
       "768   0.062680  0.021016  0.030635  0.478130\n",
       "1024  0.050604  0.017051  0.024826  0.520776\n",
       "1536  0.027027  0.012033  0.015475  0.551394"
      ]
     },
     "execution_count": 311,
     "metadata": {},
     "output_type": "execute_result"
    }
   ],
   "source": [
    "svd_results"
   ]
  },
  {
   "cell_type": "code",
   "execution_count": 310,
   "metadata": {},
   "outputs": [
    {
     "data": {
      "image/png": "[encoded data removed]",
      "text/plain": [
       "<Figure size 640x480 with 2 Axes>"
      ]
     },
     "metadata": {},
     "output_type": "display_data"
    }
   ],
   "source": [
    "svd_results['hr'].plot(label='hr', legend=True, ylabel='Metric', xlabel='rank')\n",
    "svd_results['mrr'].plot(secondary_y=True, label='mrr', legend=True);"
   ]
  },
  {
   "cell_type": "code",
   "execution_count": null,
   "metadata": {},
   "outputs": [],
   "source": []
  }
 ],
 "metadata": {
  "kernelspec": {
   "display_name": "Python 3 (ipykernel)",
   "language": "python",
   "name": "python3"
  },
  "language_info": {
   "codemirror_mode": {
    "name": "ipython",
    "version": 3
   },
   "file_extension": ".py",
   "mimetype": "text/x-python",
   "name": "python",
   "nbconvert_exporter": "python",
   "pygments_lexer": "ipython3",
   "version": "3.7.12"
  }
 },
 "nbformat": 4,
 "nbformat_minor": 4
}
